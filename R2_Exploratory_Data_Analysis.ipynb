{
 "cells": [
  {
   "attachments": {},
   "cell_type": "markdown",
   "metadata": {},
   "source": [
    "## 2️⃣ Exploratory Data Analysis (EDA)\n",
    "<!-- **Designed by:** [datamover.ai](https://www.datamover.ai) -->"
   ]
  },
  {
   "cell_type": "code",
   "execution_count": 33,
   "metadata": {},
   "outputs": [],
   "source": [
    "import matplotlib.pyplot as plt\n",
    "import numpy as np\n",
    "import pandas as pd\n",
    "import seaborn as sns\n",
    "from IPython.display import display\n",
    "from scipy import stats\n",
    "from fitter import Fitter, get_common_distributions, get_distributions\n",
    "from R2_functions import normal_check\n",
    "from R2_functions import univariate_outlier_removal\n",
    "\n",
    "\n",
    "# Set random seed\n",
    "np.random.seed(42)"
   ]
  },
  {
   "attachments": {},
   "cell_type": "markdown",
   "metadata": {},
   "source": [
    "**1. Load the train set and sample the dataset to a manageable size if necessary**"
   ]
  },
  {
   "cell_type": "markdown",
   "metadata": {},
   "source": [
    "This [article](https://www.kaggle.com/code/alexisbcook/data-leakage) explained the necessity to perform EDA on train set only, preventing from data leakage."
   ]
  },
  {
   "cell_type": "code",
   "execution_count": 34,
   "metadata": {},
   "outputs": [
    {
     "name": "stdout",
     "output_type": "stream",
     "text": [
      "Size data: 0.10 Mb\n"
     ]
    }
   ],
   "source": [
    "# Load data: \n",
    "data = pd.read_csv(\"./data/data_train.csv\")\n",
    "df_train = pd.DataFrame(data) # rename data to df_train\n",
    "\n",
    "# Similarly, before proceeding to the task, visualise the size of dataset and inspect storage\n",
    "size_b = df_train.memory_usage(deep=True).sum()  # get size in byte\n",
    "size_mb = size_b / (1024 * 1024)  # convert byte to mb\n",
    "print(f\"Size data: {size_mb:.2f} Mb\")"
   ]
  },
  {
   "cell_type": "code",
   "execution_count": 35,
   "metadata": {},
   "outputs": [
    {
     "name": "stdout",
     "output_type": "stream",
     "text": [
      "(554, 7)\n"
     ]
    },
    {
     "data": {
      "text/html": [
       "<div>\n",
       "<style scoped>\n",
       "    .dataframe tbody tr th:only-of-type {\n",
       "        vertical-align: middle;\n",
       "    }\n",
       "\n",
       "    .dataframe tbody tr th {\n",
       "        vertical-align: top;\n",
       "    }\n",
       "\n",
       "    .dataframe thead th {\n",
       "        text-align: right;\n",
       "    }\n",
       "</style>\n",
       "<table border=\"1\" class=\"dataframe\">\n",
       "  <thead>\n",
       "    <tr style=\"text-align: right;\">\n",
       "      <th></th>\n",
       "      <th>Price</th>\n",
       "      <th>Address</th>\n",
       "      <th>Zip</th>\n",
       "      <th>Area</th>\n",
       "      <th>Room</th>\n",
       "      <th>Lon</th>\n",
       "      <th>Lat</th>\n",
       "    </tr>\n",
       "  </thead>\n",
       "  <tbody>\n",
       "    <tr>\n",
       "      <th>0</th>\n",
       "      <td>635000.0</td>\n",
       "      <td>Niersstraat 35 HS, Amsterdam</td>\n",
       "      <td>1078 VH</td>\n",
       "      <td>81</td>\n",
       "      <td>3</td>\n",
       "      <td>4.894509</td>\n",
       "      <td>52.343016</td>\n",
       "    </tr>\n",
       "    <tr>\n",
       "      <th>1</th>\n",
       "      <td>400000.0</td>\n",
       "      <td>Jan van Riebeekstraat 3 1, Amsterdam</td>\n",
       "      <td>1057 ZW</td>\n",
       "      <td>61</td>\n",
       "      <td>2</td>\n",
       "      <td>4.858697</td>\n",
       "      <td>52.370661</td>\n",
       "    </tr>\n",
       "    <tr>\n",
       "      <th>2</th>\n",
       "      <td>695000.0</td>\n",
       "      <td>Da Costakade 171 III, Amsterdam</td>\n",
       "      <td>1053 WX</td>\n",
       "      <td>88</td>\n",
       "      <td>3</td>\n",
       "      <td>4.874092</td>\n",
       "      <td>52.367502</td>\n",
       "    </tr>\n",
       "  </tbody>\n",
       "</table>\n",
       "</div>"
      ],
      "text/plain": [
       "      Price                               Address      Zip  Area  Room  \\\n",
       "0  635000.0          Niersstraat 35 HS, Amsterdam  1078 VH    81     3   \n",
       "1  400000.0  Jan van Riebeekstraat 3 1, Amsterdam  1057 ZW    61     2   \n",
       "2  695000.0       Da Costakade 171 III, Amsterdam  1053 WX    88     3   \n",
       "\n",
       "        Lon        Lat  \n",
       "0  4.894509  52.343016  \n",
       "1  4.858697  52.370661  \n",
       "2  4.874092  52.367502  "
      ]
     },
     "execution_count": 35,
     "metadata": {},
     "output_type": "execute_result"
    }
   ],
   "source": [
    "# Display train set data table: \n",
    "print(df_train.shape)\n",
    "df_train.head(3)"
   ]
  },
  {
   "cell_type": "code",
   "execution_count": 36,
   "metadata": {},
   "outputs": [
    {
     "name": "stdout",
     "output_type": "stream",
     "text": [
      "<class 'pandas.core.frame.DataFrame'>\n",
      "RangeIndex: 554 entries, 0 to 553\n",
      "Data columns (total 7 columns):\n",
      " #   Column   Non-Null Count  Dtype  \n",
      "---  ------   --------------  -----  \n",
      " 0   Price    552 non-null    float64\n",
      " 1   Address  554 non-null    object \n",
      " 2   Zip      554 non-null    object \n",
      " 3   Area     554 non-null    int64  \n",
      " 4   Room     554 non-null    int64  \n",
      " 5   Lon      554 non-null    float64\n",
      " 6   Lat      554 non-null    float64\n",
      "dtypes: float64(3), int64(2), object(2)\n",
      "memory usage: 30.4+ KB\n"
     ]
    }
   ],
   "source": [
    "# Inspect train set data structure,  \n",
    "df_train.info()"
   ]
  },
  {
   "attachments": {},
   "cell_type": "markdown",
   "metadata": {},
   "source": [
    "**2. For supervised learning tasks, identify the target attribute(s)**"
   ]
  },
  {
   "cell_type": "code",
   "execution_count": 37,
   "metadata": {},
   "outputs": [],
   "source": [
    "Y_target = \"Price\""
   ]
  },
  {
   "attachments": {},
   "cell_type": "markdown",
   "metadata": {},
   "source": [
    "**3. Study each attribute and its characteristics:**"
   ]
  },
  {
   "attachments": {},
   "cell_type": "markdown",
   "metadata": {},
   "source": [
    "**3 a. Name**"
   ]
  },
  {
   "cell_type": "code",
   "execution_count": 38,
   "metadata": {},
   "outputs": [
    {
     "data": {
      "text/plain": [
       "Index(['Price', 'Address', 'Zip', 'Area', 'Room', 'Lon', 'Lat'], dtype='object')"
      ]
     },
     "execution_count": 38,
     "metadata": {},
     "output_type": "execute_result"
    }
   ],
   "source": [
    "df_train.columns"
   ]
  },
  {
   "attachments": {},
   "cell_type": "markdown",
   "metadata": {},
   "source": [
    "**3 b. For tabular data, define the data type of each variable, namely:**\n",
    "\n",
    "- `Nominal`: Named categories, e.g., `gender : ['Female', 'Male']`\n",
    "- `Ordinal`: Categories with an implied order, e.g. `quality : [Low, Medium, High]`\n",
    "- `Discrete`: Only particular numbers, e.g., `age: {1,2,3,...,58,59,60}`\n",
    "- `Continuous`: Any numerical value, e.g. `weight: {38.9,45.5}`\n",
    "    \n",
    "📝 Nominal and ordinal data types are considered qualitative (**categorical**) features, whereas discrete and continuous data types are considered numerical (**quantitative**) features."
   ]
  },
  {
   "cell_type": "code",
   "execution_count": 39,
   "metadata": {},
   "outputs": [
    {
     "data": {
      "text/html": [
       "<div>\n",
       "<style scoped>\n",
       "    .dataframe tbody tr th:only-of-type {\n",
       "        vertical-align: middle;\n",
       "    }\n",
       "\n",
       "    .dataframe tbody tr th {\n",
       "        vertical-align: top;\n",
       "    }\n",
       "\n",
       "    .dataframe thead th {\n",
       "        text-align: right;\n",
       "    }\n",
       "</style>\n",
       "<table border=\"1\" class=\"dataframe\">\n",
       "  <thead>\n",
       "    <tr style=\"text-align: right;\">\n",
       "      <th></th>\n",
       "      <th>Price</th>\n",
       "      <th>Address</th>\n",
       "      <th>Zip</th>\n",
       "      <th>Area</th>\n",
       "      <th>Room</th>\n",
       "      <th>Lon</th>\n",
       "      <th>Lat</th>\n",
       "    </tr>\n",
       "  </thead>\n",
       "  <tbody>\n",
       "    <tr>\n",
       "      <th>0</th>\n",
       "      <td>635000.0</td>\n",
       "      <td>Niersstraat 35 HS, Amsterdam</td>\n",
       "      <td>1078 VH</td>\n",
       "      <td>81</td>\n",
       "      <td>3</td>\n",
       "      <td>4.894509</td>\n",
       "      <td>52.343016</td>\n",
       "    </tr>\n",
       "    <tr>\n",
       "      <th>1</th>\n",
       "      <td>400000.0</td>\n",
       "      <td>Jan van Riebeekstraat 3 1, Amsterdam</td>\n",
       "      <td>1057 ZW</td>\n",
       "      <td>61</td>\n",
       "      <td>2</td>\n",
       "      <td>4.858697</td>\n",
       "      <td>52.370661</td>\n",
       "    </tr>\n",
       "    <tr>\n",
       "      <th>2</th>\n",
       "      <td>695000.0</td>\n",
       "      <td>Da Costakade 171 III, Amsterdam</td>\n",
       "      <td>1053 WX</td>\n",
       "      <td>88</td>\n",
       "      <td>3</td>\n",
       "      <td>4.874092</td>\n",
       "      <td>52.367502</td>\n",
       "    </tr>\n",
       "    <tr>\n",
       "      <th>3</th>\n",
       "      <td>1050000.0</td>\n",
       "      <td>Koninginneweg 158 4, Amsterdam</td>\n",
       "      <td>1075 EE</td>\n",
       "      <td>119</td>\n",
       "      <td>5</td>\n",
       "      <td>4.860818</td>\n",
       "      <td>52.352776</td>\n",
       "    </tr>\n",
       "    <tr>\n",
       "      <th>4</th>\n",
       "      <td>300000.0</td>\n",
       "      <td>Willem Leevendstraat 1 1, Amsterdam</td>\n",
       "      <td>1055 KB</td>\n",
       "      <td>54</td>\n",
       "      <td>2</td>\n",
       "      <td>4.846858</td>\n",
       "      <td>52.384197</td>\n",
       "    </tr>\n",
       "  </tbody>\n",
       "</table>\n",
       "</div>"
      ],
      "text/plain": [
       "       Price                               Address      Zip  Area  Room  \\\n",
       "0   635000.0          Niersstraat 35 HS, Amsterdam  1078 VH    81     3   \n",
       "1   400000.0  Jan van Riebeekstraat 3 1, Amsterdam  1057 ZW    61     2   \n",
       "2   695000.0       Da Costakade 171 III, Amsterdam  1053 WX    88     3   \n",
       "3  1050000.0        Koninginneweg 158 4, Amsterdam  1075 EE   119     5   \n",
       "4   300000.0   Willem Leevendstraat 1 1, Amsterdam  1055 KB    54     2   \n",
       "\n",
       "        Lon        Lat  \n",
       "0  4.894509  52.343016  \n",
       "1  4.858697  52.370661  \n",
       "2  4.874092  52.367502  \n",
       "3  4.860818  52.352776  \n",
       "4  4.846858  52.384197  "
      ]
     },
     "execution_count": 39,
     "metadata": {},
     "output_type": "execute_result"
    }
   ],
   "source": [
    "df_train.head()"
   ]
  },
  {
   "cell_type": "code",
   "execution_count": 40,
   "metadata": {},
   "outputs": [
    {
     "data": {
      "text/html": [
       "<div>\n",
       "<style scoped>\n",
       "    .dataframe tbody tr th:only-of-type {\n",
       "        vertical-align: middle;\n",
       "    }\n",
       "\n",
       "    .dataframe tbody tr th {\n",
       "        vertical-align: top;\n",
       "    }\n",
       "\n",
       "    .dataframe thead th {\n",
       "        text-align: right;\n",
       "    }\n",
       "</style>\n",
       "<table border=\"1\" class=\"dataframe\">\n",
       "  <thead>\n",
       "    <tr style=\"text-align: right;\">\n",
       "      <th></th>\n",
       "      <th>Price</th>\n",
       "      <th>Address</th>\n",
       "      <th>Zip</th>\n",
       "      <th>Area</th>\n",
       "      <th>Room</th>\n",
       "      <th>Lon</th>\n",
       "      <th>Lat</th>\n",
       "    </tr>\n",
       "  </thead>\n",
       "  <tbody>\n",
       "    <tr>\n",
       "      <th>data_type</th>\n",
       "      <td>continuous</td>\n",
       "      <td>nominal</td>\n",
       "      <td>nominal</td>\n",
       "      <td>continuous</td>\n",
       "      <td>discrete</td>\n",
       "      <td>continuous</td>\n",
       "      <td>continuous</td>\n",
       "    </tr>\n",
       "  </tbody>\n",
       "</table>\n",
       "</div>"
      ],
      "text/plain": [
       "                Price  Address      Zip        Area      Room         Lon  \\\n",
       "data_type  continuous  nominal  nominal  continuous  discrete  continuous   \n",
       "\n",
       "                  Lat  \n",
       "data_type  continuous  "
      ]
     },
     "execution_count": 40,
     "metadata": {},
     "output_type": "execute_result"
    }
   ],
   "source": [
    "# create a dataframe with dictionary, by specifying the data type of each variable \n",
    "df_datatype = pd.DataFrame.from_dict(\n",
    "    {\n",
    "        \"Price\": \"continuous\",  # <- This is the TARGET variable\n",
    "        \"Address\": \"nominal\",   # <- contains repeat values \n",
    "        \"Zip\": \"nominal\",       # <- contains repeat values \n",
    "        \"Area\": \"continuous\",   \n",
    "        \"Room\": \"discrete\",\n",
    "        \"Lon\": \"continuous\",\n",
    "        \"Lat\": \"continuous\",\n",
    "    },\n",
    "    orient=\"index\",\n",
    "    columns=[\"data_type\"],\n",
    ")\n",
    "\n",
    "df_datatype.transpose()       # transposed vector to keep this notebook tidy "
   ]
  },
  {
   "cell_type": "markdown",
   "metadata": {},
   "source": [
    "3b.1 Exploring quantitative variables (i.e., continous & discrete)"
   ]
  },
  {
   "cell_type": "code",
   "execution_count": 41,
   "metadata": {},
   "outputs": [
    {
     "data": {
      "text/html": [
       "<div>\n",
       "<style scoped>\n",
       "    .dataframe tbody tr th:only-of-type {\n",
       "        vertical-align: middle;\n",
       "    }\n",
       "\n",
       "    .dataframe tbody tr th {\n",
       "        vertical-align: top;\n",
       "    }\n",
       "\n",
       "    .dataframe thead th {\n",
       "        text-align: right;\n",
       "    }\n",
       "</style>\n",
       "<table border=\"1\" class=\"dataframe\">\n",
       "  <thead>\n",
       "    <tr style=\"text-align: right;\">\n",
       "      <th></th>\n",
       "      <th>Price</th>\n",
       "      <th>Area</th>\n",
       "      <th>Room</th>\n",
       "      <th>Lon</th>\n",
       "      <th>Lat</th>\n",
       "    </tr>\n",
       "  </thead>\n",
       "  <tbody>\n",
       "    <tr>\n",
       "      <th>count</th>\n",
       "      <td>552.000</td>\n",
       "      <td>554.000</td>\n",
       "      <td>554.000</td>\n",
       "      <td>554.000</td>\n",
       "      <td>554.000</td>\n",
       "    </tr>\n",
       "    <tr>\n",
       "      <th>mean</th>\n",
       "      <td>611200.743</td>\n",
       "      <td>94.700</td>\n",
       "      <td>3.527</td>\n",
       "      <td>4.887</td>\n",
       "      <td>52.364</td>\n",
       "    </tr>\n",
       "    <tr>\n",
       "      <th>std</th>\n",
       "      <td>516752.981</td>\n",
       "      <td>55.055</td>\n",
       "      <td>1.519</td>\n",
       "      <td>0.053</td>\n",
       "      <td>0.024</td>\n",
       "    </tr>\n",
       "    <tr>\n",
       "      <th>min</th>\n",
       "      <td>175000.000</td>\n",
       "      <td>21.000</td>\n",
       "      <td>1.000</td>\n",
       "      <td>4.655</td>\n",
       "      <td>52.292</td>\n",
       "    </tr>\n",
       "    <tr>\n",
       "      <th>25%</th>\n",
       "      <td>350000.000</td>\n",
       "      <td>60.000</td>\n",
       "      <td>3.000</td>\n",
       "      <td>4.854</td>\n",
       "      <td>52.352</td>\n",
       "    </tr>\n",
       "    <tr>\n",
       "      <th>50%</th>\n",
       "      <td>462000.000</td>\n",
       "      <td>82.000</td>\n",
       "      <td>3.000</td>\n",
       "      <td>4.887</td>\n",
       "      <td>52.364</td>\n",
       "    </tr>\n",
       "    <tr>\n",
       "      <th>75%</th>\n",
       "      <td>695000.000</td>\n",
       "      <td>111.000</td>\n",
       "      <td>4.000</td>\n",
       "      <td>4.921</td>\n",
       "      <td>52.378</td>\n",
       "    </tr>\n",
       "    <tr>\n",
       "      <th>max</th>\n",
       "      <td>5950000.000</td>\n",
       "      <td>497.000</td>\n",
       "      <td>14.000</td>\n",
       "      <td>5.029</td>\n",
       "      <td>52.424</td>\n",
       "    </tr>\n",
       "  </tbody>\n",
       "</table>\n",
       "</div>"
      ],
      "text/plain": [
       "             Price     Area     Room      Lon      Lat\n",
       "count      552.000  554.000  554.000  554.000  554.000\n",
       "mean    611200.743   94.700    3.527    4.887   52.364\n",
       "std     516752.981   55.055    1.519    0.053    0.024\n",
       "min     175000.000   21.000    1.000    4.655   52.292\n",
       "25%     350000.000   60.000    3.000    4.854   52.352\n",
       "50%     462000.000   82.000    3.000    4.887   52.364\n",
       "75%     695000.000  111.000    4.000    4.921   52.378\n",
       "max    5950000.000  497.000   14.000    5.029   52.424"
      ]
     },
     "execution_count": 41,
     "metadata": {},
     "output_type": "execute_result"
    }
   ],
   "source": [
    "# Summary descriptive statistic for continous variables \n",
    "df_train.nunique(axis=0)\n",
    "#from a glance of variable count, it appears to have missing data in Target variable (i.e., Price)\n",
    "df_train.describe().apply(lambda s: s.apply(lambda x: format(x, '.3f')))\n"
   ]
  },
  {
   "cell_type": "markdown",
   "metadata": {},
   "source": [
    "3b.2 Exploring variables that were stored as string objects "
   ]
  },
  {
   "cell_type": "code",
   "execution_count": 42,
   "metadata": {},
   "outputs": [
    {
     "name": "stdout",
     "output_type": "stream",
     "text": [
      "Address:       99.64% were unique values (552 out of 554 total values)\n",
      "Zip:       93.32% were unique values (517 out of 554 total values)\n"
     ]
    }
   ],
   "source": [
    "# inspect for string variables \n",
    "print(f\"Address: \\\n",
    "      { 100*len(df_train['Address'].unique())/len(df_train['Address']):.2f}% were unique values ({len(df_train['Address'].unique())} out of {len(df_train['Address'])} total values)\")\n",
    "\n",
    "print(f\"Zip: \\\n",
    "      { 100*len(df_train['Zip'].unique())/len(df_train['Zip']):.2f}% were unique values ({len(df_train['Zip'].unique())} out of {len(df_train['Zip'])} total values)\")\n"
   ]
  },
  {
   "cell_type": "code",
   "execution_count": 43,
   "metadata": {},
   "outputs": [
    {
     "data": {
      "text/html": [
       "<div>\n",
       "<style scoped>\n",
       "    .dataframe tbody tr th:only-of-type {\n",
       "        vertical-align: middle;\n",
       "    }\n",
       "\n",
       "    .dataframe tbody tr th {\n",
       "        vertical-align: top;\n",
       "    }\n",
       "\n",
       "    .dataframe thead th {\n",
       "        text-align: right;\n",
       "    }\n",
       "</style>\n",
       "<table border=\"1\" class=\"dataframe\">\n",
       "  <thead>\n",
       "    <tr style=\"text-align: right;\">\n",
       "      <th></th>\n",
       "      <th>Address</th>\n",
       "      <th>Zip</th>\n",
       "      <th>count</th>\n",
       "    </tr>\n",
       "  </thead>\n",
       "  <tbody>\n",
       "    <tr>\n",
       "      <th>0</th>\n",
       "      <td>Uilengouw 2, Amsterdam</td>\n",
       "      <td>1027 EZ</td>\n",
       "      <td>2</td>\n",
       "    </tr>\n",
       "    <tr>\n",
       "      <th>1</th>\n",
       "      <td>Huidekoperstraat 24 F, Amsterdam</td>\n",
       "      <td>1017 ZM</td>\n",
       "      <td>2</td>\n",
       "    </tr>\n",
       "  </tbody>\n",
       "</table>\n",
       "</div>"
      ],
      "text/plain": [
       "                            Address      Zip  count\n",
       "0            Uilengouw 2, Amsterdam  1027 EZ      2\n",
       "1  Huidekoperstraat 24 F, Amsterdam  1017 ZM      2"
      ]
     },
     "execution_count": 43,
     "metadata": {},
     "output_type": "execute_result"
    }
   ],
   "source": [
    "    # display categorical values that shown repeatedly in the dataset\n",
    "    # the output indicated interesting patterns that \n",
    "    # proportionate of houses on sale were concentrated in certain zip areas / sharing same addresses\n",
    "cat_data = df_train.select_dtypes(include=['object'])\n",
    "cat_data.value_counts().reset_index(name=\"count\").query(\"count > 1\")\n",
    "\n",
    "    # Zip concentration in details: \n",
    "# df_train['Zip'].value_counts().reset_index(name=\"count\").query(\"count > 1\")\n",
    "\n",
    "    # breakdown to address, zip concentration respectively:\n",
    "# for colname in cat_data.columns:\n",
    "#     print (colname)\n",
    "#     print (df_train[colname].value_counts(), '\\n')"
   ]
  },
  {
   "attachments": {},
   "cell_type": "markdown",
   "metadata": {},
   "source": [
    "**3 c. Percentage of missing values, namely** `np.NaN` \n",
    "- [missingno](https://github.com/ResidentMario/missingno) can be a useful tool for visualization;\n",
    "- Ensure that missing values are not encoded in a specific ways, e.g. `-1`, `\"?\"`\n",
    "- Inspect rows with missing values to assess if a specific pattern exists. \n",
    "\n",
    "<!-- Missingo example -->\n",
    "<!-- # import missingno as msno\n",
    "# %matplotlib inline\n",
    "# msno.matrix(df_train.sample(df_train.shape[0]))\n",
    "\n",
    "# # msno.bar(df_train.sample(len(df_train))) -->"
   ]
  },
  {
   "cell_type": "code",
   "execution_count": 44,
   "metadata": {},
   "outputs": [
    {
     "name": "stdout",
     "output_type": "stream",
     "text": [
      "2 missing values from train set      (0.03%) \n"
     ]
    },
    {
     "data": {
      "text/html": [
       "<div>\n",
       "<style scoped>\n",
       "    .dataframe tbody tr th:only-of-type {\n",
       "        vertical-align: middle;\n",
       "    }\n",
       "\n",
       "    .dataframe tbody tr th {\n",
       "        vertical-align: top;\n",
       "    }\n",
       "\n",
       "    .dataframe thead th {\n",
       "        text-align: right;\n",
       "    }\n",
       "</style>\n",
       "<table border=\"1\" class=\"dataframe\">\n",
       "  <thead>\n",
       "    <tr style=\"text-align: right;\">\n",
       "      <th>col_name</th>\n",
       "      <th>Price</th>\n",
       "      <th>Address</th>\n",
       "      <th>Zip</th>\n",
       "      <th>Area</th>\n",
       "      <th>Room</th>\n",
       "      <th>Lon</th>\n",
       "      <th>Lat</th>\n",
       "    </tr>\n",
       "  </thead>\n",
       "  <tbody>\n",
       "    <tr>\n",
       "      <th>Contains_missing</th>\n",
       "      <td>Yes</td>\n",
       "      <td>No</td>\n",
       "      <td>No</td>\n",
       "      <td>No</td>\n",
       "      <td>No</td>\n",
       "      <td>No</td>\n",
       "      <td>No</td>\n",
       "    </tr>\n",
       "    <tr>\n",
       "      <th>Missing_Counts</th>\n",
       "      <td>2</td>\n",
       "      <td>0</td>\n",
       "      <td>0</td>\n",
       "      <td>0</td>\n",
       "      <td>0</td>\n",
       "      <td>0</td>\n",
       "      <td>0</td>\n",
       "    </tr>\n",
       "  </tbody>\n",
       "</table>\n",
       "</div>"
      ],
      "text/plain": [
       "col_name         Price Address Zip Area Room Lon Lat\n",
       "Contains_missing   Yes      No  No   No   No  No  No\n",
       "Missing_Counts       2       0   0    0    0   0   0"
      ]
     },
     "execution_count": 44,
     "metadata": {},
     "output_type": "execute_result"
    }
   ],
   "source": [
    "print(f\"{df_train.isna().sum().sum()} missing values from train set\\\n",
    "      ({df_train.isna().sum().sum()/df_train.shape[0]*df_train.shape[1]:.2f}%) \")\n",
    "\n",
    "missing = pd.DataFrame(df_train.isna().any(), columns=['Contains_missing'])\n",
    "\n",
    "missing.replace({True: 'Yes',\n",
    "                False: 'No'\n",
    "                 }, inplace=True)\n",
    "\n",
    "missing_count= pd.DataFrame(df_train.isna().sum(), columns=['Missing_Counts'])\n",
    "\n",
    "df_missing = missing.merge(missing_count, how ='outer', left_index= True, right_index= True)\n",
    "df_missing.reset_index(inplace=True)\n",
    "df_missing.rename(columns={'index': 'col_name'}, inplace= True)\n",
    "df_missing.set_index(\"col_name\", inplace= True)\n",
    "df_missing.transpose()"
   ]
  },
  {
   "cell_type": "code",
   "execution_count": 45,
   "metadata": {},
   "outputs": [
    {
     "data": {
      "text/html": [
       "<div>\n",
       "<style scoped>\n",
       "    .dataframe tbody tr th:only-of-type {\n",
       "        vertical-align: middle;\n",
       "    }\n",
       "\n",
       "    .dataframe tbody tr th {\n",
       "        vertical-align: top;\n",
       "    }\n",
       "\n",
       "    .dataframe thead th {\n",
       "        text-align: right;\n",
       "    }\n",
       "</style>\n",
       "<table border=\"1\" class=\"dataframe\">\n",
       "  <thead>\n",
       "    <tr style=\"text-align: right;\">\n",
       "      <th></th>\n",
       "      <th>Price</th>\n",
       "      <th>Address</th>\n",
       "      <th>Zip</th>\n",
       "      <th>Area</th>\n",
       "      <th>Room</th>\n",
       "      <th>Lon</th>\n",
       "      <th>Lat</th>\n",
       "    </tr>\n",
       "  </thead>\n",
       "  <tbody>\n",
       "    <tr>\n",
       "      <th>271</th>\n",
       "      <td>NaN</td>\n",
       "      <td>Zeeburgerkade 760, Amsterdam</td>\n",
       "      <td>1019 HT</td>\n",
       "      <td>107</td>\n",
       "      <td>3</td>\n",
       "      <td>4.945022</td>\n",
       "      <td>52.369244</td>\n",
       "    </tr>\n",
       "    <tr>\n",
       "      <th>408</th>\n",
       "      <td>NaN</td>\n",
       "      <td>Suikerplein 16, Amsterdam</td>\n",
       "      <td>1013 CK</td>\n",
       "      <td>81</td>\n",
       "      <td>3</td>\n",
       "      <td>4.880976</td>\n",
       "      <td>52.389623</td>\n",
       "    </tr>\n",
       "  </tbody>\n",
       "</table>\n",
       "</div>"
      ],
      "text/plain": [
       "     Price                       Address      Zip  Area  Room       Lon  \\\n",
       "271    NaN  Zeeburgerkade 760, Amsterdam  1019 HT   107     3  4.945022   \n",
       "408    NaN     Suikerplein 16, Amsterdam  1013 CK    81     3  4.880976   \n",
       "\n",
       "           Lat  \n",
       "271  52.369244  \n",
       "408  52.389623  "
      ]
     },
     "metadata": {},
     "output_type": "display_data"
    }
   ],
   "source": [
    "# print samples with missing values\n",
    "display(df_train[df_train.isna().any(axis=1)])"
   ]
  },
  {
   "cell_type": "markdown",
   "metadata": {},
   "source": [
    "All missing values from train set are on the target `Price`. \n",
    "\n",
    "Given it's unclear on the mechanisms of missingness (i.e., missing completely at random vs. missing at random vs. missing not at random), I will ignore these two 2 observations showed above, judging by their small impact on the entire dataset (0.03%).   "
   ]
  },
  {
   "attachments": {},
   "cell_type": "markdown",
   "metadata": {},
   "source": [
    "**3 d. Check if there are any duplicates and inspect them;**"
   ]
  },
  {
   "cell_type": "code",
   "execution_count": 46,
   "metadata": {},
   "outputs": [
    {
     "name": "stdout",
     "output_type": "stream",
     "text": [
      " 0 duplicate values from train set (0.000%) \n"
     ]
    }
   ],
   "source": [
    "# check if there are duplicated rows in the dataset\n",
    "print(f\" {df_train.duplicated().sum()} duplicate values from train set ({df_train.duplicated().sum()/len(df_train):.3f}%) \")"
   ]
  },
  {
   "cell_type": "markdown",
   "metadata": {},
   "source": [
    "* There are other method such as detecting similar features via [fastML package](https://towardsdatascience.com/2-types-of-duplicate-features-in-machine-learning-2931de6c949b) has been suggested for duplicate handling prior to model selection. \n",
    "\n",
    "* Given the limited variables included in current dataset, as well as descriptive statistics showed above, I decided not to include further test for this. \n",
    "\n"
   ]
  },
  {
   "attachments": {},
   "cell_type": "markdown",
   "metadata": {},
   "source": [
    "**3 e. Noisiness and type of noise e.g. stochastic, rounding errors, etc.** (might require business knowledge)\n"
   ]
  },
  {
   "cell_type": "code",
   "execution_count": 47,
   "metadata": {},
   "outputs": [
    {
     "data": {
      "text/html": [
       "<div>\n",
       "<style scoped>\n",
       "    .dataframe tbody tr th:only-of-type {\n",
       "        vertical-align: middle;\n",
       "    }\n",
       "\n",
       "    .dataframe tbody tr th {\n",
       "        vertical-align: top;\n",
       "    }\n",
       "\n",
       "    .dataframe thead th {\n",
       "        text-align: right;\n",
       "    }\n",
       "</style>\n",
       "<table border=\"1\" class=\"dataframe\">\n",
       "  <thead>\n",
       "    <tr style=\"text-align: right;\">\n",
       "      <th></th>\n",
       "      <th>Price</th>\n",
       "      <th>Address</th>\n",
       "      <th>Zip</th>\n",
       "      <th>Area</th>\n",
       "      <th>Room</th>\n",
       "      <th>Lon</th>\n",
       "      <th>Lat</th>\n",
       "    </tr>\n",
       "  </thead>\n",
       "  <tbody>\n",
       "    <tr>\n",
       "      <th>type of noise</th>\n",
       "      <td>noise-free</td>\n",
       "      <td>noise-free</td>\n",
       "      <td>noise-free</td>\n",
       "      <td>noise-free</td>\n",
       "      <td>noise-free</td>\n",
       "      <td>noise-free</td>\n",
       "      <td>noise-free</td>\n",
       "    </tr>\n",
       "  </tbody>\n",
       "</table>\n",
       "</div>"
      ],
      "text/plain": [
       "                    Price     Address         Zip        Area        Room  \\\n",
       "type of noise  noise-free  noise-free  noise-free  noise-free  noise-free   \n",
       "\n",
       "                      Lon         Lat  \n",
       "type of noise  noise-free  noise-free  "
      ]
     },
     "execution_count": 47,
     "metadata": {},
     "output_type": "execute_result"
    }
   ],
   "source": [
    "# Assuming that we have noise-free features\n",
    "df_type_noise = pd.DataFrame(\n",
    "    data={\"type of noise\": len(df_train.columns)* [\"noise-free\"]}, index=df_train.columns\n",
    ")\n",
    "\n",
    "df_type_noise.transpose()"
   ]
  },
  {
   "attachments": {},
   "cell_type": "markdown",
   "metadata": {},
   "source": [
    "**3 f. The frequency of each group within categorical variables and the type of distribution for numerical variables** \n",
    "\n",
    "Checked this [link](https://www.itl.nist.gov/div898/handbook/eda/section3/eda366.htm) for common types of distributions. It is recommended to visualise each variable by using:\n",
    "- a [countplot](https://seaborn.pydata.org/generated/seaborn.countplot.html) for categorical variables;\n",
    "- a [histplot](https://seaborn.pydata.org/generated/seaborn.histplot.html#seaborn.histplot) for numerical variables."
   ]
  },
  {
   "cell_type": "code",
   "execution_count": 48,
   "metadata": {},
   "outputs": [
    {
     "data": {
      "text/html": [
       "<div>\n",
       "<style scoped>\n",
       "    .dataframe tbody tr th:only-of-type {\n",
       "        vertical-align: middle;\n",
       "    }\n",
       "\n",
       "    .dataframe tbody tr th {\n",
       "        vertical-align: top;\n",
       "    }\n",
       "\n",
       "    .dataframe thead th {\n",
       "        text-align: right;\n",
       "    }\n",
       "</style>\n",
       "<table border=\"1\" class=\"dataframe\">\n",
       "  <thead>\n",
       "    <tr style=\"text-align: right;\">\n",
       "      <th></th>\n",
       "      <th>Price</th>\n",
       "      <th>Address</th>\n",
       "      <th>Zip</th>\n",
       "      <th>Area</th>\n",
       "      <th>Room</th>\n",
       "      <th>Lon</th>\n",
       "      <th>Lat</th>\n",
       "    </tr>\n",
       "  </thead>\n",
       "  <tbody>\n",
       "    <tr>\n",
       "      <th>data_type</th>\n",
       "      <td>continuous</td>\n",
       "      <td>nominal</td>\n",
       "      <td>nominal</td>\n",
       "      <td>continuous</td>\n",
       "      <td>discrete</td>\n",
       "      <td>continuous</td>\n",
       "      <td>continuous</td>\n",
       "    </tr>\n",
       "  </tbody>\n",
       "</table>\n",
       "</div>"
      ],
      "text/plain": [
       "                Price  Address      Zip        Area      Room         Lon  \\\n",
       "data_type  continuous  nominal  nominal  continuous  discrete  continuous   \n",
       "\n",
       "                  Lat  \n",
       "data_type  continuous  "
      ]
     },
     "execution_count": 48,
     "metadata": {},
     "output_type": "execute_result"
    }
   ],
   "source": [
    "# Recall predefined data type of each variable\n",
    "df_datatype.transpose()"
   ]
  },
  {
   "cell_type": "code",
   "execution_count": 49,
   "metadata": {},
   "outputs": [],
   "source": [
    "# Create an ad-hoc function for this task\n",
    "def get_feature_list(df_datatype: pd.DataFrame, datatype: str) -> list:\n",
    "    \"\"\"Get a list of features of a given datatype\n",
    "    Args:\n",
    "        df_datatype (pd.DataFrame): dataframe with the datatype of each feature\n",
    "        datatype (str): datatype of interest\n",
    "\n",
    "        Returns:\n",
    "        list: list of features of a given datatype\n",
    "    \"\"\"\n",
    "\n",
    "    list_dtype = df_datatype.loc[lambda x: x[\"data_type\"] == datatype].index.to_list() # define list of callable features from later user input\n",
    "    \n",
    "    print(f\"• {len(list_dtype)} {datatype.upper()} variables found in the dataset\")  # print number of features of interest\n",
    "    \n",
    "    print(f\"• list = {list(list_dtype)}\") # print list of features names \n",
    "\n",
    "    return list_dtype"
   ]
  },
  {
   "cell_type": "markdown",
   "metadata": {},
   "source": [
    "##### Inspect on qualitative variables \n",
    "- Visualize `nominal` variables"
   ]
  },
  {
   "cell_type": "code",
   "execution_count": 50,
   "metadata": {},
   "outputs": [
    {
     "name": "stdout",
     "output_type": "stream",
     "text": [
      "• 2 NOMINAL variables found in the dataset\n",
      "• list = ['Address', 'Zip']\n",
      "NOTE: We will skip for now the visualization of nominal features as we do not have a good way to visualize them.\n"
     ]
    }
   ],
   "source": [
    "DATATYPE = \"nominal\"\n",
    "\n",
    "list_nominal = get_feature_list(df_datatype=df_datatype, datatype=DATATYPE)\n",
    "\n",
    "print(\n",
    "    \"NOTE: We will skip for now the visualization of nominal features as we do not have a good way to visualize them.\"\n",
    ")"
   ]
  },
  {
   "cell_type": "markdown",
   "metadata": {},
   "source": [
    "- Visualize `ordinal` variables"
   ]
  },
  {
   "cell_type": "code",
   "execution_count": 51,
   "metadata": {},
   "outputs": [
    {
     "name": "stdout",
     "output_type": "stream",
     "text": [
      "• 0 ORDINAL variables found in the dataset\n",
      "• list = []\n"
     ]
    }
   ],
   "source": [
    "DATATYPE = \"ordinal\"\n",
    "list_ordinal = get_feature_list(df_datatype=df_datatype, datatype=DATATYPE)"
   ]
  },
  {
   "cell_type": "markdown",
   "metadata": {},
   "source": [
    "##### Inspect on quatitative variables \n",
    "\n",
    "- Visualize `discrete` and `continuous` variables together"
   ]
  },
  {
   "cell_type": "code",
   "execution_count": 52,
   "metadata": {},
   "outputs": [
    {
     "name": "stdout",
     "output_type": "stream",
     "text": [
      "• 1 DISCRETE variables found in the dataset\n",
      "• list = ['Room']\n"
     ]
    }
   ],
   "source": [
    "DATATYPE = \"discrete\"\n",
    "list_discrete = get_feature_list(df_datatype=df_datatype, datatype=DATATYPE)"
   ]
  },
  {
   "cell_type": "code",
   "execution_count": 53,
   "metadata": {},
   "outputs": [
    {
     "name": "stdout",
     "output_type": "stream",
     "text": [
      "• 4 CONTINUOUS variables found in the dataset\n",
      "• list = ['Price', 'Area', 'Lon', 'Lat']\n"
     ]
    }
   ],
   "source": [
    "DATATYPE = \"continuous\"\n",
    "list_continuous = get_feature_list(df_datatype=df_datatype, datatype=DATATYPE)"
   ]
  },
  {
   "cell_type": "code",
   "execution_count": 54,
   "metadata": {},
   "outputs": [
    {
     "data": {
      "image/png": "[encoded data removed]",
      "text/plain": [
       "<Figure size 1200x300 with 5 Axes>"
      ]
     },
     "metadata": {},
     "output_type": "display_data"
    }
   ],
   "source": [
    "# combine all lists to visualise all numerical features\n",
    "list_numerical = list_discrete + list_continuous\n",
    "\n",
    "# visualise the data by checking histogram of numeric columns \n",
    "fig, axs = plt.subplots(nrows=1, ncols=len(list_numerical), figsize=(12, 3))\n",
    "fig.tight_layout(w_pad=1.05)\n",
    "\n",
    "\n",
    "for i, ax in enumerate(axs.flatten()):\n",
    "    sns.histplot(\n",
    "        data=df_train,\n",
    "        x=list_numerical[i],\n",
    "        discrete=False,\n",
    "        ax=ax,\n",
    "        color=\"#0B70D4\"\n",
    "    )\n"
   ]
  },
  {
   "cell_type": "markdown",
   "metadata": {},
   "source": [
    "To further check whether data follows a normal distribution: I used kolmogorov-smirnov test instead of shapiro-wilk test, as it is more robust to larger sample size (e.g., N > 50). The Kolmogorov-Smirnov test is used to test the null hypothesis that a set of data comes from a normal distribution."
   ]
  },
  {
   "cell_type": "code",
   "execution_count": 55,
   "metadata": {},
   "outputs": [
    {
     "data": {
      "text/html": [
       "<div>\n",
       "<style scoped>\n",
       "    .dataframe tbody tr th:only-of-type {\n",
       "        vertical-align: middle;\n",
       "    }\n",
       "\n",
       "    .dataframe tbody tr th {\n",
       "        vertical-align: top;\n",
       "    }\n",
       "\n",
       "    .dataframe thead th {\n",
       "        text-align: right;\n",
       "    }\n",
       "</style>\n",
       "<table border=\"1\" class=\"dataframe\">\n",
       "  <thead>\n",
       "    <tr style=\"text-align: right;\">\n",
       "      <th></th>\n",
       "      <th>feature</th>\n",
       "      <th>p-value</th>\n",
       "      <th>normality</th>\n",
       "    </tr>\n",
       "  </thead>\n",
       "  <tbody>\n",
       "    <tr>\n",
       "      <th>0</th>\n",
       "      <td>Price</td>\n",
       "      <td>0.000</td>\n",
       "      <td>False</td>\n",
       "    </tr>\n",
       "    <tr>\n",
       "      <th>1</th>\n",
       "      <td>Area</td>\n",
       "      <td>0.000</td>\n",
       "      <td>False</td>\n",
       "    </tr>\n",
       "    <tr>\n",
       "      <th>2</th>\n",
       "      <td>Room</td>\n",
       "      <td>0.000</td>\n",
       "      <td>False</td>\n",
       "    </tr>\n",
       "    <tr>\n",
       "      <th>3</th>\n",
       "      <td>Lon</td>\n",
       "      <td>0.459</td>\n",
       "      <td>True</td>\n",
       "    </tr>\n",
       "    <tr>\n",
       "      <th>4</th>\n",
       "      <td>Lat</td>\n",
       "      <td>0.001</td>\n",
       "      <td>False</td>\n",
       "    </tr>\n",
       "  </tbody>\n",
       "</table>\n",
       "</div>"
      ],
      "text/plain": [
       "  feature  p-value  normality\n",
       "0   Price    0.000      False\n",
       "1    Area    0.000      False\n",
       "2    Room    0.000      False\n",
       "3     Lon    0.459       True\n",
       "4     Lat    0.001      False"
      ]
     },
     "execution_count": 55,
     "metadata": {},
     "output_type": "execute_result"
    }
   ],
   "source": [
    "from R2_functions import normal_check\n",
    "normal_check(df_train)"
   ]
  },
  {
   "cell_type": "markdown",
   "metadata": {},
   "source": [
    "Moreover, we can further indentify **empirical distribution** of each numeric variable: "
   ]
  },
  {
   "cell_type": "code",
   "execution_count": 56,
   "metadata": {},
   "outputs": [],
   "source": [
    "from fitter import Fitter, get_common_distributions, get_distributions\n",
    "\n",
    "# function to identify the empirical distribution of a variable\n",
    "def get_best_distribution(df):\n",
    "    dist_names = get_common_distributions() # get list of most common distribution names\n",
    "    dist_results = []\n",
    "    params = {}\n",
    "    \n",
    "    for dist_name in dist_names:\n",
    "        dist = getattr(stats, dist_name)\n",
    "        param = dist.fit(df)\n",
    "\n",
    "        params[dist_name] = param\n",
    "        # Applying the Kolmogorov-Smirnov test\n",
    "        D, p = stats.kstest(df, dist_name, args=param,method='approx')\n",
    "        # print(\"p value for \"+dist_name+\" = \"+str(p))\n",
    "        dist_results.append((dist_name, p))\n",
    "\n",
    "    # select the best fitted distribution\n",
    "    best_dist, best_p = (max(dist_results, key=lambda item: item[1]))\n",
    "    \n",
    "    # store the name of the best fit and its p value\n",
    "    # print(\"Best fitting distribution: \"+str(best_dist))\n",
    "    # print(\"Best p value: \"+ str(best_p))\n",
    "    # print(\"Parameters for the best fit: \"+ str(params[best_dist]))\n",
    "\n",
    "    return best_dist #, best_p, params[best_dist]\n",
    "\n"
   ]
  },
  {
   "cell_type": "code",
   "execution_count": 57,
   "metadata": {},
   "outputs": [
    {
     "name": "stdout",
     "output_type": "stream",
     "text": [
      "• Best distribution for Price is: lognorm \n",
      "• Best distribution for Area is: lognorm \n",
      "• Best distribution for Room is: chi2 \n",
      "• Best distribution for Lon is: norm \n",
      "• Best distribution for Lat is: cauchy \n"
     ]
    }
   ],
   "source": [
    "check_dist = df_train.dropna().select_dtypes([np.int64, np.float64]) #get numeric columns only \n",
    "\n",
    "for (colname,colval) in check_dist.items():\n",
    "    print(f\"• Best distribution for {colname} is: {get_best_distribution(check_dist[colname])} \")"
   ]
  },
  {
   "cell_type": "markdown",
   "metadata": {},
   "source": [
    "* As can be observed from the results, only `Lon` column from the orignal dataset is normally distributed, where the rest are not. "
   ]
  },
  {
   "attachments": {},
   "cell_type": "markdown",
   "metadata": {},
   "source": [
    "**3. g Examine possible outliers in numerical variables and check whether they make sense (might require business knowledge).** \n",
    "\n",
    "For details on identifying outliers, refer to this [link](https://www.geeksforgeeks.org/detect-and-remove-the-outliers-using-python/)."
   ]
  },
  {
   "cell_type": "code",
   "execution_count": 58,
   "metadata": {},
   "outputs": [
    {
     "data": {
      "image/png": "[encoded data removed]",
      "text/plain": [
       "<Figure size 1000x200 with 1 Axes>"
      ]
     },
     "metadata": {},
     "output_type": "display_data"
    },
    {
     "data": {
      "image/png": "[encoded data removed]",
      "text/plain": [
       "<Figure size 1000x200 with 1 Axes>"
      ]
     },
     "metadata": {},
     "output_type": "display_data"
    },
    {
     "data": {
      "image/png": "[encoded data removed]",
      "text/plain": [
       "<Figure size 1000x200 with 1 Axes>"
      ]
     },
     "metadata": {},
     "output_type": "display_data"
    },
    {
     "data": {
      "image/png": "[encoded data removed]",
      "text/plain": [
       "<Figure size 1000x200 with 1 Axes>"
      ]
     },
     "metadata": {},
     "output_type": "display_data"
    },
    {
     "data": {
      "image/png": "[encoded data removed]",
      "text/plain": [
       "<Figure size 1000x200 with 1 Axes>"
      ]
     },
     "metadata": {},
     "output_type": "display_data"
    }
   ],
   "source": [
    "from R2_functions import univariate_outlier_removal\n",
    "\n",
    "for num_var in list_numerical:\n",
    "    _, summary_outlier, fig = univariate_outlier_removal(\n",
    "        df=data[num_var].to_frame(),\n",
    "        nonparam_args={\"factor\": 2.5},\n",
    "        remove=False,\n",
    "        plot=True,\n",
    "        figsize=(10, 2),\n",
    "    )"
   ]
  },
  {
   "attachments": {},
   "cell_type": "markdown",
   "metadata": {},
   "source": [
    "**4. Annotate all information from EDA, such as:**\n",
    "- the type of data;\n",
    "- if there are missing values and how to deal with them;\n",
    "- summary statistics of both numerical and categorical variables;\n",
    "- the type of distribution; \n",
    "- identify the promising transformations you may want to apply (e.g. log-transformation for highly skewed distribution or cluster facets to mitigate group imbalance);\n",
    "- identify additional data sources that would be useful;\n",
    "- anything else that is noteworthy for model training."
   ]
  },
  {
   "cell_type": "code",
   "execution_count": 59,
   "metadata": {},
   "outputs": [
    {
     "data": {
      "text/html": [
       "<div>\n",
       "<style scoped>\n",
       "    .dataframe tbody tr th:only-of-type {\n",
       "        vertical-align: middle;\n",
       "    }\n",
       "\n",
       "    .dataframe tbody tr th {\n",
       "        vertical-align: top;\n",
       "    }\n",
       "\n",
       "    .dataframe thead th {\n",
       "        text-align: right;\n",
       "    }\n",
       "</style>\n",
       "<table border=\"1\" class=\"dataframe\">\n",
       "  <thead>\n",
       "    <tr style=\"text-align: right;\">\n",
       "      <th></th>\n",
       "      <th>Price</th>\n",
       "      <th>Address</th>\n",
       "      <th>Zip</th>\n",
       "      <th>Area</th>\n",
       "      <th>Room</th>\n",
       "      <th>Lon</th>\n",
       "      <th>Lat</th>\n",
       "    </tr>\n",
       "  </thead>\n",
       "  <tbody>\n",
       "    <tr>\n",
       "      <th>data_type</th>\n",
       "      <td>continuous</td>\n",
       "      <td>nominal</td>\n",
       "      <td>nominal</td>\n",
       "      <td>continuous</td>\n",
       "      <td>discrete</td>\n",
       "      <td>continuous</td>\n",
       "      <td>continuous</td>\n",
       "    </tr>\n",
       "    <tr>\n",
       "      <th>Contains_missing</th>\n",
       "      <td>Yes</td>\n",
       "      <td>No</td>\n",
       "      <td>No</td>\n",
       "      <td>No</td>\n",
       "      <td>No</td>\n",
       "      <td>No</td>\n",
       "      <td>No</td>\n",
       "    </tr>\n",
       "    <tr>\n",
       "      <th>Missing_Counts</th>\n",
       "      <td>2</td>\n",
       "      <td>0</td>\n",
       "      <td>0</td>\n",
       "      <td>0</td>\n",
       "      <td>0</td>\n",
       "      <td>0</td>\n",
       "      <td>0</td>\n",
       "    </tr>\n",
       "    <tr>\n",
       "      <th>type of noise</th>\n",
       "      <td>noise-free</td>\n",
       "      <td>noise-free</td>\n",
       "      <td>noise-free</td>\n",
       "      <td>noise-free</td>\n",
       "      <td>noise-free</td>\n",
       "      <td>noise-free</td>\n",
       "      <td>noise-free</td>\n",
       "    </tr>\n",
       "  </tbody>\n",
       "</table>\n",
       "</div>"
      ],
      "text/plain": [
       "                       Price     Address         Zip        Area        Room  \\\n",
       "data_type         continuous     nominal     nominal  continuous    discrete   \n",
       "Contains_missing         Yes          No          No          No          No   \n",
       "Missing_Counts             2           0           0           0           0   \n",
       "type of noise     noise-free  noise-free  noise-free  noise-free  noise-free   \n",
       "\n",
       "                         Lon         Lat  \n",
       "data_type         continuous  continuous  \n",
       "Contains_missing          No          No  \n",
       "Missing_Counts             0           0  \n",
       "type of noise     noise-free  noise-free  "
      ]
     },
     "metadata": {},
     "output_type": "display_data"
    }
   ],
   "source": [
    "# Show information regarding type of data, missing values and noise\n",
    "data_info = df_datatype.join(df_missing).join(df_type_noise)\n",
    "display(data_info.transpose())\n",
    "\n",
    "# Save data_type into a csv file\n",
    "data_info[\"data_type\"].to_csv(\"./data/data_info.csv\")"
   ]
  },
  {
   "cell_type": "markdown",
   "metadata": {},
   "source": [
    "Missing values are observed only in the target `Price`. These samples will be discarded during model training."
   ]
  },
  {
   "cell_type": "code",
   "execution_count": 63,
   "metadata": {},
   "outputs": [
    {
     "data": {
      "text/html": [
       "<div>\n",
       "<style scoped>\n",
       "    .dataframe tbody tr th:only-of-type {\n",
       "        vertical-align: middle;\n",
       "    }\n",
       "\n",
       "    .dataframe tbody tr th {\n",
       "        vertical-align: top;\n",
       "    }\n",
       "\n",
       "    .dataframe thead th {\n",
       "        text-align: right;\n",
       "    }\n",
       "</style>\n",
       "<table border=\"1\" class=\"dataframe\">\n",
       "  <thead>\n",
       "    <tr style=\"text-align: right;\">\n",
       "      <th></th>\n",
       "      <th>Room</th>\n",
       "      <th>Price</th>\n",
       "      <th>Area</th>\n",
       "      <th>Lon</th>\n",
       "      <th>Lat</th>\n",
       "    </tr>\n",
       "  </thead>\n",
       "  <tbody>\n",
       "    <tr>\n",
       "      <th>count</th>\n",
       "      <td>554.00</td>\n",
       "      <td>552.00</td>\n",
       "      <td>554.00</td>\n",
       "      <td>554.00</td>\n",
       "      <td>554.00</td>\n",
       "    </tr>\n",
       "    <tr>\n",
       "      <th>mean</th>\n",
       "      <td>3.53</td>\n",
       "      <td>611200.74</td>\n",
       "      <td>94.70</td>\n",
       "      <td>4.89</td>\n",
       "      <td>52.36</td>\n",
       "    </tr>\n",
       "    <tr>\n",
       "      <th>std</th>\n",
       "      <td>1.52</td>\n",
       "      <td>516752.98</td>\n",
       "      <td>55.05</td>\n",
       "      <td>0.05</td>\n",
       "      <td>0.02</td>\n",
       "    </tr>\n",
       "    <tr>\n",
       "      <th>min</th>\n",
       "      <td>1.00</td>\n",
       "      <td>175000.00</td>\n",
       "      <td>21.00</td>\n",
       "      <td>4.66</td>\n",
       "      <td>52.29</td>\n",
       "    </tr>\n",
       "    <tr>\n",
       "      <th>25%</th>\n",
       "      <td>3.00</td>\n",
       "      <td>350000.00</td>\n",
       "      <td>60.00</td>\n",
       "      <td>4.85</td>\n",
       "      <td>52.35</td>\n",
       "    </tr>\n",
       "    <tr>\n",
       "      <th>50%</th>\n",
       "      <td>3.00</td>\n",
       "      <td>462000.00</td>\n",
       "      <td>82.00</td>\n",
       "      <td>4.89</td>\n",
       "      <td>52.36</td>\n",
       "    </tr>\n",
       "    <tr>\n",
       "      <th>75%</th>\n",
       "      <td>4.00</td>\n",
       "      <td>695000.00</td>\n",
       "      <td>111.00</td>\n",
       "      <td>4.92</td>\n",
       "      <td>52.38</td>\n",
       "    </tr>\n",
       "    <tr>\n",
       "      <th>max</th>\n",
       "      <td>14.00</td>\n",
       "      <td>5950000.00</td>\n",
       "      <td>497.00</td>\n",
       "      <td>5.03</td>\n",
       "      <td>52.42</td>\n",
       "    </tr>\n",
       "  </tbody>\n",
       "</table>\n",
       "</div>"
      ],
      "text/plain": [
       "         Room       Price    Area     Lon     Lat\n",
       "count  554.00      552.00  554.00  554.00  554.00\n",
       "mean     3.53   611200.74   94.70    4.89   52.36\n",
       "std      1.52   516752.98   55.05    0.05    0.02\n",
       "min      1.00   175000.00   21.00    4.66   52.29\n",
       "25%      3.00   350000.00   60.00    4.85   52.35\n",
       "50%      3.00   462000.00   82.00    4.89   52.36\n",
       "75%      4.00   695000.00  111.00    4.92   52.38\n",
       "max     14.00  5950000.00  497.00    5.03   52.42"
      ]
     },
     "metadata": {},
     "output_type": "display_data"
    },
    {
     "data": {
      "text/html": [
       "<div>\n",
       "<style scoped>\n",
       "    .dataframe tbody tr th:only-of-type {\n",
       "        vertical-align: middle;\n",
       "    }\n",
       "\n",
       "    .dataframe tbody tr th {\n",
       "        vertical-align: top;\n",
       "    }\n",
       "\n",
       "    .dataframe thead th {\n",
       "        text-align: right;\n",
       "    }\n",
       "</style>\n",
       "<table border=\"1\" class=\"dataframe\">\n",
       "  <thead>\n",
       "    <tr style=\"text-align: right;\">\n",
       "      <th></th>\n",
       "      <th>Address</th>\n",
       "      <th>Zip</th>\n",
       "    </tr>\n",
       "  </thead>\n",
       "  <tbody>\n",
       "    <tr>\n",
       "      <th>count</th>\n",
       "      <td>554</td>\n",
       "      <td>554</td>\n",
       "    </tr>\n",
       "    <tr>\n",
       "      <th>unique</th>\n",
       "      <td>552</td>\n",
       "      <td>517</td>\n",
       "    </tr>\n",
       "    <tr>\n",
       "      <th>top</th>\n",
       "      <td>Uilengouw 2, Amsterdam</td>\n",
       "      <td>1017 KP</td>\n",
       "    </tr>\n",
       "    <tr>\n",
       "      <th>freq</th>\n",
       "      <td>2</td>\n",
       "      <td>3</td>\n",
       "    </tr>\n",
       "  </tbody>\n",
       "</table>\n",
       "</div>"
      ],
      "text/plain": [
       "                       Address      Zip\n",
       "count                      554      554\n",
       "unique                     552      517\n",
       "top     Uilengouw 2, Amsterdam  1017 KP\n",
       "freq                         2        3"
      ]
     },
     "metadata": {},
     "output_type": "display_data"
    }
   ],
   "source": [
    "# display summary statistics\n",
    "#quantitative variables summary statistics\n",
    "display(data[list_discrete + list_continuous].describe().round(2))\n",
    "#quanlitative variables summary statistics\n",
    "display(data[list_nominal + list_ordinal].describe())"
   ]
  },
  {
   "cell_type": "markdown",
   "metadata": {},
   "source": [
    "- We observe that `Room`,  `Price` and  `Area` are highly skewed. Conversely, `Lon` and `Lat` are relatively normally distributed. We will attempt to normalize the skewed variables using a log transformation.\n",
    "- Both `Address` and `Zip` have significant unique values, making it challenging to leverage both features for model prediction. We will attempt to extract features using business knowledge.\n",
    "- It is hypothesized that additional variables such as energy label, year of building, and information regarding a front or back garden if any, and type of house would be valuable information to enhance the model performances."
   ]
  },
  {
   "cell_type": "code",
   "execution_count": 61,
   "metadata": {},
   "outputs": [
    {
     "name": "stdout",
     "output_type": "stream",
     "text": [
      "• The Mininum value of Price is 175000 EUR with an Area of 28 m2 and 1 room\n",
      "• The Maximum value of Price is 5950000 EUR with an Area of 394 m2 and 10 room\n"
     ]
    }
   ],
   "source": [
    "# Provide some additonial information\n",
    "print(\n",
    "    f\"• The Mininum value of {Y_target} is {int(data[Y_target].min())} EUR with an Area of {data.loc[data[Y_target].idxmin(), 'Area']} m2 and {data.loc[data[Y_target].idxmin(), 'Room']} room\"\n",
    ")\n",
    "print(\n",
    "    f\"• The Maximum value of {Y_target} is {int(data[Y_target].max())} EUR with an Area of {data.loc[data[Y_target].idxmax(), 'Area']} m2 and {data.loc[data[Y_target].idxmax(), 'Room']} room\"\n",
    ")"
   ]
  }
 ],
 "metadata": {
  "kernelspec": {
   "display_name": "my-env",
   "language": "python",
   "name": "python3"
  },
  "language_info": {
   "codemirror_mode": {
    "name": "ipython",
    "version": 3
   },
   "file_extension": ".py",
   "mimetype": "text/x-python",
   "name": "python",
   "nbconvert_exporter": "python",
   "pygments_lexer": "ipython3",
   "version": "3.10.8"
  },
  "orig_nbformat": 4
 },
 "nbformat": 4,
 "nbformat_minor": 2
}
