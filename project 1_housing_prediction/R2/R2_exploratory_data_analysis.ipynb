{
 "cells": [
  {
   "attachments": {},
   "cell_type": "markdown",
   "metadata": {},
   "source": [
    "## 2️⃣ Exploratory Data Analysis (EDA)\n",
    "**Designed by:** [datamover.ai](https://www.datamover.ai)"
   ]
  },
  {
   "cell_type": "code",
   "execution_count": null,
   "metadata": {},
   "outputs": [],
   "source": [
    "import matplotlib.pyplot as plt\n",
    "import numpy as np\n",
    "import pandas as pd\n",
    "import seaborn as sns\n",
    "from IPython.display import display\n",
    "\n",
    "# Set random seed\n",
    "np.random.seed(42)"
   ]
  },
  {
   "attachments": {},
   "cell_type": "markdown",
   "metadata": {},
   "source": [
    "**1. Load the train set and sample the dataset to a manageable size if necessary**"
   ]
  },
  {
   "cell_type": "code",
   "execution_count": null,
   "metadata": {},
   "outputs": [],
   "source": []
  },
  {
   "attachments": {},
   "cell_type": "markdown",
   "metadata": {},
   "source": [
    "**2. For supervised learning tasks, identify the target attribute(s)**"
   ]
  },
  {
   "cell_type": "code",
   "execution_count": null,
   "metadata": {},
   "outputs": [],
   "source": []
  },
  {
   "attachments": {},
   "cell_type": "markdown",
   "metadata": {},
   "source": [
    "**3. Study each attribute and its characteristics:**"
   ]
  },
  {
   "attachments": {},
   "cell_type": "markdown",
   "metadata": {},
   "source": [
    "**3 a. Name**"
   ]
  },
  {
   "cell_type": "code",
   "execution_count": null,
   "metadata": {},
   "outputs": [],
   "source": []
  },
  {
   "attachments": {},
   "cell_type": "markdown",
   "metadata": {},
   "source": [
    "**3 b. For tabular data, define the data type of each variable, namely:**\n",
    "\n",
    "- `Nominal`: Named categories, e.g., `gender : ['Female', 'Male']`\n",
    "- `Ordinal`: Categories with an implied order, e.g. `quality : [Low, Medium, High]`\n",
    "- `Discrete`: Only particular numbers, e.g., `age: {1,2,3,...,58,59,60}`\n",
    "- `Continuous`: Any numerical value, e.g. `weight: {38.9,45.5}`\n",
    "    \n",
    "📝 Nominal and ordinal data types are considered qualitative (**categorical**) features, whereas discrete and continuous data types are considered numerical (**quantitative**) features."
   ]
  },
  {
   "cell_type": "code",
   "execution_count": null,
   "metadata": {},
   "outputs": [],
   "source": []
  },
  {
   "attachments": {},
   "cell_type": "markdown",
   "metadata": {},
   "source": [
    "**3 c. Percentage of missing values, namely** `np.NaN` \n",
    "- [missingno](https://github.com/ResidentMario/missingno) can be a useful tool for visualization;\n",
    "- Ensure that missing values are not encoded in a specific ways, e.g. `-1`, `\"?\"`\n",
    "- Inspect rows with missing values to assess if a specific pattern exists. \n"
   ]
  },
  {
   "cell_type": "code",
   "execution_count": null,
   "metadata": {},
   "outputs": [],
   "source": []
  },
  {
   "attachments": {},
   "cell_type": "markdown",
   "metadata": {},
   "source": [
    "**3 d. Check if there are any duplicates and inspect them;**"
   ]
  },
  {
   "cell_type": "code",
   "execution_count": null,
   "metadata": {},
   "outputs": [],
   "source": []
  },
  {
   "attachments": {},
   "cell_type": "markdown",
   "metadata": {},
   "source": [
    "**3 e. Noisiness and type of noise e.g. stochastic, rounding errors, etc.** (might require business knowledge)\n"
   ]
  },
  {
   "cell_type": "code",
   "execution_count": null,
   "metadata": {},
   "outputs": [],
   "source": []
  },
  {
   "attachments": {},
   "cell_type": "markdown",
   "metadata": {},
   "source": [
    "**3 f. The frequency of each group within categorical variables and the type of distribution for numerical variables** \n",
    "\n",
    "Refer to this [link](https://www.itl.nist.gov/div898/handbook/eda/section3/eda366.htm) for common types of distributions. It is recommended to visualise each variable by using:\n",
    "- a [countplot](https://seaborn.pydata.org/generated/seaborn.countplot.html) for categorical variables;\n",
    "- a [histplot](https://seaborn.pydata.org/generated/seaborn.histplot.html#seaborn.histplot) for numerical variables."
   ]
  },
  {
   "attachments": {},
   "cell_type": "markdown",
   "metadata": {},
   "source": [
    "Visualize `nominal` variables"
   ]
  },
  {
   "cell_type": "code",
   "execution_count": null,
   "metadata": {},
   "outputs": [],
   "source": []
  },
  {
   "attachments": {},
   "cell_type": "markdown",
   "metadata": {},
   "source": [
    "Visualize `ordinal` variables"
   ]
  },
  {
   "cell_type": "code",
   "execution_count": null,
   "metadata": {},
   "outputs": [],
   "source": []
  },
  {
   "attachments": {},
   "cell_type": "markdown",
   "metadata": {},
   "source": [
    "Visualize `discrete` and `continuous` variables together"
   ]
  },
  {
   "cell_type": "code",
   "execution_count": null,
   "metadata": {},
   "outputs": [],
   "source": []
  },
  {
   "attachments": {},
   "cell_type": "markdown",
   "metadata": {},
   "source": [
    "**3. g Examine possible outliers in numerical variables and check whether they make sense (might require business knowledge).** \n",
    "\n",
    "For details on identifying outliers, refer to this [link](https://www.geeksforgeeks.org/detect-and-remove-the-outliers-using-python/)."
   ]
  },
  {
   "cell_type": "code",
   "execution_count": null,
   "metadata": {},
   "outputs": [],
   "source": []
  },
  {
   "attachments": {},
   "cell_type": "markdown",
   "metadata": {},
   "source": [
    "**4. Annotate all information from EDA, such as:**\n",
    "- the type of data;\n",
    "- if there are missing values and how to deal with them;\n",
    "- summary statistics of both numerical and categorical variables;\n",
    "- the type of distribution; \n",
    "- identify the promising transformations you may want to apply (e.g. log-transformation for highly skewed distribution or cluster facets to mitigate group imbalance);\n",
    "- identify additional data sources that would be useful;\n",
    "- anything else that is noteworthy for model training."
   ]
  },
  {
   "cell_type": "code",
   "execution_count": null,
   "metadata": {},
   "outputs": [],
   "source": []
  }
 ],
 "metadata": {
  "kernelspec": {
   "display_name": "my-env",
   "language": "python",
   "name": "python3"
  },
  "language_info": {
   "codemirror_mode": {
    "name": "ipython",
    "version": 3
   },
   "file_extension": ".py",
   "mimetype": "text/x-python",
   "name": "python",
   "nbconvert_exporter": "python",
   "pygments_lexer": "ipython3",
   "version": "3.9.16"
  },
  "orig_nbformat": 4
 },
 "nbformat": 4,
 "nbformat_minor": 2
}
