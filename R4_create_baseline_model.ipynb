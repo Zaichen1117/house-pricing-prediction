{
 "cells": [
  {
   "attachments": {},
   "cell_type": "markdown",
   "metadata": {},
   "source": [
    "## 4️⃣ Create a Baseline Model\n",
    "<!-- **designed by:** [datamover.ai](https://www.datamover.ai) -->"
   ]
  },
  {
   "cell_type": "code",
   "execution_count": 84,
   "metadata": {},
   "outputs": [],
   "source": [
    "# Load libraries\n",
    "import os\n",
    "import pickle\n",
    "\n",
    "import matplotlib.pyplot as plt\n",
    "import numpy as np\n",
    "import pandas as pd\n",
    "import seaborn as sns\n",
    "import statsmodels.api as sm\n",
    "import statsmodels.stats.api as sms\n",
    "from IPython.display import display\n",
    "import plotly.express as px\n",
    "import plotly.graph_objects as go\n",
    "import sklearn as sk\n",
    "\n",
    "# set random seed\n",
    "np.random.seed(42)\n",
    "\n",
    "pd.options.display.float_format = \"{:.2f}\".format\n",
    "pd.set_option(\"display.width\", 1000)"
   ]
  },
  {
   "attachments": {},
   "cell_type": "markdown",
   "metadata": {},
   "source": [
    "**1. Load both the train and validation datasets**"
   ]
  },
  {
   "cell_type": "code",
   "execution_count": 38,
   "metadata": {},
   "outputs": [],
   "source": [
    "import pyarrow.parquet as pq\n",
    "\n",
    "DATA_DIR = \"data\"\n",
    "FILENAME = \"data_train_processed.parquet\"\n",
    "\n",
    "# Extract data_train_processed.parquet\n",
    "train_dat = pd.read_parquet(\n",
    "                                        os.path.join(DATA_DIR, FILENAME),\n",
    "                                        engine='pyarrow')\n",
    "\n",
    "# Tailor data type\n",
    "train_dat = train_dat.astype(\n",
    "    {\n",
    "        \"Price\": \"float64\",\n",
    "        \"Address\": \"category\",\n",
    "        \"Zip\": \"category\",\n",
    "        \"Area\": \"float64\",\n",
    "        \"Room\": \"int64\",\n",
    "        \"Lon\": \"float64\",\n",
    "        \"Lat\": \"float64\",\n",
    "        \"log(Price)\": \"float64\",\n",
    "        \"log(Area)\": \"float64\",\n",
    "        \"log(Room)\": \"float64\",\n",
    "        \"Zip_num\": \"category\",\n",
    "        \"Region\": \"category\",\n",
    "        \"Location\": \"category\",\n",
    "        \"District\": \"category\",\n",
    "        \"Delivery_area\": \"category\",\n",
    "        \"AR-ratio\": \"float64\",\n",
    "        \"log(AR-ratio)\": \"float64\",\n",
    "        \"Euclidean_distance\": \"float64\",\n",
    "        \"Haversine_distance\": \"float64\",\n",
    "        \"Manhattan_distance\": \"float64\"\n",
    "        }\n",
    ")\n",
    "\n",
    "train_dat.rename(columns={'log(Price)':'log_price',\n",
    "                          'log(Area)': 'log_area',\n",
    "                          'AR-ratio': 'ar_ratio',\n",
    "                          'log(AR-ratio)': 'log_ar_ratio',\n",
    "                          'log(Room)': 'log_room'}, inplace=True)\n"
   ]
  },
  {
   "cell_type": "code",
   "execution_count": 39,
   "metadata": {},
   "outputs": [],
   "source": [
    "DATA_DIR = \"data\"\n",
    "FILENAME = \"data_val_processed.parquet\"\n",
    "\n",
    "# Extract data_val_processed.parquet\n",
    "val_dat = pd.read_parquet(\n",
    "                                        os.path.join(DATA_DIR, FILENAME),\n",
    "                                        engine='pyarrow')\n",
    "\n",
    "# Tailor data type\n",
    "val_dat = val_dat.astype(\n",
    "    {\n",
    "        \"Price\": \"float64\",\n",
    "        \"Address\": \"category\",\n",
    "        \"Zip\": \"category\",\n",
    "        \"Area\": \"float64\",\n",
    "        \"Room\": \"int64\",\n",
    "        \"Lon\": \"float64\",\n",
    "        \"Lat\": \"float64\",\n",
    "        \"log(Price)\": \"float64\",\n",
    "        \"log(Area)\": \"float64\",\n",
    "        \"log(Room)\": \"float64\",\n",
    "        \"Zip_num\": \"category\",\n",
    "        \"Region\": \"category\",\n",
    "        \"Location\": \"category\",\n",
    "        \"District\": \"category\",\n",
    "        \"Delivery_area\": \"category\",\n",
    "        \"AR-ratio\": \"float64\",\n",
    "        \"log(AR-ratio)\": \"float64\",\n",
    "        \"Euclidean_distance\": \"float64\",\n",
    "        \"Haversine_distance\": \"float64\",\n",
    "        \"Manhattan_distance\": \"float64\"\n",
    "        }\n",
    ")\n",
    "\n",
    "val_dat.rename(columns={'log(Price)':'log_price',\n",
    "                          'log(Area)': 'log_area',\n",
    "                          'AR-ratio': 'ar_ratio',\n",
    "                          'log(AR-ratio)': 'log_ar_ratio',\n",
    "                          'log(Room)': 'log_room'}, inplace=True)\n"
   ]
  },
  {
   "cell_type": "code",
   "execution_count": 40,
   "metadata": {},
   "outputs": [
    {
     "name": "stdout",
     "output_type": "stream",
     "text": [
      "train_dat: (552, 20)\n",
      "val_dat: (184, 20)\n"
     ]
    }
   ],
   "source": [
    "#display size of train and validation data respectively\n",
    "print(\"train_dat:\",train_dat.shape)\n",
    "print(\"val_dat:\",val_dat.shape)"
   ]
  },
  {
   "attachments": {},
   "cell_type": "markdown",
   "metadata": {},
   "source": [
    "**2. Start to fit a simple model, i.e., [linear regression](https://www.statsmodels.org/stable/regression.html) for regression problems and [logistic regression](https://www.statsmodels.org/stable/discretemod.html) for classification problems.**\n",
    "- use the [stastmodels](https://www.statsmodels.org/stable/index.html) API in this phase as they provide out-of-the-box comprehensive summary statistics.\n",
    "- try to comply as much as possible with the model assumptions [[link ols](https://statisticsbyjim.com/regression/ols-linear-regression-assumptions/), [link logit](https://www.statology.org/assumptions-of-logistic-regression/)].\n",
    "\n",
    "💁‍♂️ Apply one-hot encoding before fitting a model if you include categorial features in your model."
   ]
  },
  {
   "attachments": {},
   "cell_type": "markdown",
   "metadata": {},
   "source": [
    "Let's start to fit a model with all the features that have shown a statistically significant relationship with the target. Consider the log-transformed features when available, as they resemble a more Gaussian distribution than the original one."
   ]
  },
  {
   "cell_type": "code",
   "execution_count": 41,
   "metadata": {},
   "outputs": [
    {
     "data": {
      "text/html": [
       "<div>\n",
       "<style scoped>\n",
       "    .dataframe tbody tr th:only-of-type {\n",
       "        vertical-align: middle;\n",
       "    }\n",
       "\n",
       "    .dataframe tbody tr th {\n",
       "        vertical-align: top;\n",
       "    }\n",
       "\n",
       "    .dataframe thead th {\n",
       "        text-align: right;\n",
       "    }\n",
       "</style>\n",
       "<table border=\"1\" class=\"dataframe\">\n",
       "  <thead>\n",
       "    <tr style=\"text-align: right;\">\n",
       "      <th></th>\n",
       "      <th>Location</th>\n",
       "    </tr>\n",
       "    <tr>\n",
       "      <th>Region</th>\n",
       "      <th></th>\n",
       "    </tr>\n",
       "  </thead>\n",
       "  <tbody>\n",
       "    <tr>\n",
       "      <th>0</th>\n",
       "      <td>8</td>\n",
       "    </tr>\n",
       "    <tr>\n",
       "      <th>1</th>\n",
       "      <td>1</td>\n",
       "    </tr>\n",
       "  </tbody>\n",
       "</table>\n",
       "</div>"
      ],
      "text/plain": [
       "        Location\n",
       "Region          \n",
       "0              8\n",
       "1              1"
      ]
     },
     "execution_count": 41,
     "metadata": {},
     "output_type": "execute_result"
    }
   ],
   "source": [
    "# Given Region, location were feature engineered from Zip variable\n",
    "# I first checked whether these two variables showes any overlap\n",
    "df= train_dat[['Region', 'Location']]\n",
    "df.groupby(['Region']).count().sort_values(by='Location', ascending=False)\n",
    "\n",
    "#results indicated that region = 1 were captured by only 1 unique location, \n",
    "# indicating we can just use location to conceptually capture region information(i.e., urban vs outskirts)\n",
    "df.groupby(['Region']).agg({'Location': 'nunique'}).sort_values(by='Location', ascending=False)\n",
    "\n",
    "# when testing VIF, removing region improved the VIF score, thus I decided to remove region variable from my model"
   ]
  },
  {
   "cell_type": "markdown",
   "metadata": {},
   "source": [
    "- We conclude that conceptually Region is captured by Location, and including this variable will not increase model performance "
   ]
  },
  {
   "cell_type": "code",
   "execution_count": 42,
   "metadata": {},
   "outputs": [
    {
     "name": "stdout",
     "output_type": "stream",
     "text": [
      "                            OLS Regression Results                            \n",
      "==============================================================================\n",
      "Dep. Variable:              log_price   R-squared:                       0.875\n",
      "Model:                            OLS   Adj. R-squared:                  0.872\n",
      "Method:                 Least Squares   F-statistic:                     377.5\n",
      "Date:                Mon, 28 Aug 2023   Prob (F-statistic):          1.47e-236\n",
      "Time:                        09:58:47   Log-Likelihood:                 131.04\n",
      "No. Observations:                 552   AIC:                            -240.1\n",
      "Df Residuals:                     541   BIC:                            -192.6\n",
      "Df Model:                          10                                         \n",
      "Covariance Type:            nonrobust                                         \n",
      "======================================================================================\n",
      "                         coef    std err          t      P>|t|      [0.025      0.975]\n",
      "--------------------------------------------------------------------------------------\n",
      "Location[0]            8.8232      0.094     94.164      0.000       8.639       9.007\n",
      "Location[1]            9.3319      0.083    112.345      0.000       9.169       9.495\n",
      "Location[2]            8.9587      0.090     99.643      0.000       8.782       9.135\n",
      "Location[3]            8.9974      0.090    100.417      0.000       8.821       9.173\n",
      "Location[5]            9.2841      0.078    119.707      0.000       9.132       9.436\n",
      "Location[6]            8.9155      0.086    104.107      0.000       8.747       9.084\n",
      "Location[7]            9.3826      0.084    111.536      0.000       9.217       9.548\n",
      "Location[8]            9.1037      0.096     95.179      0.000       8.916       9.292\n",
      "Location[9]            9.2657      0.081    113.728      0.000       9.106       9.426\n",
      "log_area               0.9320      0.018     51.314      0.000       0.896       0.968\n",
      "Manhattan_distance    -2.2407      0.401     -5.582      0.000      -3.029      -1.452\n",
      "==============================================================================\n",
      "Omnibus:                      154.246   Durbin-Watson:                   2.063\n",
      "Prob(Omnibus):                  0.000   Jarque-Bera (JB):              574.170\n",
      "Skew:                           1.247   Prob(JB):                    2.09e-125\n",
      "Kurtosis:                       7.330   Cond. No.                         221.\n",
      "==============================================================================\n",
      "\n",
      "Notes:\n",
      "[1] Standard Errors assume that the covariance matrix of the errors is correctly specified.\n"
     ]
    }
   ],
   "source": [
    "# Final model selection \n",
    "import statsmodels.formula.api as smf\n",
    "\n",
    "# Model included interaction term between log_area and location showed improved performance, \n",
    "# however, it also makes the model more complex, thus I decided to remove it from the final model\n",
    "# lm = smf.ols(\"log_price ~ log_area + Location +log_area:Location -1\", data= train_dat)\n",
    "\n",
    "# final model removing intercept\n",
    "lm = smf.ols(\"log_price ~ log_area + Location + Manhattan_distance -1\", data= train_dat) \n",
    "model = lm.fit()\n",
    "print(model.summary())"
   ]
  },
  {
   "cell_type": "markdown",
   "metadata": {},
   "source": [
    "Model diagnostic: \n",
    "\n",
    "(1) OLS assumption: The error term has a population mean of zero\n"
   ]
  },
  {
   "cell_type": "code",
   "execution_count": 43,
   "metadata": {},
   "outputs": [
    {
     "data": {
      "text/plain": [
       "0.0"
      ]
     },
     "execution_count": 43,
     "metadata": {},
     "output_type": "execute_result"
    }
   ],
   "source": [
    "round(np.mean(model.resid, axis=0),2)"
   ]
  },
  {
   "cell_type": "markdown",
   "metadata": {},
   "source": [
    "(2) OLS assumption: The regression model is linear in the coefficients\n",
    "\n",
    "- The [Ramsey RESET Test](https://cran.r-project.org/web/packages/lmtest/lmtest.pdf) is used to determine whether any nonlinear combination of the explanatory variables can help explain the dependent variable ([Documentation](https://www.statsmodels.org/devel/generated/statsmodels.stats.diagnostic.linear_reset.html))."
   ]
  },
  {
   "cell_type": "code",
   "execution_count": 44,
   "metadata": {},
   "outputs": [
    {
     "name": "stdout",
     "output_type": "stream",
     "text": [
      "F-value: 25.43\n",
      "p-value: 0.000\n",
      "The result suggests that there is a non-linear relationship between target and feature variables.\n"
     ]
    },
    {
     "name": "stderr",
     "output_type": "stream",
     "text": [
      "/opt/anaconda3/envs/Anacoda/lib/python3.10/site-packages/statsmodels/stats/diagnostic.py:1065: FutureWarning:\n",
      "\n",
      "Support for multi-dimensional indexing (e.g. `obj[:, None]`) is deprecated and will be removed in a future version.  Convert to a numpy array before indexing instead.\n",
      "\n"
     ]
    }
   ],
   "source": [
    "# Model diagnostics: \n",
    "# Linearity test (Ramsey RESET Test)\n",
    "import statsmodels.stats as ss\n",
    "linearity = ss.diagnostic.linear_reset(model, power=2, test_type='fitted', \\\n",
    "                                          use_f=True, cov_type='HC3', cov_kwargs=None)\n",
    "\n",
    "print(f\"F-value: {linearity.statistic:.2f}\")\n",
    "print(f\"p-value: {linearity.pvalue:.3f}\")\n",
    "\n",
    "alpha=0.05\n",
    "if linearity.pvalue <= alpha:\n",
    "    print(f\"The result suggests that there is a non-linear relationship between target and feature variables.\")\n",
    "else: \n",
    "     print(f\"The result suggests that there is a linear relationship between target and feature variables.\")\n"
   ]
  },
  {
   "cell_type": "markdown",
   "metadata": {},
   "source": [
    "- Below plotted Residuals vs fitted plot also indicated the presence of non-linear relationship between features and target variables, as the red line strongly deviates from the horizontal line, as well as the presence of heteroskedasticity."
   ]
  },
  {
   "cell_type": "code",
   "execution_count": 45,
   "metadata": {},
   "outputs": [
    {
     "data": {
      "text/plain": [
       "Text(0, 0.5, 'Residuals')"
      ]
     },
     "execution_count": 45,
     "metadata": {},
     "output_type": "execute_result"
    },
    {
     "data": {
      "image/png": "[encoded data removed]",
      "text/plain": [
       "<Figure size 640x480 with 1 Axes>"
      ]
     },
     "metadata": {},
     "output_type": "display_data"
    }
   ],
   "source": [
    "# compute fitted values\n",
    "model_fitted_y = model.fittedvalues\n",
    "\n",
    "# Plot residual vs. fitted values\n",
    "plot = sns.residplot(x=model_fitted_y, y='log_price', data=train_dat, lowess=True, \n",
    "                     scatter_kws={'alpha': 0.5}, \n",
    "                     line_kws={'color': 'red', 'lw': 1, 'alpha': 0.8})\n",
    "\n",
    "plot.set_title('Residuals vs Fitted')\n",
    "plot.set_xlabel('Fitted values')\n",
    "plot.set_ylabel('Residuals')"
   ]
  },
  {
   "cell_type": "markdown",
   "metadata": {},
   "source": [
    "Next, we test for OLS efficiency property\n",
    "\n",
    "(3) OLS assumption: The error term has a constant variance (no heteroscedasticity)\n",
    "\n",
    "- The [Breusch-Pagan Test](https://www.geeksforgeeks.org/how-to-perform-a-breusch-pagan-test-in-python/) is used to determine whether or not heteroscedasticity is present in a regression model ([Documentation](https://www.statsmodels.org/dev/generated/statsmodels.stats.diagnostic.het_breuschpagan.html))."
   ]
  },
  {
   "cell_type": "code",
   "execution_count": 46,
   "metadata": {},
   "outputs": [
    {
     "name": "stdout",
     "output_type": "stream",
     "text": [
      "F-value: 12.92\n",
      "p-value: 0.000\n",
      "The result suggests that the error term is heteroskedastic.\n"
     ]
    }
   ],
   "source": [
    "import statsmodels.stats as ss\n",
    "x = train_dat[['log_area', 'Location']]\n",
    "x = x.assign(**{'constant': 1})\n",
    "breuschpagan = ss.diagnostic.het_breuschpagan(model.resid, x, robust=True)\n",
    "     \n",
    "print(f\"F-value: {breuschpagan[2]:.2f}\")\n",
    "print(f\"p-value: {breuschpagan[3]:.3f}\")\n",
    "\n",
    "alpha=0.05\n",
    "if breuschpagan[3]<= alpha:\n",
    "    print(f\"The result suggests that the error term is heteroskedastic.\")\n",
    "else: \n",
    "     print(f\"The result suggests that the error term is homoskedastic.\")\n"
   ]
  },
  {
   "cell_type": "markdown",
   "metadata": {},
   "source": [
    "(4) OLS assumption: Observations of the error term are uncorrelated with each other\n",
    "\n",
    "- The [Breusch-Godfrey Test](https://www.statology.org/breusch-godfrey-test-python/) is used to test for autocorrelation in the errors in a regression model ([Documentation](https://www.statsmodels.org/dev/generated/statsmodels.stats.diagnostic.acorr_breusch_godfrey.html))."
   ]
  },
  {
   "cell_type": "code",
   "execution_count": 47,
   "metadata": {},
   "outputs": [
    {
     "name": "stdout",
     "output_type": "stream",
     "text": [
      "F-value: 0.55\n",
      "p-value: 0.461\n",
      "The result suggests that the error term has no auto-correlation of order 1.\n"
     ]
    }
   ],
   "source": [
    "lags = 1\n",
    "acorr = ss.diagnostic.acorr_breusch_godfrey(model, nlags=lags)\n",
    "\n",
    "print(f\"F-value: {acorr[2]:.2f}\")\n",
    "print(f\"p-value: {acorr[3]:.3f}\")\n",
    "\n",
    "\n",
    "alpha=0.05\n",
    "if acorr[3]<= alpha:\n",
    "    print(f\"The result suggests that the error term has auto-correlation of order {lags}.\")\n",
    "else: \n",
    "     print(f\"The result suggests that the error term has no auto-correlation of order {lags}.\")"
   ]
  },
  {
   "cell_type": "markdown",
   "metadata": {},
   "source": [
    "Based on the above two tests, we need to correct for heteroscedasticity.\n",
    "\n",
    "- The NeweyWest estimator produces standard errors robust to both heteroscedasticity and autocorrelation (cov_type='HAC' in model.fit())\n",
    "- The White estimator produces standard errors robust to heteroscedasticity only (cov_type='HC3' in model.fit())\n",
    "\n"
   ]
  },
  {
   "cell_type": "code",
   "execution_count": 48,
   "metadata": {},
   "outputs": [
    {
     "name": "stdout",
     "output_type": "stream",
     "text": [
      "                            OLS Regression Results                            \n",
      "==============================================================================\n",
      "Dep. Variable:              log_price   R-squared:                       0.875\n",
      "Model:                            OLS   Adj. R-squared:                  0.872\n",
      "Method:                 Least Squares   F-statistic:                       nan\n",
      "Date:                Mon, 28 Aug 2023   Prob (F-statistic):                nan\n",
      "Time:                        09:58:47   Log-Likelihood:                 131.04\n",
      "No. Observations:                 552   AIC:                            -240.1\n",
      "Df Residuals:                     541   BIC:                            -192.6\n",
      "Df Model:                          10                                         \n",
      "Covariance Type:                  HAC                                         \n",
      "======================================================================================\n",
      "                         coef    std err          t      P>|t|      [0.025      0.975]\n",
      "--------------------------------------------------------------------------------------\n",
      "Location[0]            8.8232      0.124     71.198      0.000       8.580       9.067\n",
      "Location[1]            9.3319      0.100     92.925      0.000       9.135       9.529\n",
      "Location[2]            8.9587      0.112     80.219      0.000       8.739       9.178\n",
      "Location[3]            8.9974      0.112     80.123      0.000       8.777       9.218\n",
      "Location[5]            9.2841      0.096     97.006      0.000       9.096       9.472\n",
      "Location[6]            8.9155      0.111     80.033      0.000       8.697       9.134\n",
      "Location[7]            9.3826      0.105     89.351      0.000       9.176       9.589\n",
      "Location[8]            9.1037      0.119     76.273      0.000       8.869       9.338\n",
      "Location[9]            9.2657      0.099     93.307      0.000       9.071       9.461\n",
      "log_area               0.9320      0.024     39.249      0.000       0.885       0.979\n",
      "Manhattan_distance    -2.2407      0.650     -3.448      0.001      -3.517      -0.964\n",
      "==============================================================================\n",
      "Omnibus:                      154.246   Durbin-Watson:                   2.063\n",
      "Prob(Omnibus):                  0.000   Jarque-Bera (JB):              574.170\n",
      "Skew:                           1.247   Prob(JB):                    2.09e-125\n",
      "Kurtosis:                       7.330   Cond. No.                         221.\n",
      "==============================================================================\n",
      "\n",
      "Notes:\n",
      "[1] Standard Errors are heteroscedasticity and autocorrelation robust (HAC) using 1 lags and without small sample correction\n"
     ]
    }
   ],
   "source": [
    "# Using the Newey West estimator \n",
    "model_nw = lm.fit(cov_type='HAC',cov_kwds={'maxlags':1}, use_t= True)\n",
    "\n",
    "#statsmodel does not offer up-to-date solution for Newey West robust standard errors\n",
    "#different specification of can lead to different results (needs to compare with R output at somepoint)\n",
    "# model_nw = model.get_robustcov_results(cov_type='HAC',maxlags=1) \n",
    "\n",
    "print(model_nw.summary())"
   ]
  },
  {
   "cell_type": "code",
   "execution_count": 49,
   "metadata": {},
   "outputs": [
    {
     "name": "stdout",
     "output_type": "stream",
     "text": [
      "                            OLS Regression Results                            \n",
      "==============================================================================\n",
      "Dep. Variable:              log_price   R-squared:                       0.875\n",
      "Model:                            OLS   Adj. R-squared:                  0.872\n",
      "Method:                 Least Squares   F-statistic:                       nan\n",
      "Date:                Mon, 28 Aug 2023   Prob (F-statistic):                nan\n",
      "Time:                        09:58:47   Log-Likelihood:                 131.04\n",
      "No. Observations:                 552   AIC:                            -240.1\n",
      "Df Residuals:                     541   BIC:                            -192.6\n",
      "Df Model:                          10                                         \n",
      "Covariance Type:                  HC3                                         \n",
      "======================================================================================\n",
      "                         coef    std err          t      P>|t|      [0.025      0.975]\n",
      "--------------------------------------------------------------------------------------\n",
      "Location[0]            8.8232      0.134     65.785      0.000       8.560       9.087\n",
      "Location[1]            9.3319      0.102     91.435      0.000       9.131       9.532\n",
      "Location[2]            8.9587      0.116     77.055      0.000       8.730       9.187\n",
      "Location[3]            8.9974      0.114     79.151      0.000       8.774       9.221\n",
      "Location[5]            9.2841      0.099     94.241      0.000       9.091       9.478\n",
      "Location[6]            8.9155      0.118     75.688      0.000       8.684       9.147\n",
      "Location[7]            9.3826      0.107     87.955      0.000       9.173       9.592\n",
      "Location[8]            9.1037      0.127     71.709      0.000       8.854       9.353\n",
      "Location[9]            9.2657      0.102     90.567      0.000       9.065       9.467\n",
      "log_area               0.9320      0.024     38.452      0.000       0.884       0.980\n",
      "Manhattan_distance    -2.2407      0.747     -2.999      0.003      -3.708      -0.773\n",
      "==============================================================================\n",
      "Omnibus:                      154.246   Durbin-Watson:                   2.063\n",
      "Prob(Omnibus):                  0.000   Jarque-Bera (JB):              574.170\n",
      "Skew:                           1.247   Prob(JB):                    2.09e-125\n",
      "Kurtosis:                       7.330   Cond. No.                         221.\n",
      "==============================================================================\n",
      "\n",
      "Notes:\n",
      "[1] Standard Errors are heteroscedasticity robust (HC3)\n"
     ]
    }
   ],
   "source": [
    "# Using the White estimator \n",
    "model_w = lm.fit(cov_type='HC3', use_t= True)\n",
    "# model_w = model.get_robustcov_results(cov_type='HC3')\n",
    "\n",
    "print(model_w.summary())"
   ]
  },
  {
   "cell_type": "markdown",
   "metadata": {},
   "source": [
    "(5) OLS assumption: The error term is normally distributed\n",
    "\n",
    "\n",
    "- The [Jarque-Bera Test](https://www.statisticshowto.com/jarque-bera-test/) is used to test whether the sample data has the skewness and kurtosis matching a normal distribution([Documentation](https://docs.scipy.org/doc/scipy/reference/generated/scipy.stats.jarque_bera.html))."
   ]
  },
  {
   "cell_type": "code",
   "execution_count": 50,
   "metadata": {},
   "outputs": [
    {
     "name": "stdout",
     "output_type": "stream",
     "text": [
      "Chi-squared statistic: 574.17\n",
      "p-value: 0.000\n",
      "The result suggests that the error term is not normally distributed.\n"
     ]
    }
   ],
   "source": [
    "from scipy import stats\n",
    "\n",
    "normality = stats.jarque_bera(model_nw.resid)\n",
    "\n",
    "print(f\"Chi-squared statistic: {normality.statistic:.2f}\")\n",
    "print(f\"p-value: {normality.pvalue:.3f}\")\n",
    "\n",
    "alpha=0.05\n",
    "if normality.pvalue <= alpha:\n",
    "    print(f\"The result suggests that the error term is not normally distributed.\")\n",
    "else: \n",
    "     print(f\"The result suggests that the error term is not normally distributed.\")\n"
   ]
  },
  {
   "cell_type": "code",
   "execution_count": 51,
   "metadata": {},
   "outputs": [
    {
     "name": "stdout",
     "output_type": "stream",
     "text": [
      "Chi-squared statistic: 154.25\n",
      "p-value: 0.000\n",
      "The result suggests that the error term is not normally distributed.\n"
     ]
    }
   ],
   "source": [
    "# non-parametric test on normality also showed that the error term is not normally distributed\n",
    "Omnibus_test = sm.stats.omni_normtest(model_nw.resid)\n",
    "\n",
    "print(f\"Chi-squared statistic: {Omnibus_test.statistic:.2f}\")\n",
    "print(f\"p-value: {Omnibus_test.pvalue:.3f}\")\n",
    "\n",
    "\n",
    "alpha=0.05\n",
    "if Omnibus_test.pvalue <= alpha:\n",
    "    print(f\"The result suggests that the error term is not normally distributed.\")\n",
    "else: \n",
    "     print(f\"The result suggests that the error term is not normally distributed.\")\n"
   ]
  },
  {
   "cell_type": "code",
   "execution_count": 52,
   "metadata": {},
   "outputs": [
    {
     "data": {
      "image/png": "[encoded data removed]",
      "text/plain": [
       "<Figure size 640x480 with 1 Axes>"
      ]
     },
     "metadata": {},
     "output_type": "display_data"
    }
   ],
   "source": [
    "import pylab as py\n",
    "sm.qqplot(model_nw.resid, line ='45')\n",
    "py.show()"
   ]
  },
  {
   "cell_type": "code",
   "execution_count": 53,
   "metadata": {},
   "outputs": [
    {
     "data": {
      "image/png": "[encoded data removed]",
      "text/plain": [
       "<Figure size 640x480 with 1 Axes>"
      ]
     },
     "metadata": {},
     "output_type": "display_data"
    }
   ],
   "source": [
    "from scipy.stats import norm\n",
    "# Fit a normal distribution to the data:\n",
    "# mean and standard deviation\n",
    "mu, std = norm.fit(model_nw.resid) \n",
    "  \n",
    "# Plot the histogram.\n",
    "plt.hist(model_nw.resid, bins=25, density=True, alpha=0.6, color='b')\n",
    "  \n",
    "# Plot the PDF.\n",
    "xmin, xmax = plt.xlim()\n",
    "x = np.linspace(xmin, xmax, 100)\n",
    "p = norm.pdf(x, mu, std)\n",
    "  \n",
    "plt.plot(x, p, 'k', linewidth=2)\n",
    "title = \"Fit Values: {:.2f} and {:.2f}\".format(mu, std)\n",
    "plt.title(title)\n",
    "  \n",
    "plt.show()"
   ]
  },
  {
   "cell_type": "markdown",
   "metadata": {},
   "source": [
    "- From the above normality test result and the visualisation (qq plot and histgram), we can deduce that the errors are not normally distributed because they exhibit high kurtosis and positive skewness. \n",
    "\n",
    "- We can derive robust inferences using bootstrapping (i.e., the empirical distribution of beta)"
   ]
  },
  {
   "cell_type": "code",
   "execution_count": 54,
   "metadata": {},
   "outputs": [],
   "source": [
    "# creating dummy variables for location in order to perform bootstrapping\n",
    "dummy = pd.get_dummies(train_dat['Location'], prefix='Location',drop_first=False).astype('int64')\n",
    "train_dat_dummy = pd.concat([train_dat,dummy], axis=1)\n",
    "train_dat_dummy=pd.DataFrame(train_dat_dummy)\n",
    "boots_res_dat = train_dat_dummy[[\"log_price\",\"log_area\", \"Manhattan_distance\", \"Location_0\", \"Location_1\", \"Location_2\", \"Location_3\", \"Location_5\", \"Location_6\", \"Location_7\", \"Location_8\", \"Location_9\"]]"
   ]
  },
  {
   "cell_type": "code",
   "execution_count": 55,
   "metadata": {},
   "outputs": [],
   "source": [
    "# creating empty list so the results of each coefficeints can be appended\n",
    "betas_summary = {'log_area_beta':[],\n",
    "                 'Manhattan_distance_beta':[],\n",
    "                 'Location_0_beta':[],\n",
    "                 'Location_1_beta':[],\n",
    "                 'Location_2_beta':[],\n",
    "                 'Location_3_beta':[],\n",
    "                 'Location_5_beta':[],\n",
    "                 'Location_6_beta':[],\n",
    "                 'Location_7_beta':[],\n",
    "                 'Location_8_beta':[],\n",
    "                 'Location_9_beta':[]}\n",
    "\n",
    "# creating 999 bootstrap samples\n",
    "bs = range(1,1000,1) \n",
    "\n",
    "for i in bs:\n",
    "    # Creating a bootstrap sample with replacement\n",
    "    bootsample = boots_res_dat.sample(n=boots_res_dat.shape[0], replace=True)\n",
    "    # Fitting the model with the bootstrap sample\n",
    "    lm = smf.ols(\"log_price  ~ log_area + Manhattan_distance + Location_0 + Location_1 + Location_2 + Location_3 + Location_5 + Location_6 + Location_7 + Location_8 + Location_9 -1\", data= bootsample)\n",
    "    model = lm.fit()\n",
    "    #appending the results of each coefficient\n",
    "    betas_summary['log_area_beta'].append(model.params['log_area'])\n",
    "    betas_summary['Manhattan_distance_beta'].append(model.params['Manhattan_distance'])\n",
    "    betas_summary['Location_0_beta'].append(model.params['Location_0'])\n",
    "    betas_summary['Location_1_beta'].append(model.params['Location_1'])\n",
    "    betas_summary['Location_2_beta'].append(model.params['Location_2'])\n",
    "    betas_summary['Location_3_beta'].append(model.params['Location_3'])\n",
    "    betas_summary['Location_5_beta'].append(model.params['Location_5'])\n",
    "    betas_summary['Location_6_beta'].append(model.params['Location_6'])\n",
    "    betas_summary['Location_7_beta'].append(model.params['Location_7'])\n",
    "    betas_summary['Location_8_beta'].append(model.params['Location_8'])\n",
    "    betas_summary['Location_9_beta'].append(model.params['Location_9'])\n"
   ]
  },
  {
   "cell_type": "code",
   "execution_count": 56,
   "metadata": {},
   "outputs": [
    {
     "data": {
      "text/html": [
       "<div>\n",
       "<style scoped>\n",
       "    .dataframe tbody tr th:only-of-type {\n",
       "        vertical-align: middle;\n",
       "    }\n",
       "\n",
       "    .dataframe tbody tr th {\n",
       "        vertical-align: top;\n",
       "    }\n",
       "\n",
       "    .dataframe thead th {\n",
       "        text-align: right;\n",
       "    }\n",
       "</style>\n",
       "<table border=\"1\" class=\"dataframe\">\n",
       "  <thead>\n",
       "    <tr style=\"text-align: right;\">\n",
       "      <th></th>\n",
       "      <th>mean</th>\n",
       "      <th>2.5quantile</th>\n",
       "      <th>97.5quantile</th>\n",
       "    </tr>\n",
       "    <tr>\n",
       "      <th>index</th>\n",
       "      <th></th>\n",
       "      <th></th>\n",
       "      <th></th>\n",
       "    </tr>\n",
       "  </thead>\n",
       "  <tbody>\n",
       "    <tr>\n",
       "      <th>log_area_beta</th>\n",
       "      <td>0.93</td>\n",
       "      <td>0.89</td>\n",
       "      <td>0.98</td>\n",
       "    </tr>\n",
       "    <tr>\n",
       "      <th>Manhattan_distance_beta</th>\n",
       "      <td>-2.33</td>\n",
       "      <td>-3.60</td>\n",
       "      <td>-1.23</td>\n",
       "    </tr>\n",
       "    <tr>\n",
       "      <th>Location_0_beta</th>\n",
       "      <td>8.84</td>\n",
       "      <td>8.61</td>\n",
       "      <td>9.06</td>\n",
       "    </tr>\n",
       "    <tr>\n",
       "      <th>Location_1_beta</th>\n",
       "      <td>9.33</td>\n",
       "      <td>9.15</td>\n",
       "      <td>9.52</td>\n",
       "    </tr>\n",
       "    <tr>\n",
       "      <th>Location_2_beta</th>\n",
       "      <td>8.96</td>\n",
       "      <td>8.74</td>\n",
       "      <td>9.17</td>\n",
       "    </tr>\n",
       "    <tr>\n",
       "      <th>Location_3_beta</th>\n",
       "      <td>9.00</td>\n",
       "      <td>8.78</td>\n",
       "      <td>9.21</td>\n",
       "    </tr>\n",
       "    <tr>\n",
       "      <th>Location_5_beta</th>\n",
       "      <td>9.29</td>\n",
       "      <td>9.10</td>\n",
       "      <td>9.46</td>\n",
       "    </tr>\n",
       "    <tr>\n",
       "      <th>Location_6_beta</th>\n",
       "      <td>8.92</td>\n",
       "      <td>8.71</td>\n",
       "      <td>9.13</td>\n",
       "    </tr>\n",
       "    <tr>\n",
       "      <th>Location_7_beta</th>\n",
       "      <td>9.39</td>\n",
       "      <td>9.19</td>\n",
       "      <td>9.58</td>\n",
       "    </tr>\n",
       "    <tr>\n",
       "      <th>Location_8_beta</th>\n",
       "      <td>9.11</td>\n",
       "      <td>8.87</td>\n",
       "      <td>9.33</td>\n",
       "    </tr>\n",
       "    <tr>\n",
       "      <th>Location_9_beta</th>\n",
       "      <td>9.27</td>\n",
       "      <td>9.07</td>\n",
       "      <td>9.46</td>\n",
       "    </tr>\n",
       "  </tbody>\n",
       "</table>\n",
       "</div>"
      ],
      "text/plain": [
       "                         mean  2.5quantile  97.5quantile\n",
       "index                                                   \n",
       "log_area_beta            0.93         0.89          0.98\n",
       "Manhattan_distance_beta -2.33        -3.60         -1.23\n",
       "Location_0_beta          8.84         8.61          9.06\n",
       "Location_1_beta          9.33         9.15          9.52\n",
       "Location_2_beta          8.96         8.74          9.17\n",
       "Location_3_beta          9.00         8.78          9.21\n",
       "Location_5_beta          9.29         9.10          9.46\n",
       "Location_6_beta          8.92         8.71          9.13\n",
       "Location_7_beta          9.39         9.19          9.58\n",
       "Location_8_beta          9.11         8.87          9.33\n",
       "Location_9_beta          9.27         9.07          9.46"
      ]
     },
     "execution_count": 56,
     "metadata": {},
     "output_type": "execute_result"
    }
   ],
   "source": [
    "#To compare the bootstrapped coefficients with the original coefficients\n",
    "# I first computed the mean and 95% confidence interval of the bootstrapped coefficients\n",
    "boots_coeff = pd.DataFrame(betas_summary)\n",
    "mean_coeff = boots_coeff.mean(axis=0)\n",
    "quantile_coeff = boots_coeff.quantile([0.025, 0.975])\n",
    "\n",
    "\n",
    "betas_coeff_summary = {'mean': mean_coeff,\n",
    "                      '2.5quantile':quantile_coeff.iloc[0,:],\n",
    "                      '97.5quantile':quantile_coeff.iloc[1,:]}\n",
    "\n",
    "betas_coeff_summary = pd.DataFrame(betas_coeff_summary).reset_index()\n",
    "betas_coeff_summary.set_index('index', inplace=True)\n",
    "betas_coeff_summary #results are quite similar to the model coefficients and confidence interval"
   ]
  },
  {
   "cell_type": "markdown",
   "metadata": {},
   "source": [
    "- Results from bootrap indicate that our inferences are robust to non-normality of errors "
   ]
  },
  {
   "attachments": {},
   "cell_type": "markdown",
   "metadata": {},
   "source": [
    "**3. Measure the [Variance Inflation Factor (VIF)](https://www.investopedia.com/terms/v/variance-inflation-factor.asp) for each model fit. If the VIF of each feature is below 5, continue to step 4; otherwise, go to step 2 before removing highly correlated features.**"
   ]
  },
  {
   "cell_type": "code",
   "execution_count": 57,
   "metadata": {},
   "outputs": [
    {
     "data": {
      "text/html": [
       "<div>\n",
       "<style scoped>\n",
       "    .dataframe tbody tr th:only-of-type {\n",
       "        vertical-align: middle;\n",
       "    }\n",
       "\n",
       "    .dataframe tbody tr th {\n",
       "        vertical-align: top;\n",
       "    }\n",
       "\n",
       "    .dataframe thead th {\n",
       "        text-align: right;\n",
       "    }\n",
       "</style>\n",
       "<table border=\"1\" class=\"dataframe\">\n",
       "  <thead>\n",
       "    <tr style=\"text-align: right;\">\n",
       "      <th></th>\n",
       "      <th>feature</th>\n",
       "      <th>VIF</th>\n",
       "    </tr>\n",
       "  </thead>\n",
       "  <tbody>\n",
       "    <tr>\n",
       "      <th>0</th>\n",
       "      <td>log_area</td>\n",
       "      <td>5.59</td>\n",
       "    </tr>\n",
       "    <tr>\n",
       "      <th>1</th>\n",
       "      <td>Location</td>\n",
       "      <td>3.27</td>\n",
       "    </tr>\n",
       "    <tr>\n",
       "      <th>2</th>\n",
       "      <td>Manhattan_distance</td>\n",
       "      <td>3.31</td>\n",
       "    </tr>\n",
       "  </tbody>\n",
       "</table>\n",
       "</div>"
      ],
      "text/plain": [
       "              feature  VIF\n",
       "0            log_area 5.59\n",
       "1            Location 3.27\n",
       "2  Manhattan_distance 3.31"
      ]
     },
     "execution_count": 57,
     "metadata": {},
     "output_type": "execute_result"
    }
   ],
   "source": [
    "from statsmodels.stats.outliers_influence import variance_inflation_factor\n",
    "\n",
    "x = train_dat[['log_area', 'Location','Manhattan_distance']] #when checking VIF, preferrably to use categorical variables rather than dummy variables\n",
    "\n",
    "# VIF dataframe\n",
    "vif_data = pd.DataFrame()\n",
    "vif_data[\"feature\"] = x.columns\n",
    "vif_data[\"VIF\"] = [variance_inflation_factor(x.values, i)\n",
    "                          for i in range(len(x.columns))]\n",
    "\n",
    "vif_data"
   ]
  },
  {
   "cell_type": "markdown",
   "metadata": {},
   "source": [
    "- Inclusion of Manhattan Distance inflated VIF results, however, consider conceptually it brings new information to the model, I included this variable. "
   ]
  },
  {
   "attachments": {},
   "cell_type": "markdown",
   "metadata": {},
   "source": [
    "**4. Assess the feature’s importance and provide an interpretation of the overall model**\n",
    "\n",
    "⚠️ Make sure to standardise the features before assessing their impact on the model output. \n"
   ]
  },
  {
   "cell_type": "markdown",
   "metadata": {},
   "source": [
    "- See [link1](https://www.statalist.org/forums/forum/general-stata-discussion/general/1418218-does-it-make-sense-to-do-both-standardization-and-logarithm-transformation) and [link2](https://www.statalist.org/forums/forum/general-stata-discussion/general/1418218-does-it-make-sense-to-do-both-standardization-and-logarithm-transformation) for justification to standardaise original values (over log transformed ones)\n",
    "\n",
    "- However, with the aim of comparing the magnititude of model coefficents, the log transformed and non-transformed  features similar patterns. I thus used the former to present feature importance (in order to be more consistent with variable selection of the model in train set)  \n",
    "\n"
   ]
  },
  {
   "cell_type": "code",
   "execution_count": 58,
   "metadata": {},
   "outputs": [
    {
     "data": {
      "text/html": [
       "<div>\n",
       "<style scoped>\n",
       "    .dataframe tbody tr th:only-of-type {\n",
       "        vertical-align: middle;\n",
       "    }\n",
       "\n",
       "    .dataframe tbody tr th {\n",
       "        vertical-align: top;\n",
       "    }\n",
       "\n",
       "    .dataframe thead th {\n",
       "        text-align: right;\n",
       "    }\n",
       "</style>\n",
       "<table border=\"1\" class=\"dataframe\">\n",
       "  <thead>\n",
       "    <tr style=\"text-align: right;\">\n",
       "      <th></th>\n",
       "      <th>Price</th>\n",
       "      <th>Area</th>\n",
       "      <th>Room</th>\n",
       "      <th>Lon</th>\n",
       "      <th>Lat</th>\n",
       "      <th>log_price</th>\n",
       "      <th>log_area</th>\n",
       "      <th>log_room</th>\n",
       "      <th>ar_ratio</th>\n",
       "      <th>log_ar_ratio</th>\n",
       "      <th>Euclidean_distance</th>\n",
       "      <th>Haversine_distance</th>\n",
       "      <th>Manhattan_distance</th>\n",
       "    </tr>\n",
       "  </thead>\n",
       "  <tbody>\n",
       "    <tr>\n",
       "      <th>count</th>\n",
       "      <td>552.00</td>\n",
       "      <td>552.00</td>\n",
       "      <td>552.00</td>\n",
       "      <td>552.00</td>\n",
       "      <td>552.00</td>\n",
       "      <td>552.00</td>\n",
       "      <td>552.00</td>\n",
       "      <td>552.00</td>\n",
       "      <td>552.00</td>\n",
       "      <td>552.00</td>\n",
       "      <td>552.00</td>\n",
       "      <td>552.00</td>\n",
       "      <td>552.00</td>\n",
       "    </tr>\n",
       "    <tr>\n",
       "      <th>mean</th>\n",
       "      <td>611200.74</td>\n",
       "      <td>94.70</td>\n",
       "      <td>3.53</td>\n",
       "      <td>4.89</td>\n",
       "      <td>52.36</td>\n",
       "      <td>13.14</td>\n",
       "      <td>4.43</td>\n",
       "      <td>1.18</td>\n",
       "      <td>27.16</td>\n",
       "      <td>3.25</td>\n",
       "      <td>3.44</td>\n",
       "      <td>3.89</td>\n",
       "      <td>0.06</td>\n",
       "    </tr>\n",
       "    <tr>\n",
       "      <th>std</th>\n",
       "      <td>516752.98</td>\n",
       "      <td>55.15</td>\n",
       "      <td>1.52</td>\n",
       "      <td>0.05</td>\n",
       "      <td>0.02</td>\n",
       "      <td>0.54</td>\n",
       "      <td>0.48</td>\n",
       "      <td>0.40</td>\n",
       "      <td>13.18</td>\n",
       "      <td>0.30</td>\n",
       "      <td>2.13</td>\n",
       "      <td>2.44</td>\n",
       "      <td>0.04</td>\n",
       "    </tr>\n",
       "    <tr>\n",
       "      <th>min</th>\n",
       "      <td>175000.00</td>\n",
       "      <td>21.00</td>\n",
       "      <td>1.00</td>\n",
       "      <td>4.66</td>\n",
       "      <td>52.29</td>\n",
       "      <td>12.07</td>\n",
       "      <td>3.04</td>\n",
       "      <td>0.00</td>\n",
       "      <td>13.50</td>\n",
       "      <td>2.60</td>\n",
       "      <td>0.07</td>\n",
       "      <td>0.08</td>\n",
       "      <td>0.00</td>\n",
       "    </tr>\n",
       "    <tr>\n",
       "      <th>25%</th>\n",
       "      <td>350000.00</td>\n",
       "      <td>60.00</td>\n",
       "      <td>3.00</td>\n",
       "      <td>4.85</td>\n",
       "      <td>52.35</td>\n",
       "      <td>12.77</td>\n",
       "      <td>4.09</td>\n",
       "      <td>1.10</td>\n",
       "      <td>20.94</td>\n",
       "      <td>3.04</td>\n",
       "      <td>1.93</td>\n",
       "      <td>2.15</td>\n",
       "      <td>0.03</td>\n",
       "    </tr>\n",
       "    <tr>\n",
       "      <th>50%</th>\n",
       "      <td>462000.00</td>\n",
       "      <td>82.00</td>\n",
       "      <td>3.00</td>\n",
       "      <td>4.89</td>\n",
       "      <td>52.36</td>\n",
       "      <td>13.04</td>\n",
       "      <td>4.41</td>\n",
       "      <td>1.10</td>\n",
       "      <td>25.00</td>\n",
       "      <td>3.22</td>\n",
       "      <td>2.99</td>\n",
       "      <td>3.33</td>\n",
       "      <td>0.05</td>\n",
       "    </tr>\n",
       "    <tr>\n",
       "      <th>75%</th>\n",
       "      <td>695000.00</td>\n",
       "      <td>111.00</td>\n",
       "      <td>4.00</td>\n",
       "      <td>4.92</td>\n",
       "      <td>52.38</td>\n",
       "      <td>13.45</td>\n",
       "      <td>4.71</td>\n",
       "      <td>1.39</td>\n",
       "      <td>30.52</td>\n",
       "      <td>3.42</td>\n",
       "      <td>4.60</td>\n",
       "      <td>5.05</td>\n",
       "      <td>0.08</td>\n",
       "    </tr>\n",
       "    <tr>\n",
       "      <th>max</th>\n",
       "      <td>5950000.00</td>\n",
       "      <td>497.00</td>\n",
       "      <td>14.00</td>\n",
       "      <td>5.03</td>\n",
       "      <td>52.42</td>\n",
       "      <td>15.60</td>\n",
       "      <td>6.21</td>\n",
       "      <td>2.64</td>\n",
       "      <td>258.00</td>\n",
       "      <td>5.55</td>\n",
       "      <td>13.50</td>\n",
       "      <td>16.15</td>\n",
       "      <td>0.24</td>\n",
       "    </tr>\n",
       "  </tbody>\n",
       "</table>\n",
       "</div>"
      ],
      "text/plain": [
       "           Price   Area   Room    Lon    Lat  log_price  log_area  log_room  ar_ratio  log_ar_ratio  Euclidean_distance  Haversine_distance  Manhattan_distance\n",
       "count     552.00 552.00 552.00 552.00 552.00     552.00    552.00    552.00    552.00        552.00              552.00              552.00              552.00\n",
       "mean   611200.74  94.70   3.53   4.89  52.36      13.14      4.43      1.18     27.16          3.25                3.44                3.89                0.06\n",
       "std    516752.98  55.15   1.52   0.05   0.02       0.54      0.48      0.40     13.18          0.30                2.13                2.44                0.04\n",
       "min    175000.00  21.00   1.00   4.66  52.29      12.07      3.04      0.00     13.50          2.60                0.07                0.08                0.00\n",
       "25%    350000.00  60.00   3.00   4.85  52.35      12.77      4.09      1.10     20.94          3.04                1.93                2.15                0.03\n",
       "50%    462000.00  82.00   3.00   4.89  52.36      13.04      4.41      1.10     25.00          3.22                2.99                3.33                0.05\n",
       "75%    695000.00 111.00   4.00   4.92  52.38      13.45      4.71      1.39     30.52          3.42                4.60                5.05                0.08\n",
       "max   5950000.00 497.00  14.00   5.03  52.42      15.60      6.21      2.64    258.00          5.55               13.50               16.15                0.24"
      ]
     },
     "execution_count": 58,
     "metadata": {},
     "output_type": "execute_result"
    }
   ],
   "source": [
    "train_dat.describe()"
   ]
  },
  {
   "cell_type": "code",
   "execution_count": 59,
   "metadata": {},
   "outputs": [
    {
     "data": {
      "text/html": [
       "<div>\n",
       "<style scoped>\n",
       "    .dataframe tbody tr th:only-of-type {\n",
       "        vertical-align: middle;\n",
       "    }\n",
       "\n",
       "    .dataframe tbody tr th {\n",
       "        vertical-align: top;\n",
       "    }\n",
       "\n",
       "    .dataframe thead th {\n",
       "        text-align: right;\n",
       "    }\n",
       "</style>\n",
       "<table border=\"1\" class=\"dataframe\">\n",
       "  <thead>\n",
       "    <tr style=\"text-align: right;\">\n",
       "      <th></th>\n",
       "      <th>log_price_standard</th>\n",
       "      <th>log_area_standard</th>\n",
       "      <th>Manhattan_distance_standard</th>\n",
       "      <th>Location_0</th>\n",
       "      <th>Location_1</th>\n",
       "      <th>Location_2</th>\n",
       "      <th>Location_3</th>\n",
       "      <th>Location_5</th>\n",
       "      <th>Location_6</th>\n",
       "      <th>Location_7</th>\n",
       "      <th>Location_8</th>\n",
       "      <th>Location_9</th>\n",
       "    </tr>\n",
       "  </thead>\n",
       "  <tbody>\n",
       "    <tr>\n",
       "      <th>0</th>\n",
       "      <td>0.40</td>\n",
       "      <td>-0.07</td>\n",
       "      <td>-0.73</td>\n",
       "      <td>0</td>\n",
       "      <td>0</td>\n",
       "      <td>0</td>\n",
       "      <td>0</td>\n",
       "      <td>0</td>\n",
       "      <td>0</td>\n",
       "      <td>1</td>\n",
       "      <td>0</td>\n",
       "      <td>0</td>\n",
       "    </tr>\n",
       "    <tr>\n",
       "      <th>1</th>\n",
       "      <td>-0.45</td>\n",
       "      <td>-0.66</td>\n",
       "      <td>-0.60</td>\n",
       "      <td>0</td>\n",
       "      <td>0</td>\n",
       "      <td>0</td>\n",
       "      <td>0</td>\n",
       "      <td>1</td>\n",
       "      <td>0</td>\n",
       "      <td>0</td>\n",
       "      <td>0</td>\n",
       "      <td>0</td>\n",
       "    </tr>\n",
       "  </tbody>\n",
       "</table>\n",
       "</div>"
      ],
      "text/plain": [
       "   log_price_standard  log_area_standard  Manhattan_distance_standard  Location_0  Location_1  Location_2  Location_3  Location_5  Location_6  Location_7  Location_8  Location_9\n",
       "0                0.40              -0.07                        -0.73           0           0           0           0           0           0           1           0           0\n",
       "1               -0.45              -0.66                        -0.60           0           0           0           0           1           0           0           0           0"
      ]
     },
     "metadata": {},
     "output_type": "display_data"
    }
   ],
   "source": [
    "from sklearn import preprocessing\n",
    "# from sklearn_pandas import DataFrameMapper\n",
    "from sklearn.preprocessing import LabelBinarizer\n",
    "from sklearn.preprocessing import StandardScaler\n",
    "\n",
    "\n",
    "#select variables from -- since we are standardising the data, I used raw variables prior to log transformation \n",
    "res_stan = train_dat[['log_price','log_area','Location','Manhattan_distance']]\n",
    "\n",
    "# Transform categorical variable (Location) into dummy variables\n",
    "label_binarizer = LabelBinarizer()\n",
    "label_binarizer_output = label_binarizer.fit_transform(res_stan.select_dtypes('category'))\n",
    "\n",
    "result_df = pd.DataFrame(label_binarizer_output,\n",
    "                         columns = label_binarizer.classes_)\n",
    "# Add prefix to the column names\n",
    "prefix = 'Location_'\n",
    "result_df = result_df.add_prefix(prefix)\n",
    "\n",
    "#standardise the numeric features\n",
    "scaler= StandardScaler(with_mean=True, with_std=True)\n",
    "scale = scaler.fit_transform(res_stan.select_dtypes('float64')) \n",
    "\n",
    "scale_df = pd.DataFrame(scale,\n",
    "                         columns = ['log_price_standard','log_area_standard','Manhattan_distance_standard'])\n",
    "\n",
    "#combine the standardised numeric features and dummy variables \n",
    "res = pd.concat([scale_df,result_df], axis=1)\n",
    "\n",
    "# Display standardised dataset for regression model\n",
    "display(res.head(2))\n"
   ]
  },
  {
   "cell_type": "code",
   "execution_count": 60,
   "metadata": {},
   "outputs": [
    {
     "data": {
      "text/html": [
       "<div>\n",
       "<style scoped>\n",
       "    .dataframe tbody tr th:only-of-type {\n",
       "        vertical-align: middle;\n",
       "    }\n",
       "\n",
       "    .dataframe tbody tr th {\n",
       "        vertical-align: top;\n",
       "    }\n",
       "\n",
       "    .dataframe thead th {\n",
       "        text-align: right;\n",
       "    }\n",
       "</style>\n",
       "<table border=\"1\" class=\"dataframe\">\n",
       "  <thead>\n",
       "    <tr style=\"text-align: right;\">\n",
       "      <th></th>\n",
       "      <th>feature</th>\n",
       "      <th>VIF</th>\n",
       "    </tr>\n",
       "  </thead>\n",
       "  <tbody>\n",
       "    <tr>\n",
       "      <th>0</th>\n",
       "      <td>log_area_standard</td>\n",
       "      <td>1.13</td>\n",
       "    </tr>\n",
       "    <tr>\n",
       "      <th>1</th>\n",
       "      <td>Manhattan_distance_standard</td>\n",
       "      <td>3.91</td>\n",
       "    </tr>\n",
       "    <tr>\n",
       "      <th>2</th>\n",
       "      <td>Location_0</td>\n",
       "      <td>2.24</td>\n",
       "    </tr>\n",
       "    <tr>\n",
       "      <th>3</th>\n",
       "      <td>Location_1</td>\n",
       "      <td>1.74</td>\n",
       "    </tr>\n",
       "    <tr>\n",
       "      <th>4</th>\n",
       "      <td>Location_2</td>\n",
       "      <td>1.05</td>\n",
       "    </tr>\n",
       "    <tr>\n",
       "      <th>5</th>\n",
       "      <td>Location_3</td>\n",
       "      <td>1.05</td>\n",
       "    </tr>\n",
       "    <tr>\n",
       "      <th>6</th>\n",
       "      <td>Location_5</td>\n",
       "      <td>1.14</td>\n",
       "    </tr>\n",
       "    <tr>\n",
       "      <th>7</th>\n",
       "      <td>Location_6</td>\n",
       "      <td>1.50</td>\n",
       "    </tr>\n",
       "    <tr>\n",
       "      <th>8</th>\n",
       "      <td>Location_7</td>\n",
       "      <td>1.15</td>\n",
       "    </tr>\n",
       "    <tr>\n",
       "      <th>9</th>\n",
       "      <td>Location_8</td>\n",
       "      <td>1.07</td>\n",
       "    </tr>\n",
       "    <tr>\n",
       "      <th>10</th>\n",
       "      <td>Location_9</td>\n",
       "      <td>1.03</td>\n",
       "    </tr>\n",
       "  </tbody>\n",
       "</table>\n",
       "</div>"
      ],
      "text/plain": [
       "                        feature  VIF\n",
       "0             log_area_standard 1.13\n",
       "1   Manhattan_distance_standard 3.91\n",
       "2                    Location_0 2.24\n",
       "3                    Location_1 1.74\n",
       "4                    Location_2 1.05\n",
       "5                    Location_3 1.05\n",
       "6                    Location_5 1.14\n",
       "7                    Location_6 1.50\n",
       "8                    Location_7 1.15\n",
       "9                    Location_8 1.07\n",
       "10                   Location_9 1.03"
      ]
     },
     "execution_count": 60,
     "metadata": {},
     "output_type": "execute_result"
    }
   ],
   "source": [
    "# standardise the trainset indeed improved VIF score (resolving multicollinearity issue showed above)\n",
    "from statsmodels.stats.outliers_influence import variance_inflation_factor\n",
    "\n",
    "x = res[['log_area_standard','Manhattan_distance_standard','Location_0','Location_1','Location_2','Location_3','Location_5','Location_6','Location_7','Location_8','Location_9']]\n",
    "\n",
    "# VIF dataframe\n",
    "vif_data = pd.DataFrame()\n",
    "vif_data[\"feature\"] = x.columns\n",
    "vif_data[\"VIF\"] = [variance_inflation_factor(x.values, i)\n",
    "                          for i in range(len(x.columns))]\n",
    "\n",
    "vif_data"
   ]
  },
  {
   "cell_type": "code",
   "execution_count": 61,
   "metadata": {},
   "outputs": [],
   "source": [
    "predictor = [\"log_area_standard\", \"Manhattan_distance_standard\", \"Location_0\", \"Location_1\", \"Location_2\", \"Location_3\", \"Location_5\", \"Location_6\", \"Location_7\", \"Location_8\", \"Location_9\"]\n",
    "target = \"log_price_standard\"\n",
    "\n",
    "X = res[predictor]\n",
    "Y = res[target]"
   ]
  },
  {
   "cell_type": "code",
   "execution_count": 62,
   "metadata": {},
   "outputs": [
    {
     "name": "stdout",
     "output_type": "stream",
     "text": [
      "                            OLS Regression Results                            \n",
      "==============================================================================\n",
      "Dep. Variable:     log_price_standard   R-squared:                       0.875\n",
      "Model:                            OLS   Adj. R-squared:                  0.872\n",
      "Method:                 Least Squares   F-statistic:                       nan\n",
      "Date:                Mon, 28 Aug 2023   Prob (F-statistic):                nan\n",
      "Time:                        09:58:59   Log-Likelihood:                -210.08\n",
      "No. Observations:                 552   AIC:                             442.2\n",
      "Df Residuals:                     541   BIC:                             489.6\n",
      "Df Model:                          10                                         \n",
      "Covariance Type:                  HAC                                         \n",
      "===============================================================================================\n",
      "                                  coef    std err          t      P>|t|      [0.025      0.975]\n",
      "-----------------------------------------------------------------------------------------------\n",
      "log_area_standard               0.8294      0.021     39.249      0.000       0.788       0.871\n",
      "Manhattan_distance_standard    -0.1680      0.049     -3.448      0.001      -0.264      -0.072\n",
      "Location_0                     -0.6145      0.105     -5.825      0.000      -0.822      -0.407\n",
      "Location_1                      0.3292      0.060      5.501      0.000       0.212       0.447\n",
      "Location_2                     -0.3632      0.091     -3.985      0.000      -0.542      -0.184\n",
      "Location_3                     -0.2913      0.081     -3.588      0.000      -0.451      -0.132\n",
      "Location_5                      0.2405      0.038      6.293      0.000       0.165       0.316\n",
      "Location_6                     -0.4432      0.049     -9.093      0.000      -0.539      -0.347\n",
      "Location_7                      0.4233      0.047      9.024      0.000       0.331       0.515\n",
      "Location_8                     -0.0941      0.094     -1.001      0.317      -0.279       0.091\n",
      "Location_9                      0.2064      0.043      4.756      0.000       0.121       0.292\n",
      "==============================================================================\n",
      "Omnibus:                      154.246   Durbin-Watson:                   2.063\n",
      "Prob(Omnibus):                  0.000   Jarque-Bera (JB):              574.170\n",
      "Skew:                           1.247   Prob(JB):                    2.09e-125\n",
      "Kurtosis:                       7.330   Cond. No.                         7.05\n",
      "==============================================================================\n",
      "\n",
      "Notes:\n",
      "[1] Standard Errors are heteroscedasticity and autocorrelation robust (HAC) using 1 lags and without small sample correction\n"
     ]
    }
   ],
   "source": [
    "lm = smf.ols(\"log_price_standard  ~ log_area_standard + Manhattan_distance_standard +\\\n",
    "Location_0 + Location_1 + Location_2 + Location_3 + Location_5 + Location_6 + Location_7 +  Location_8 + Location_9 -1\", data= res)\n",
    "model_standarised = lm.fit(cov_type='HAC',cov_kwds={'maxlags':1}, use_t= True)#.get_robustcov_results(cov_type='HAC',maxlags=1)\n",
    "\n",
    "print(model_standarised.summary())"
   ]
  },
  {
   "cell_type": "code",
   "execution_count": 63,
   "metadata": {},
   "outputs": [
    {
     "name": "stdout",
     "output_type": "stream",
     "text": [
      "                             importance\n",
      "feature                                \n",
      "log_area_standard                  0.83\n",
      "Location_7                         0.42\n",
      "Location_1                         0.33\n",
      "Location_5                         0.24\n",
      "Location_9                         0.21\n",
      "Location_8                        -0.09\n",
      "Manhattan_distance_standard       -0.17\n",
      "Location_3                        -0.29\n",
      "Location_2                        -0.36\n",
      "Location_6                        -0.44\n",
      "Location_0                        -0.61\n"
     ]
    },
    {
     "data": {
      "image/png": "[encoded data removed]",
      "text/plain": [
       "<Figure size 640x480 with 1 Axes>"
      ]
     },
     "metadata": {},
     "output_type": "display_data"
    }
   ],
   "source": [
    "# In predictive modelling, it is recommendable to use model coefficients to determine the importance of each feature\n",
    "# Below section implemented this approach\n",
    "\n",
    "from matplotlib import pyplot\n",
    "\n",
    "# get importance\n",
    "importance = model_standarised.params\n",
    "feature= X.columns.tolist()\n",
    "# using dictionary comprehension to convert lists to dictionary\n",
    "label = {feature[i]: importance[i] for i in range(len(feature))}\n",
    "label= pd.DataFrame.from_dict(label,orient='index').reset_index().rename(columns={'index':'feature', 0:'importance'})\n",
    "label = label.sort_values(by='importance', ascending=True).set_index('feature')\n",
    "\n",
    "print(label.sort_values(by='importance', ascending=False))\n",
    "\n",
    "\n",
    "# creating the bar plot\n",
    "plt.barh(label.index, label['importance'], color='maroon')\n",
    "plt.xlabel(\"Importance Score\")\n",
    "plt.ylabel(\"Features\")\n",
    "plt.title(\"Importance Score of Features- based on model coefficients\")\n",
    "plt.show()"
   ]
  },
  {
   "attachments": {},
   "cell_type": "markdown",
   "metadata": {},
   "source": [
    "**5. Assess the model quality via** \n",
    "- [diagnostic plots](https://data.library.virginia.edu/diagnostic-plots/) if you are dealing with a regression problem.\n",
    "- [performance metrics](https://scikit-learn.org/stable/modules/model_evaluation.html) defined in 0️⃣ b) Define Analytical Needs;\n"
   ]
  },
  {
   "cell_type": "code",
   "execution_count": 64,
   "metadata": {},
   "outputs": [
    {
     "data": {
      "text/plain": [
       "Text(0, 0.5, 'Residuals')"
      ]
     },
     "execution_count": 64,
     "metadata": {},
     "output_type": "execute_result"
    },
    {
     "data": {
      "image/png": "[encoded data removed]",
      "text/plain": [
       "<Figure size 640x480 with 1 Axes>"
      ]
     },
     "metadata": {},
     "output_type": "display_data"
    }
   ],
   "source": [
    "# compute fitted values\n",
    "model_fitted_y = model_standarised.fittedvalues\n",
    "\n",
    "#  Plot residual vs. fitted values\n",
    "plot = sns.residplot(x=model_fitted_y, y='log_price_standard', data=res, lowess=True, \n",
    "                     scatter_kws={'alpha': 0.5}, \n",
    "                     line_kws={'color': 'red', 'lw': 1, 'alpha': 0.8})\n",
    "\n",
    "plot.set_title('Residuals vs Fitted')\n",
    "plot.set_xlabel('Fitted values')\n",
    "plot.set_ylabel('Residuals')"
   ]
  },
  {
   "cell_type": "code",
   "execution_count": 65,
   "metadata": {},
   "outputs": [
    {
     "name": "stdout",
     "output_type": "stream",
     "text": [
      "R square: 0.872\n"
     ]
    }
   ],
   "source": [
    "print(f\"R square: {model_standarised.rsquared_adj:.3f}\")"
   ]
  },
  {
   "attachments": {},
   "cell_type": "markdown",
   "metadata": {},
   "source": [
    "**6. Keep track of the model performance and annotate your baseline model. As a final check, you can:**\n",
    "- show the scatter plot between the [predicted values versus the actual](https://statisticsglobe.com/plot-predicted-vs-actual-values-in-r) for both training and validation set for a regression problem;\n",
    "- the [decision boundary](https://scikit-learn.org/stable/modules/generated/sklearn.inspection.DecisionBoundaryDisplay.html) in the case of a classification problem. \n",
    "\n",
    "💁‍♀️ Aim to retrieve a model with the least amount of predictors while achieving a desired level of performance.\n"
   ]
  },
  {
   "cell_type": "code",
   "execution_count": 106,
   "metadata": {},
   "outputs": [
    {
     "name": "stdout",
     "output_type": "stream",
     "text": [
      "LinearRegression(fit_intercept=False)\n",
      "\tR2 score: 0.875\n",
      "\tMean absolute error(MAE):0.138\n",
      "\tRoot Mean Square Error(RMSE): 0.191\n",
      "\tMax Error: 1.16\n"
     ]
    },
    {
     "data": {
      "application/vnd.plotly.v1+json": {
       "config": {
        "plotlyServerURL": "https://plot.ly"
       },
       "data": [
        {
         "hovertemplate": "Observed values=%{x}<br>Predicted values=%{y}<extra></extra>",
         "legendgroup": "",
         "marker": {
          "color": "#636efa",
          "symbol": "circle"
         },
         "mode": "markers",
         "name": "",
         "orientation": "v",
         "showlegend": false,
         "type": "scatter",
         "x": [
          13.36138027787483,
          12.89921982609012,
          13.45166712454693,
          13.864300722133706,
          12.611537753638338,
          12.506177237980511,
          14.187074114396758,
          13.262125319779487,
          13.199324418540456,
          12.560244459250788,
          12.611537753638338,
          12.765688433465597,
          12.834681304952548,
          12.834681304952548,
          12.676076274775909,
          12.706847933442663,
          12.834681304952548,
          12.323855681186558,
          13.049792684569493,
          12.70381302974751,
          12.834681304952548,
          12.751299696013497,
          13.071070083016778,
          13.527828485512494,
          12.834681304952548,
          13.955272500339433,
          12.994530005894443,
          12.959844447906553,
          12.524526376648708,
          12.765688433465597,
          12.691580461311874,
          13.197470849891134,
          13.560618308335483,
          12.706847933442663,
          12.969212197910155,
          12.691580461311874,
          13.351886535682578,
          13.17115354157376,
          12.959844447906553,
          13.190022025878143,
          13.036805489042683,
          13.122363377404328,
          13.437174117244362,
          13.081541382884074,
          13.005829561148378,
          13.120361374733656,
          14.22097566607244,
          13.376850544998469,
          13.304684934198283,
          13.840203170554645,
          13.681979165339751,
          12.409013489526863,
          14.217636764806924,
          12.765688433465597,
          12.936033799212835,
          13.458835614025542,
          13.071070083016778,
          13.270783382522602,
          12.80765263256463,
          13.997832114758229,
          13.120361374733656,
          12.66032791780777,
          12.691580461311874,
          12.611537753638338,
          13.573438996764546,
          15.318476225887858,
          13.38472764187182,
          12.644327576461329,
          12.896716695872,
          12.886641043883259,
          12.611537753638338,
          13.710150042306449,
          13.304684934198283,
          12.611537753638338,
          12.992254692057308,
          12.691580461311874,
          13.693342923990066,
          13.45166712454693,
          12.89921982609012,
          13.017002861746503,
          13.017002861746503,
          13.091904169919621,
          12.765688433465597,
          13.813508555293602,
          13.560618308335483,
          12.594730635321957,
          13.36138027787483,
          12.89921982609012,
          12.691580461311874,
          13.217673557208654,
          13.112313041550827,
          14.038654109278484,
          14.721750953984929,
          13.493926933836812,
          12.959844447906553,
          13.458835614025542,
          12.429216196844383,
          12.721885810807203,
          12.524526376648708,
          13.928839243271277,
          13.017002861746503,
          12.89921982609012,
          13.122363377404328,
          12.733755386362587,
          13.458835614025542,
          13.017002861746503,
          13.458835614025542,
          12.959844447906553,
          12.80765263256463,
          12.959844447906553,
          14.204168547756057,
          13.527828485512494,
          13.296316684527767,
          13.9108207377686,
          13.592367006650065,
          14.343193298796688,
          13.815010432922591,
          13.437174117244362,
          13.651814465293484,
          12.765688433465597,
          12.095141084822892,
          12.86099861326992,
          13.190022025878143,
          13.527828485512494,
          13.652991628466498,
          13.122363377404328,
          12.834681304952548,
          12.959844447906553,
          12.992254692057308,
          12.736700896592344,
          13.345506928718539,
          14.074021253115776,
          12.524526376648708,
          14.375126345899696,
          13.560618308335483,
          12.691580461311874,
          12.86099861326992,
          13.623138665316818,
          12.721885810807203,
          12.834681304952548,
          13.122363377404328,
          13.217673557208654,
          12.611537753638338,
          13.071070083016778,
          12.959844447906553,
          15.598901777521812,
          12.611537753638338,
          13.437174117244362,
          13.422467969854667,
          14.316285845876763,
          13.437174117244362,
          13.527828485512494,
          14.151982794585487,
          12.959844447906553,
          13.815510557964274,
          12.959844447906553,
          12.834681304952548,
          13.122363377404328,
          12.765688433465597,
          12.691580461311874,
          12.367340793126296,
          13.976778705560397,
          13.527828485512494,
          12.691580461311874,
          12.765688433465597,
          14.037853789107714,
          12.834681304952548,
          12.594730635321957,
          14.038654109278484,
          13.458835614025542,
          12.66032791780777,
          12.959844447906553,
          13.112313041550827,
          12.834681304952548,
          12.560244459250788,
          13.485616636703183,
          12.834681304952548,
          13.38472764187182,
          13.422467969854667,
          12.721885810807203,
          12.793859310432293,
          14.721750953984929,
          12.736700896592344,
          12.691580461311874,
          12.992254692057308,
          12.84792653170257,
          13.9108307377186,
          13.652991628466498,
          12.765688433465597,
          12.765688433465597,
          12.736700896592344,
          12.345834587905333,
          13.804449610604848,
          15.118423310145113,
          13.017002861746503,
          12.691580461311874,
          12.691580461311874,
          13.742939865129438,
          12.834681304952548,
          12.594730635321957,
          12.762076202923572,
          12.765688433465597,
          13.217673557208654,
          14.346138809026444,
          12.524526376648708,
          14.077874822431765,
          13.458835614025542,
          12.834681304952548,
          12.959844447906553,
          13.122363377404328,
          12.751299696013497,
          12.594730635321957,
          13.527828485512494,
          12.611537753638338,
          14.133964289082808,
          13.17115354157376,
          13.681979165339751,
          13.262125319779487,
          13.112313041550827,
          12.751299696013497,
          12.793859310432293,
          12.384218830913648,
          12.92391243868049,
          13.253391639810733,
          13.262125319779487,
          12.765688433465597,
          12.345834587905333,
          12.894207284266574,
          12.834681304952548,
          12.611537753638338,
          13.623138665316818,
          13.815510557964274,
          12.834681304952548,
          12.834681304952548,
          12.765688433465597,
          13.217673557208654,
          12.524526376648708,
          12.542544882151386,
          13.864300722133706,
          13.122363377404328,
          12.89921982609012,
          13.279367126213993,
          12.367340793126296,
          12.691580461311874,
          12.751299696013497,
          12.594730635321957,
          13.262125319779487,
          15.330637790927133,
          12.611537753638338,
          12.765688433465597,
          12.834681304952548,
          12.409013489526863,
          13.985253332551368,
          13.592367006650065,
          12.409013489526863,
          13.573438996764546,
          13.499429010990795,
          12.765688433465597,
          13.422467969854667,
          12.896716695872,
          12.691580461311874,
          12.834681304952548,
          12.323855681186558,
          14.603967918328545,
          13.528827985845577,
          13.146079904021645,
          13.45597438174451,
          13.049792684569493,
          13.422467969854667,
          13.38472764187182,
          14.115615150414612,
          12.542544882151386,
          13.017002861746503,
          13.17115354157376,
          12.524526376648708,
          12.971540487669746,
          13.458835614025542,
          12.468436909997665,
          13.071070083016778,
          12.86099861326992,
          12.323855681186558,
          12.691580461311874,
          14.038654109278484,
          13.217673557208654,
          12.834681304952548,
          12.751299696013497,
          12.676076274775909,
          13.38472764187182,
          12.611537753638338,
          13.790192749979985,
          13.9108207377686,
          12.072541252905651,
          13.81049801614073,
          12.429216196844383,
          13.017002861746503,
          12.80765263256463,
          14.346138809026444,
          13.161391764371807,
          12.594730635321957,
          12.429216196844383,
          13.407542319637992,
          14.038654109278484,
          12.894234922075603,
          13.527828485512494,
          12.959844447906553,
          13.091904169919621,
          13.262125319779487,
          13.005829561148378,
          12.765688433465597,
          12.691580461311874,
          12.959844447906553,
          13.071070083016778,
          12.834681304952548,
          12.834681304952548,
          13.790192749979985,
          13.151922179645874,
          14.22097566607244,
          12.959844447906553,
          12.611537753638338,
          12.611537753638338,
          12.375815420117268,
          13.049792684569493,
          13.329377546788654,
          12.821258284620408,
          13.413539339110365,
          14.301018373745976,
          13.623138665316818,
          12.206072645530174,
          12.818551923022664,
          13.541073712262515,
          12.765688433465597,
          13.262125319779487,
          12.611537753638338,
          12.897969044188466,
          12.594730635321957,
          12.409013489526863,
          13.457406021215947,
          14.400515579904516,
          13.681979165339751,
          13.217673557208654,
          13.81049801614073,
          13.049792684569493,
          13.304684934198283,
          12.86099861326992,
          13.304684934198283,
          13.493926933836812,
          12.594730635321957,
          13.681979165339751,
          13.493926933836812,
          13.215853720491667,
          12.793859310432293,
          14.151982794585487,
          13.296316684527767,
          12.834681304952548,
          13.112313041550827,
          13.623138665316818,
          12.388394202324129,
          12.611537753638338,
          12.765688433465597,
          12.524526376648708,
          13.304684934198283,
          13.081541382884074,
          13.955272500339433,
          12.834681304952548,
          12.959844447906553,
          13.091904169919621,
          12.959844447906553,
          13.235692062711331,
          13.500799813124575,
          12.323855681186558,
          13.704578997256993,
          12.524526376648708,
          12.577636201962656,
          13.345506928718539,
          12.524526376648708,
          12.2783933071098,
          12.971540487669746,
          13.217673557208654,
          12.502466658583977,
          14.09692301740246,
          12.89921982609012,
          13.253391639810733,
          13.217673557208654,
          12.89921982609012,
          12.765688433465597,
          12.323855681186558,
          13.976778705560397,
          12.834681304952548,
          13.17115354157376,
          13.208541073645382,
          13.049792684569493,
          13.304684934198283,
          13.864300722133706,
          12.834681304952548,
          12.764258840656002,
          13.017002861746503,
          14.220308777084735,
          13.487006490992238,
          12.86099861326992,
          13.122363377404328,
          12.409013489526863,
          12.959844447906553,
          13.017002861746503,
          12.429216196844383,
          13.458835614025542,
          13.122363377404328,
          12.834681304952548,
          12.834681304952548,
          13.17115354157376,
          12.611537753638338,
          12.691580461311874,
          13.507625778194974,
          13.071070083016778,
          13.997832114758229,
          13.437174117244362,
          12.834681304952548,
          13.17115354157376,
          12.524526376648708,
          13.681979165339751,
          13.304684934198283,
          12.429216196844383,
          14.169682371684887,
          13.217673557208654,
          12.896716695872,
          12.611537753638338,
          13.071070083016778,
          12.691580461311874,
          12.765688433465597,
          12.89921982609012,
          13.815510557964274,
          13.704578997256993,
          12.834681304952548,
          12.201060103706629,
          13.122363377404328,
          13.217673557208654,
          13.38472764187182,
          13.591116224748411,
          12.80765263256463,
          12.765688433465597,
          13.217673557208654,
          12.765688433465597,
          13.337474757021274,
          13.437174117244362,
          12.89921982609012,
          13.017002861746503,
          12.948009990259552,
          13.304684934198283,
          12.644327576461329,
          13.235692062711331,
          14.790070197962406,
          12.250089530946948,
          13.208541073645382,
          13.955272500339433,
          13.217673557208654,
          12.611537753638338,
          12.765688433465597,
          13.681979165339751,
          12.959844447906553,
          14.253765488895429,
          13.345506928718539,
          12.834681304952548,
          12.524526376648708,
          12.751299696013497,
          14.09692301740246,
          12.871334622600584,
          12.611537753638338,
          12.765688433465597,
          12.834681304952548,
          13.217673557208654,
          12.959844447906553,
          13.071070083016778,
          12.896716695872,
          12.84792653170257,
          12.936033799212835,
          13.748301808270824,
          13.071070083016778,
          13.369223455335854,
          12.691580461311874,
          12.487485104968359,
          13.304684934198283,
          12.971540487669746,
          12.886641043883259,
          13.217673557208654,
          12.691580461311874,
          14.038654109278484,
          13.37700559577791,
          13.909911233385758,
          13.262125319779487,
          13.58609739363647,
          12.429216196844383,
          13.507625778194974,
          13.710150042306449,
          12.524526376648708,
          13.262125319779487,
          13.17115354157376,
          13.901688254205327,
          12.691580461311874,
          13.527828485512494,
          13.071070083016778,
          12.936033799212835,
          12.691580461311874,
          13.709038313453757,
          12.611537753638338,
          12.765688433465597,
          13.764217263576723,
          13.17115354157376,
          13.304684934198283,
          13.017002861746503,
          12.524526376648708,
          12.611537753638338,
          13.262125319779487,
          12.604848765487542,
          12.834681304952548,
          12.818551923022664,
          13.345506928718539,
          14.038654109278484,
          12.611537753638338,
          13.437174117244362,
          13.262125319779487,
          13.244581010128577,
          12.323855681186558,
          13.058358047428417,
          15.068273526459642,
          13.296316684527767,
          13.38472764187182,
          12.765688433465597,
          12.994530005894443,
          13.710150042306449,
          13.422467969854667,
          14.269765830241871,
          14.343193298796688,
          13.527828485512494,
          12.691580461311874,
          14.375126345899696,
          13.122363377404328,
          12.80765263256463,
          13.422467969854667,
          13.81049801614073,
          13.142166004700508,
          12.791077667470416,
          12.594730635321957,
          12.959844447906553,
          13.262125319779487,
          13.058358047428417,
          14.301018373745976,
          13.458835614025542,
          12.765688433465597,
          13.112313041550827,
          13.526494262499357,
          12.611537753638338,
          12.691580461311874,
          13.493926933836812
         ],
         "xaxis": "x",
         "y": [
          13.407769428034364,
          13.033143522271573,
          13.40211904043143,
          13.719196375103591,
          12.873587783332283,
          12.600612647349571,
          14.44191054531444,
          13.578483796497318,
          12.959482716211554,
          12.02689249031478,
          12.612817869291135,
          13.174194217883922,
          12.698734022939407,
          12.929702506231914,
          12.648755032666164,
          12.84359052108396,
          12.933102438353414,
          12.211716920808431,
          12.77856924789332,
          12.835670030913413,
          12.910346763437508,
          12.899953583733328,
          13.037392655723306,
          13.744896368451641,
          13.190349159348118,
          13.873874029959335,
          13.116682378233099,
          12.98304774799343,
          12.856522651767474,
          12.767433688462823,
          12.744429780881305,
          13.383390729201496,
          13.456456118658457,
          12.833769601990019,
          12.924270432360306,
          12.654027322032531,
          13.132458248050222,
          13.29510163613435,
          13.078787258472165,
          13.236693626778749,
          13.145144150754824,
          13.071116755232467,
          13.613416773726811,
          13.174009176231301,
          13.059502268996459,
          12.996873549060773,
          13.681929509153768,
          13.429662278818501,
          13.280716304210683,
          13.680312450516087,
          13.787048699216754,
          12.434665298883653,
          13.564449193238978,
          12.684048185950132,
          12.976229152511076,
          13.47097977436702,
          13.238590428347937,
          13.140911155928332,
          13.006622569405941,
          13.266181224979434,
          13.316531288971802,
          12.755158195849878,
          12.662219975888823,
          12.637637292111224,
          13.446408245339253,
          14.158760078147989,
          13.471473153776891,
          12.764557640137893,
          13.154638789918764,
          12.727134027842139,
          12.587570359200726,
          13.701286674119856,
          13.180918008723438,
          12.554799258191682,
          12.87157539503392,
          12.824721284589646,
          13.866324257241484,
          13.560154228886667,
          12.86882176782157,
          12.964335404153559,
          12.863821801254547,
          13.09933956173727,
          12.896762732376647,
          13.784667231774975,
          13.650622162695893,
          12.591639364216068,
          13.084558107387625,
          12.618332102058568,
          12.625509133969203,
          13.339093660305005,
          12.917099295106908,
          14.05859538029393,
          14.145762741867212,
          13.689532515839666,
          13.2800953342543,
          13.344643800192477,
          12.406079866139962,
          13.027013128521151,
          12.656280069809139,
          13.710649690250598,
          13.018799242907727,
          12.773963967870475,
          13.11754906475956,
          12.755436523749063,
          13.60871499656879,
          12.751866391698492,
          13.490285753296032,
          13.043627401020869,
          12.772900842674558,
          12.845547424636134,
          14.283854119779733,
          13.683888275757269,
          13.416018496751157,
          13.851937127262591,
          13.67998610360431,
          13.751523726584765,
          13.968437879735294,
          13.071107307975828,
          13.306935648594449,
          12.865139296846001,
          11.738946153012538,
          12.872221757516318,
          13.226699195010122,
          13.558811599830893,
          13.522709557166863,
          13.173243094064787,
          12.87728577343843,
          13.201484003338834,
          13.024033642685412,
          12.833731510651617,
          13.432832044204138,
          13.942879033706259,
          12.442468104061144,
          14.415596897228617,
          13.817289825180033,
          12.709263084006096,
          13.0385909561614,
          13.589487107856751,
          13.07553931550488,
          12.97768069097598,
          13.330533951800806,
          13.149589201323053,
          12.459711474207639,
          13.2033488193025,
          13.055580007099499,
          14.871438094110168,
          12.764015406550158,
          13.341368723920134,
          13.302609336172532,
          14.405543528646737,
          13.517949219687235,
          13.469437252923518,
          14.31889272028518,
          12.968827790236123,
          13.770167828697165,
          12.976598088320015,
          12.918578810021517,
          13.1811945181698,
          12.866816524324229,
          12.696412549369834,
          12.378125002309167,
          14.009304412285612,
          13.33676892880536,
          12.674226545252356,
          12.861709042498996,
          13.882359134647281,
          12.925389620847682,
          12.797474476423744,
          13.885743974946163,
          13.007403680305032,
          12.786112181613575,
          12.897849455854205,
          13.134580843456309,
          12.763627569810001,
          12.455280430510925,
          13.175478164905146,
          13.048323791119302,
          13.302064806828344,
          13.25279505958232,
          13.065664751910372,
          12.68036597273382,
          14.145762741867212,
          12.77487909620335,
          12.831777649058981,
          13.036222687264269,
          12.987975696373894,
          13.888718906896894,
          13.76431520658711,
          12.914056257403022,
          12.630265461500777,
          12.632941820479596,
          12.232631127617632,
          13.685182296910959,
          14.463385831402356,
          13.007369192450883,
          12.963696552367498,
          12.8745108103567,
          13.787048699216754,
          12.804720268441685,
          12.581381780888805,
          12.84889081110978,
          12.916524834122983,
          13.210538033567028,
          14.206721831232613,
          12.776824782194332,
          13.763437578871391,
          13.483741110612339,
          12.907804051024543,
          12.86611058686611,
          13.285309829276109,
          12.641523926309995,
          12.336497990284345,
          13.438546552740387,
          12.67179754234872,
          13.75330727997366,
          13.282720298858118,
          13.735488239448138,
          13.565201260188703,
          13.058238107757436,
          12.879043538025048,
          12.738728557799817,
          12.22457701441405,
          13.075351060266557,
          13.038858178911564,
          13.399165453915472,
          12.990519385677882,
          12.291705155989622,
          13.113341879928353,
          12.879760515610874,
          12.870510175558792,
          13.64751245104754,
          13.801337212293806,
          12.858226445345199,
          12.669153262994618,
          12.571962118449353,
          13.218052950445538,
          12.590982875353493,
          12.579570356422842,
          13.946487639596679,
          13.047058101671094,
          12.864101868041654,
          13.200898972028275,
          12.025658256709002,
          12.823914805254503,
          12.511803634095125,
          12.44660490292032,
          13.622506656674023,
          15.074074179955868,
          13.060903334611803,
          12.775628538900488,
          12.828408436454001,
          12.475769227979493,
          14.038899988619196,
          13.267053913063538,
          12.442508436066502,
          13.709704105046272,
          13.690037573169995,
          12.915122814877913,
          13.478198198882762,
          12.803845163823109,
          13.027060182527396,
          12.910991109198166,
          12.250786755941983,
          14.206083170481827,
          13.721606513731818,
          13.18105184302998,
          13.514610463200135,
          12.869458189271253,
          13.249670755098775,
          13.403483590509857,
          14.132140684876722,
          12.758727187990775,
          13.368322203611203,
          13.166008005033438,
          12.667515142093935,
          12.924317766549496,
          13.342679866223298,
          12.643413849748692,
          12.970122133903871,
          12.774519009390474,
          12.38378796135326,
          12.636766423010094,
          14.158590880983523,
          13.254130918046844,
          12.934189161830979,
          12.730410662252615,
          12.563307765117427,
          13.602081119573398,
          12.843073219351806,
          13.97145584206255,
          13.878184107482133,
          11.879852807146156,
          13.724408484735468,
          12.351782383807166,
          13.079583655309559,
          12.831692503714354,
          14.231045899543137,
          13.259880094858975,
          12.779558285315018,
          12.4310862188342,
          13.571696351738185,
          13.953751322367287,
          12.736661772323789,
          13.764689602799399,
          13.295295213811649,
          13.155538784967831,
          13.268030449943115,
          13.19254415294938,
          12.797812651161225,
          12.87610288030103,
          12.929721271904684,
          12.843673908924059,
          12.931216089174741,
          12.68420663369934,
          13.739866388364035,
          13.327214700884142,
          14.21643064118778,
          13.249850464843572,
          12.537056905908525,
          12.813178309474264,
          12.232130302749827,
          13.049299686210984,
          13.466521144208524,
          12.78201146773084,
          13.24596368076267,
          14.447586149659337,
          13.57879688403563,
          11.800139123414677,
          12.809108821383832,
          13.494713667883024,
          12.767316095622848,
          13.245116098346603,
          12.64783555749878,
          12.931872533656055,
          12.845845597238117,
          12.476979188140078,
          13.193841420424679,
          13.891501926432085,
          13.342158589408188,
          13.45603419421429,
          13.954012650457962,
          13.196767107475768,
          13.754413928088898,
          12.618332102058568,
          13.317737645140102,
          13.44655300097389,
          12.783088899959571,
          13.107230559474965,
          13.539117880891084,
          13.41635386452888,
          12.896746657022966,
          13.97186136453471,
          13.375514427463422,
          12.865421915573695,
          13.28953939877755,
          13.724408636006263,
          12.317459113031493,
          12.665409032707139,
          12.575509094253418,
          12.778069775571442,
          13.412236085773772,
          13.000450779487236,
          13.900640475775095,
          12.757829998049067,
          12.952522837152253,
          13.15375998461156,
          12.950723886370241,
          13.39691358361662,
          13.497621726278807,
          12.42480120227391,
          13.64751245104754,
          12.784382386717336,
          12.419588479139014,
          13.315071342445066,
          12.18865843143239,
          12.10417901030043,
          13.022870636230653,
          13.420011240240978,
          12.435447490623316,
          13.924910806158623,
          12.890393952703725,
          13.397146523997527,
          13.652297391464735,
          12.95491258833987,
          12.657547020372071,
          12.460275844811108,
          14.0100677380635,
          12.86407498003808,
          13.196514949695484,
          13.113156922812804,
          13.017310343858782,
          13.323310220436905,
          13.141132605740495,
          12.790032335083293,
          12.74605999570235,
          13.094696555566422,
          14.292086503542993,
          13.484787690411714,
          12.834722353532383,
          13.39921614992444,
          12.32150236880317,
          13.23449660337012,
          13.11280560863936,
          12.897387900200464,
          13.35682819629891,
          13.033178678398446,
          13.03756613941853,
          12.860320051493513,
          13.306154302094907,
          12.724609905254004,
          12.776234307918761,
          13.365783852617351,
          13.02790491245102,
          13.639412500065493,
          13.454872401266647,
          12.879644383971595,
          13.061720296140034,
          12.213374719718438,
          13.553595796682934,
          13.240241693566716,
          12.542848074881842,
          14.474869476938423,
          13.42387600425686,
          12.7320141182398,
          12.537718772586484,
          13.034207868553306,
          12.78247781979791,
          12.951832356878864,
          12.845026079377236,
          13.655550979342415,
          13.735315349559823,
          12.93483416870928,
          12.02987123032505,
          13.275316296827357,
          13.163684702756402,
          13.343691414131653,
          13.838250919924473,
          12.821846682212183,
          12.984584267828852,
          13.4341593268248,
          13.037502191505801,
          13.314824901633969,
          13.538114142544618,
          12.942820748780749,
          13.261945098142185,
          12.925173409900477,
          13.289595931701378,
          12.689173785794493,
          13.176858827594387,
          14.881865865964738,
          12.268723778151514,
          13.0498826546361,
          13.85519432899811,
          13.20739081225308,
          12.682344481663057,
          12.885036421175386,
          13.46119014845561,
          12.803515785779403,
          14.019867654239196,
          13.31419855120336,
          12.649679954059078,
          12.706486199518526,
          12.805592082687664,
          13.96289244221316,
          12.725415864831293,
          12.674827421792981,
          12.790963875519843,
          12.94881956707565,
          13.245975540226878,
          12.843615092629985,
          12.949854278772332,
          13.05936614214512,
          12.739111775508444,
          12.845037282712061,
          13.44476031642234,
          13.217252430414904,
          13.084558107387625,
          12.755723002843622,
          12.38294467694882,
          13.219131827085207,
          12.925594806368574,
          12.880743821307217,
          13.18293911870712,
          12.713413995385071,
          13.795797815385624,
          13.084558107387625,
          14.044442361424085,
          13.267278588466962,
          13.604613073242767,
          12.443981100452845,
          13.612248896814044,
          13.51024200005125,
          12.664228568999484,
          13.5905651776856,
          13.096022940604016,
          13.988868888896434,
          12.973299447540885,
          13.535724389464242,
          13.323782301053718,
          13.017792407693625,
          12.828934698885632,
          13.882359134647281,
          12.911716368897398,
          12.803994523699572,
          13.92643465459944,
          13.059541775656577,
          13.258885466020992,
          12.730269547540592,
          12.572826541012954,
          12.728589180766953,
          13.387690684005179,
          12.374174524008366,
          13.00877850970464,
          12.894481045256395,
          13.175808228451455,
          13.93370953232279,
          12.581553534153482,
          13.472940432647903,
          13.302042304996878,
          12.972709867939635,
          12.399451441657009,
          12.966079037242267,
          14.778396114073235,
          13.435075566030928,
          13.142937555341263,
          12.831426972783012,
          12.961090792774264,
          13.26518151289589,
          13.552618557699006,
          13.376572320457013,
          14.425771730830474,
          13.321282639165169,
          12.834914100349895,
          14.294531088054894,
          13.454008493589209,
          12.803532745339442,
          13.553472418261634,
          13.568923232785817,
          13.100363444069743,
          12.723136107268203,
          12.762332665660168,
          13.025264947888811,
          13.221898654404523,
          13.25387838190079,
          14.245615219741193,
          13.345976155136906,
          12.783597979445878,
          13.212706117144863,
          13.726310283735959,
          12.832840093327068,
          12.52435767547994,
          13.550927820466129
         ],
         "yaxis": "y"
        }
       ],
       "layout": {
        "legend": {
         "tracegroupgap": 0
        },
        "margin": {
         "t": 60
        },
        "shapes": [
         {
          "line": {
           "dash": "dash"
          },
          "type": "line",
          "x0": 12.072541252905651,
          "x1": 15.598901777521812,
          "y0": 12.072541252905651,
          "y1": 15.598901777521812
         }
        ],
        "template": {
         "data": {
          "bar": [
           {
            "error_x": {
             "color": "#2a3f5f"
            },
            "error_y": {
             "color": "#2a3f5f"
            },
            "marker": {
             "line": {
              "color": "#E5ECF6",
              "width": 0.5
             },
             "pattern": {
              "fillmode": "overlay",
              "size": 10,
              "solidity": 0.2
             }
            },
            "type": "bar"
           }
          ],
          "barpolar": [
           {
            "marker": {
             "line": {
              "color": "#E5ECF6",
              "width": 0.5
             },
             "pattern": {
              "fillmode": "overlay",
              "size": 10,
              "solidity": 0.2
             }
            },
            "type": "barpolar"
           }
          ],
          "carpet": [
           {
            "aaxis": {
             "endlinecolor": "#2a3f5f",
             "gridcolor": "white",
             "linecolor": "white",
             "minorgridcolor": "white",
             "startlinecolor": "#2a3f5f"
            },
            "baxis": {
             "endlinecolor": "#2a3f5f",
             "gridcolor": "white",
             "linecolor": "white",
             "minorgridcolor": "white",
             "startlinecolor": "#2a3f5f"
            },
            "type": "carpet"
           }
          ],
          "choropleth": [
           {
            "colorbar": {
             "outlinewidth": 0,
             "ticks": ""
            },
            "type": "choropleth"
           }
          ],
          "contour": [
           {
            "colorbar": {
             "outlinewidth": 0,
             "ticks": ""
            },
            "colorscale": [
             [
              0,
              "#0d0887"
             ],
             [
              0.1111111111111111,
              "#46039f"
             ],
             [
              0.2222222222222222,
              "#7201a8"
             ],
             [
              0.3333333333333333,
              "#9c179e"
             ],
             [
              0.4444444444444444,
              "#bd3786"
             ],
             [
              0.5555555555555556,
              "#d8576b"
             ],
             [
              0.6666666666666666,
              "#ed7953"
             ],
             [
              0.7777777777777778,
              "#fb9f3a"
             ],
             [
              0.8888888888888888,
              "#fdca26"
             ],
             [
              1,
              "#f0f921"
             ]
            ],
            "type": "contour"
           }
          ],
          "contourcarpet": [
           {
            "colorbar": {
             "outlinewidth": 0,
             "ticks": ""
            },
            "type": "contourcarpet"
           }
          ],
          "heatmap": [
           {
            "colorbar": {
             "outlinewidth": 0,
             "ticks": ""
            },
            "colorscale": [
             [
              0,
              "#0d0887"
             ],
             [
              0.1111111111111111,
              "#46039f"
             ],
             [
              0.2222222222222222,
              "#7201a8"
             ],
             [
              0.3333333333333333,
              "#9c179e"
             ],
             [
              0.4444444444444444,
              "#bd3786"
             ],
             [
              0.5555555555555556,
              "#d8576b"
             ],
             [
              0.6666666666666666,
              "#ed7953"
             ],
             [
              0.7777777777777778,
              "#fb9f3a"
             ],
             [
              0.8888888888888888,
              "#fdca26"
             ],
             [
              1,
              "#f0f921"
             ]
            ],
            "type": "heatmap"
           }
          ],
          "heatmapgl": [
           {
            "colorbar": {
             "outlinewidth": 0,
             "ticks": ""
            },
            "colorscale": [
             [
              0,
              "#0d0887"
             ],
             [
              0.1111111111111111,
              "#46039f"
             ],
             [
              0.2222222222222222,
              "#7201a8"
             ],
             [
              0.3333333333333333,
              "#9c179e"
             ],
             [
              0.4444444444444444,
              "#bd3786"
             ],
             [
              0.5555555555555556,
              "#d8576b"
             ],
             [
              0.6666666666666666,
              "#ed7953"
             ],
             [
              0.7777777777777778,
              "#fb9f3a"
             ],
             [
              0.8888888888888888,
              "#fdca26"
             ],
             [
              1,
              "#f0f921"
             ]
            ],
            "type": "heatmapgl"
           }
          ],
          "histogram": [
           {
            "marker": {
             "pattern": {
              "fillmode": "overlay",
              "size": 10,
              "solidity": 0.2
             }
            },
            "type": "histogram"
           }
          ],
          "histogram2d": [
           {
            "colorbar": {
             "outlinewidth": 0,
             "ticks": ""
            },
            "colorscale": [
             [
              0,
              "#0d0887"
             ],
             [
              0.1111111111111111,
              "#46039f"
             ],
             [
              0.2222222222222222,
              "#7201a8"
             ],
             [
              0.3333333333333333,
              "#9c179e"
             ],
             [
              0.4444444444444444,
              "#bd3786"
             ],
             [
              0.5555555555555556,
              "#d8576b"
             ],
             [
              0.6666666666666666,
              "#ed7953"
             ],
             [
              0.7777777777777778,
              "#fb9f3a"
             ],
             [
              0.8888888888888888,
              "#fdca26"
             ],
             [
              1,
              "#f0f921"
             ]
            ],
            "type": "histogram2d"
           }
          ],
          "histogram2dcontour": [
           {
            "colorbar": {
             "outlinewidth": 0,
             "ticks": ""
            },
            "colorscale": [
             [
              0,
              "#0d0887"
             ],
             [
              0.1111111111111111,
              "#46039f"
             ],
             [
              0.2222222222222222,
              "#7201a8"
             ],
             [
              0.3333333333333333,
              "#9c179e"
             ],
             [
              0.4444444444444444,
              "#bd3786"
             ],
             [
              0.5555555555555556,
              "#d8576b"
             ],
             [
              0.6666666666666666,
              "#ed7953"
             ],
             [
              0.7777777777777778,
              "#fb9f3a"
             ],
             [
              0.8888888888888888,
              "#fdca26"
             ],
             [
              1,
              "#f0f921"
             ]
            ],
            "type": "histogram2dcontour"
           }
          ],
          "mesh3d": [
           {
            "colorbar": {
             "outlinewidth": 0,
             "ticks": ""
            },
            "type": "mesh3d"
           }
          ],
          "parcoords": [
           {
            "line": {
             "colorbar": {
              "outlinewidth": 0,
              "ticks": ""
             }
            },
            "type": "parcoords"
           }
          ],
          "pie": [
           {
            "automargin": true,
            "type": "pie"
           }
          ],
          "scatter": [
           {
            "fillpattern": {
             "fillmode": "overlay",
             "size": 10,
             "solidity": 0.2
            },
            "type": "scatter"
           }
          ],
          "scatter3d": [
           {
            "line": {
             "colorbar": {
              "outlinewidth": 0,
              "ticks": ""
             }
            },
            "marker": {
             "colorbar": {
              "outlinewidth": 0,
              "ticks": ""
             }
            },
            "type": "scatter3d"
           }
          ],
          "scattercarpet": [
           {
            "marker": {
             "colorbar": {
              "outlinewidth": 0,
              "ticks": ""
             }
            },
            "type": "scattercarpet"
           }
          ],
          "scattergeo": [
           {
            "marker": {
             "colorbar": {
              "outlinewidth": 0,
              "ticks": ""
             }
            },
            "type": "scattergeo"
           }
          ],
          "scattergl": [
           {
            "marker": {
             "colorbar": {
              "outlinewidth": 0,
              "ticks": ""
             }
            },
            "type": "scattergl"
           }
          ],
          "scattermapbox": [
           {
            "marker": {
             "colorbar": {
              "outlinewidth": 0,
              "ticks": ""
             }
            },
            "type": "scattermapbox"
           }
          ],
          "scatterpolar": [
           {
            "marker": {
             "colorbar": {
              "outlinewidth": 0,
              "ticks": ""
             }
            },
            "type": "scatterpolar"
           }
          ],
          "scatterpolargl": [
           {
            "marker": {
             "colorbar": {
              "outlinewidth": 0,
              "ticks": ""
             }
            },
            "type": "scatterpolargl"
           }
          ],
          "scatterternary": [
           {
            "marker": {
             "colorbar": {
              "outlinewidth": 0,
              "ticks": ""
             }
            },
            "type": "scatterternary"
           }
          ],
          "surface": [
           {
            "colorbar": {
             "outlinewidth": 0,
             "ticks": ""
            },
            "colorscale": [
             [
              0,
              "#0d0887"
             ],
             [
              0.1111111111111111,
              "#46039f"
             ],
             [
              0.2222222222222222,
              "#7201a8"
             ],
             [
              0.3333333333333333,
              "#9c179e"
             ],
             [
              0.4444444444444444,
              "#bd3786"
             ],
             [
              0.5555555555555556,
              "#d8576b"
             ],
             [
              0.6666666666666666,
              "#ed7953"
             ],
             [
              0.7777777777777778,
              "#fb9f3a"
             ],
             [
              0.8888888888888888,
              "#fdca26"
             ],
             [
              1,
              "#f0f921"
             ]
            ],
            "type": "surface"
           }
          ],
          "table": [
           {
            "cells": {
             "fill": {
              "color": "#EBF0F8"
             },
             "line": {
              "color": "white"
             }
            },
            "header": {
             "fill": {
              "color": "#C8D4E3"
             },
             "line": {
              "color": "white"
             }
            },
            "type": "table"
           }
          ]
         },
         "layout": {
          "annotationdefaults": {
           "arrowcolor": "#2a3f5f",
           "arrowhead": 0,
           "arrowwidth": 1
          },
          "autotypenumbers": "strict",
          "coloraxis": {
           "colorbar": {
            "outlinewidth": 0,
            "ticks": ""
           }
          },
          "colorscale": {
           "diverging": [
            [
             0,
             "#8e0152"
            ],
            [
             0.1,
             "#c51b7d"
            ],
            [
             0.2,
             "#de77ae"
            ],
            [
             0.3,
             "#f1b6da"
            ],
            [
             0.4,
             "#fde0ef"
            ],
            [
             0.5,
             "#f7f7f7"
            ],
            [
             0.6,
             "#e6f5d0"
            ],
            [
             0.7,
             "#b8e186"
            ],
            [
             0.8,
             "#7fbc41"
            ],
            [
             0.9,
             "#4d9221"
            ],
            [
             1,
             "#276419"
            ]
           ],
           "sequential": [
            [
             0,
             "#0d0887"
            ],
            [
             0.1111111111111111,
             "#46039f"
            ],
            [
             0.2222222222222222,
             "#7201a8"
            ],
            [
             0.3333333333333333,
             "#9c179e"
            ],
            [
             0.4444444444444444,
             "#bd3786"
            ],
            [
             0.5555555555555556,
             "#d8576b"
            ],
            [
             0.6666666666666666,
             "#ed7953"
            ],
            [
             0.7777777777777778,
             "#fb9f3a"
            ],
            [
             0.8888888888888888,
             "#fdca26"
            ],
            [
             1,
             "#f0f921"
            ]
           ],
           "sequentialminus": [
            [
             0,
             "#0d0887"
            ],
            [
             0.1111111111111111,
             "#46039f"
            ],
            [
             0.2222222222222222,
             "#7201a8"
            ],
            [
             0.3333333333333333,
             "#9c179e"
            ],
            [
             0.4444444444444444,
             "#bd3786"
            ],
            [
             0.5555555555555556,
             "#d8576b"
            ],
            [
             0.6666666666666666,
             "#ed7953"
            ],
            [
             0.7777777777777778,
             "#fb9f3a"
            ],
            [
             0.8888888888888888,
             "#fdca26"
            ],
            [
             1,
             "#f0f921"
            ]
           ]
          },
          "colorway": [
           "#636efa",
           "#EF553B",
           "#00cc96",
           "#ab63fa",
           "#FFA15A",
           "#19d3f3",
           "#FF6692",
           "#B6E880",
           "#FF97FF",
           "#FECB52"
          ],
          "font": {
           "color": "#2a3f5f"
          },
          "geo": {
           "bgcolor": "white",
           "lakecolor": "white",
           "landcolor": "#E5ECF6",
           "showlakes": true,
           "showland": true,
           "subunitcolor": "white"
          },
          "hoverlabel": {
           "align": "left"
          },
          "hovermode": "closest",
          "mapbox": {
           "style": "light"
          },
          "paper_bgcolor": "white",
          "plot_bgcolor": "#E5ECF6",
          "polar": {
           "angularaxis": {
            "gridcolor": "white",
            "linecolor": "white",
            "ticks": ""
           },
           "bgcolor": "#E5ECF6",
           "radialaxis": {
            "gridcolor": "white",
            "linecolor": "white",
            "ticks": ""
           }
          },
          "scene": {
           "xaxis": {
            "backgroundcolor": "#E5ECF6",
            "gridcolor": "white",
            "gridwidth": 2,
            "linecolor": "white",
            "showbackground": true,
            "ticks": "",
            "zerolinecolor": "white"
           },
           "yaxis": {
            "backgroundcolor": "#E5ECF6",
            "gridcolor": "white",
            "gridwidth": 2,
            "linecolor": "white",
            "showbackground": true,
            "ticks": "",
            "zerolinecolor": "white"
           },
           "zaxis": {
            "backgroundcolor": "#E5ECF6",
            "gridcolor": "white",
            "gridwidth": 2,
            "linecolor": "white",
            "showbackground": true,
            "ticks": "",
            "zerolinecolor": "white"
           }
          },
          "shapedefaults": {
           "line": {
            "color": "#2a3f5f"
           }
          },
          "ternary": {
           "aaxis": {
            "gridcolor": "white",
            "linecolor": "white",
            "ticks": ""
           },
           "baxis": {
            "gridcolor": "white",
            "linecolor": "white",
            "ticks": ""
           },
           "bgcolor": "#E5ECF6",
           "caxis": {
            "gridcolor": "white",
            "linecolor": "white",
            "ticks": ""
           }
          },
          "title": {
           "x": 0.05
          },
          "xaxis": {
           "automargin": true,
           "gridcolor": "white",
           "linecolor": "white",
           "ticks": "",
           "title": {
            "standoff": 15
           },
           "zerolinecolor": "white",
           "zerolinewidth": 2
          },
          "yaxis": {
           "automargin": true,
           "gridcolor": "white",
           "linecolor": "white",
           "ticks": "",
           "title": {
            "standoff": 15
           },
           "zerolinecolor": "white",
           "zerolinewidth": 2
          }
         }
        },
        "xaxis": {
         "anchor": "y",
         "domain": [
          0,
          1
         ],
         "title": {
          "text": "Observed values"
         }
        },
        "yaxis": {
         "anchor": "x",
         "domain": [
          0,
          1
         ],
         "title": {
          "text": "Predicted values"
         }
        }
       }
      }
     },
     "metadata": {},
     "output_type": "display_data"
    }
   ],
   "source": [
    "import plotly.express as px\n",
    "import plotly.graph_objects as go\n",
    "from sklearn.linear_model import LinearRegression\n",
    "from sklearn.metrics import explained_variance_score,mean_absolute_error,mean_squared_error,r2_score,max_error\n",
    "\n",
    "df = train_dat_dummy.copy()\n",
    "X = df[[\"log_area\", \"Manhattan_distance\", \"Location_0\", \"Location_1\", \"Location_2\", \"Location_3\", \"Location_5\", \"Location_6\", \"Location_7\", \"Location_8\", \"Location_9\"]]\n",
    "y = df[\"log_price\"]\n",
    "\n",
    "\n",
    "model = LinearRegression(fit_intercept=False)\n",
    "model.fit(X, y)\n",
    "y_pred = model.predict(X)\n",
    "r2_t = round(r2_score(y, y_pred),3)\n",
    "mae_t = round(mean_absolute_error(y, y_pred),3)\n",
    "rmse_t = round(mean_squared_error(y, y_pred, squared = False),3)\n",
    "max_error_t = round(max_error(y, y_pred),3)\n",
    "\n",
    "\n",
    "print(model)\n",
    "# print(\"\\tExplained variance:\", round(explained_variance_score(y, y_pred),3))\n",
    "print(f\"\\tR2 score: {r2_t}\" )\n",
    "print(f\"\\tMean absolute error(MAE):{mae_t}\")\n",
    "print(f\"\\tRoot Mean Square Error(RMSE): {rmse_t}\")\n",
    "print(f\"\\tMax Error: {max_error_t}\")\n",
    "\n",
    "# Plot the predicted vs actual values\n",
    "fig = px.scatter(x=y, y=y_pred, labels={'x': 'Observed values', 'y': 'Predicted values'})\n",
    "fig.add_shape(\n",
    "    type=\"line\", line=dict(dash='dash'),\n",
    "    x0=y.min(), y0=y.min(),\n",
    "    x1=y.max(), y1=y.max()\n",
    ")\n",
    "fig.show()"
   ]
  },
  {
   "attachments": {},
   "cell_type": "markdown",
   "metadata": {},
   "source": [
    "**7. Pick the baseline model and newly train the corresponding model, this time using the [sklearn API](https://scikit-learn.org/stable/). Carry out basic checks to assess the correctness of the model.**\n"
   ]
  },
  {
   "cell_type": "code",
   "execution_count": 67,
   "metadata": {},
   "outputs": [],
   "source": [
    "# To evaluate estimator performance, I used cross validation approach\n",
    "\n",
    "# First, combining both train and validation dataset into one dataset:  \n",
    "combined_dat = pd.concat([train_dat,val_dat], axis=0)\n",
    "\n",
    "# Second, creating dummy variables for location variable \n",
    "# in statsmodel we can rely on removing intercept to have coefficients for all dummy variables\n",
    "# in sklearn, we need to first create dummy variables to keep the same model specification \n",
    "dummy = pd.get_dummies(combined_dat['Location'], prefix='Location',drop_first=False).astype('int64')\n",
    "combined_dat_wd = pd.concat([combined_dat,dummy], axis=1)"
   ]
  },
  {
   "cell_type": "code",
   "execution_count": 68,
   "metadata": {},
   "outputs": [],
   "source": [
    "# Next, we first specify the variables will be used in the model for both features and target \n",
    "X = combined_dat_wd[[\"log_area\", \"Manhattan_distance\", \"Location_0\", \"Location_1\", \"Location_2\", \"Location_3\", \"Location_5\", \"Location_6\", \"Location_7\", \"Location_8\", \"Location_9\"]]\n",
    "y= combined_dat_wd['log_price']"
   ]
  },
  {
   "cell_type": "code",
   "execution_count": 76,
   "metadata": {},
   "outputs": [
    {
     "name": "stdout",
     "output_type": "stream",
     "text": [
      "r2_score: 0.862\n",
      "MAE: 0.142\n",
      "RMSE: 0.194\n",
      "Max Error: 0.687\n"
     ]
    }
   ],
   "source": [
    "from sklearn.model_selection import KFold, RepeatedKFold\n",
    "from sklearn.metrics import mean_absolute_error, mean_squared_error, mean_squared_error, r2_score,max_error\n",
    "\n",
    "kf = KFold(n_splits = 10)\n",
    "rkf = RepeatedKFold(n_splits=10, n_repeats=5000, random_state = 42)\n",
    "\n",
    "r2_cv = [] \n",
    "mae_cv = []\n",
    "rmse_cv = []\n",
    "max_error_cv = []\n",
    "\n",
    "# for i, (train_index, val_index) in enumerate(kf.split(X)):\n",
    "for i, (train_index, val_index) in enumerate(rkf.split(X)):\n",
    "    reg = LinearRegression(fit_intercept=False).fit(X.iloc[train_index], y.iloc[train_index])\n",
    "    ypred = reg.predict(X.iloc[val_index])\n",
    "    r2_cv.append(r2_score(y.iloc[val_index], ypred))\n",
    "    mae_cv.append(mean_absolute_error(y.iloc[val_index], ypred))\n",
    "    rmse_cv.append(mean_squared_error(y.iloc[val_index], ypred, squared = False))\n",
    "    max_error_cv.append(max_error(y.iloc[val_index], ypred))\n",
    "    \n",
    "r2_score_cv = round(sum(r2_cv)/len(r2_cv), 3) \n",
    "MAE_cv = round(sum(mae_cv)/len(mae_cv), 3)\n",
    "RMSE_cv = round(sum(rmse_cv)/len(rmse_cv), 3)\n",
    "max_error_cv = round(sum(max_error_cv)/len(max_error_cv), 3)\n",
    "  \n",
    "print(f\"r2_score: {r2_score_cv}\")\n",
    "print(f\"MAE: {MAE_cv}\")\n",
    "print(f\"RMSE: {RMSE_cv}\")\n",
    "print(f\"Max Error: {max_error_cv}\")"
   ]
  },
  {
   "cell_type": "code",
   "execution_count": 77,
   "metadata": {},
   "outputs": [
    {
     "data": {
      "text/html": [
       "<div>\n",
       "<style scoped>\n",
       "    .dataframe tbody tr th:only-of-type {\n",
       "        vertical-align: middle;\n",
       "    }\n",
       "\n",
       "    .dataframe tbody tr th {\n",
       "        vertical-align: top;\n",
       "    }\n",
       "\n",
       "    .dataframe thead th {\n",
       "        text-align: right;\n",
       "    }\n",
       "</style>\n",
       "<table border=\"1\" class=\"dataframe\">\n",
       "  <thead>\n",
       "    <tr style=\"text-align: right;\">\n",
       "      <th>model</th>\n",
       "      <th>model_trained</th>\n",
       "      <th>model_cv</th>\n",
       "    </tr>\n",
       "  </thead>\n",
       "  <tbody>\n",
       "    <tr>\n",
       "      <th>R2_score</th>\n",
       "      <td>0.88</td>\n",
       "      <td>0.86</td>\n",
       "    </tr>\n",
       "    <tr>\n",
       "      <th>MAE</th>\n",
       "      <td>0.14</td>\n",
       "      <td>0.14</td>\n",
       "    </tr>\n",
       "    <tr>\n",
       "      <th>RMSE</th>\n",
       "      <td>0.19</td>\n",
       "      <td>0.19</td>\n",
       "    </tr>\n",
       "    <tr>\n",
       "      <th>Max Error</th>\n",
       "      <td>1.16</td>\n",
       "      <td>0.69</td>\n",
       "    </tr>\n",
       "  </tbody>\n",
       "</table>\n",
       "</div>"
      ],
      "text/plain": [
       "model      model_trained  model_cv\n",
       "R2_score            0.88      0.86\n",
       "MAE                 0.14      0.14\n",
       "RMSE                0.19      0.19\n",
       "Max Error           1.16      0.69"
      ]
     },
     "execution_count": 77,
     "metadata": {},
     "output_type": "execute_result"
    }
   ],
   "source": [
    "Model_performance = [{'model': 'model_trained' ,'R2_score': r2_t, 'MAE': mae_t, 'RMSE': rmse_t,'Max Error': max_error_t}, \n",
    "                    {'model': 'model_cv', 'R2_score': r2_score_cv, 'MAE': MAE_cv, 'RMSE': RMSE_cv,'Max Error': max_error_cv}\n",
    "                     ]\n",
    "\n",
    "Model_performance = pd.DataFrame(Model_performance)\n",
    "Model_performance.set_index('model').transpose()\n"
   ]
  },
  {
   "cell_type": "markdown",
   "metadata": {},
   "source": [
    "**8. Save the model as a [pickle](https://scikit-learn.org/stable/model_persistence.html) file together with its model performance and relevant metadata.** \n",
    "\n",
    "🚨This model is not production ready.\n"
   ]
  },
  {
   "cell_type": "code",
   "execution_count": 90,
   "metadata": {},
   "outputs": [],
   "source": [
    "# First, save the dataset prepared for modelling\n",
    "import csv\n",
    "import os  \n",
    "\n",
    "DATA_DIR = \"data\"\n",
    "os.makedirs('DATA_DIR', exist_ok=True)  \n",
    "train_dat_dummy.to_csv(os.path.join(DATA_DIR, 'train_dat_with_dummy.csv'), header = True, index=False)\n",
    "combined_dat_wd.to_csv(os.path.join(DATA_DIR, 'train_val_with_dummy.csv'), header = True, index=False)\n",
    "Model_performance.to_csv(os.path.join(DATA_DIR, 'Baseline_model_performance.csv'), header = True, index=False)\n"
   ]
  },
  {
   "cell_type": "code",
   "execution_count": 104,
   "metadata": {},
   "outputs": [],
   "source": [
    "# Next, save model into pickle object \n",
    "import pickle # library for save and load regression models\n",
    "\n",
    "X = [\"log_area\", \"Manhattan_distance\", \"Location_0\", \"Location_1\", \"Location_2\", \"Location_3\", \"Location_5\", \"Location_6\", \"Location_7\", \"Location_8\", \"Location_9\"]\n",
    "y = [\"log_price\"]\n",
    "\n",
    "model = LinearRegression(fit_intercept=False)\n",
    "#Fitting model with training data\n",
    "model.fit(train_dat_dummy[X], train_dat_dummy[y])\n",
    "\n",
    "# save the model to disk\n",
    "filename = 'finalized_model.sav'\n",
    "pickle.dump([model,X,y,Model_performance,train_dat_dummy,combined_dat_wd ], open(filename, 'wb'))"
   ]
  },
  {
   "cell_type": "code",
   "execution_count": 105,
   "metadata": {},
   "outputs": [
    {
     "data": {
      "text/plain": [
       "[LinearRegression(fit_intercept=False),\n",
       " ['log_area',\n",
       "  'Manhattan_distance',\n",
       "  'Location_0',\n",
       "  'Location_1',\n",
       "  'Location_2',\n",
       "  'Location_3',\n",
       "  'Location_5',\n",
       "  'Location_6',\n",
       "  'Location_7',\n",
       "  'Location_8',\n",
       "  'Location_9'],\n",
       " ['log_price'],\n",
       "            model  R2_score  MAE  RMSE  Max Error\n",
       " 0  model_trained      0.88 0.14  0.19       1.16\n",
       " 1       model_cv      0.86 0.14  0.19       0.69]"
      ]
     },
     "execution_count": 105,
     "metadata": {},
     "output_type": "execute_result"
    }
   ],
   "source": [
    "# load the model from disk\n",
    "loaded_model = pickle.load(open(filename, 'rb'))\n",
    "loaded_model[: -2]"
   ]
  }
 ],
 "metadata": {
  "kernelspec": {
   "display_name": "my-env",
   "language": "python",
   "name": "python3"
  },
  "language_info": {
   "codemirror_mode": {
    "name": "ipython",
    "version": 3
   },
   "file_extension": ".py",
   "mimetype": "text/x-python",
   "name": "python",
   "nbconvert_exporter": "python",
   "pygments_lexer": "ipython3",
   "version": "3.10.8"
  },
  "orig_nbformat": 4
 },
 "nbformat": 4,
 "nbformat_minor": 2
}
