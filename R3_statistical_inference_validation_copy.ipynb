{
 "cells": [
  {
   "attachments": {},
   "cell_type": "markdown",
   "metadata": {},
   "source": [
    "## 3️⃣ Statistical Inference & Feature Engineering\n",
    "- ####  Copy code for Validation set"
   ]
  },
  {
   "cell_type": "code",
   "execution_count": 1,
   "metadata": {},
   "outputs": [],
   "source": [
    "import warnings\n",
    "\n",
    "# Load libraries\n",
    "import matplotlib.pyplot as plt\n",
    "import numpy as np\n",
    "import pandas as pd\n",
    "import seaborn as sns\n",
    "import statsmodels.api as sm\n",
    "import scipy as sp\n",
    "from IPython.display import display\n",
    "from yellowbrick.base import Visualizer\n",
    "import geopy.distance\n",
    "import pyarrow as pa\n",
    "import fastparquet as fp\n",
    "import os\n",
    "\n",
    "# set random seed\n",
    "np.random.seed(42)"
   ]
  },
  {
   "cell_type": "markdown",
   "metadata": {},
   "source": [
    "<!-- # conda install gmaps -->"
   ]
  },
  {
   "attachments": {},
   "cell_type": "markdown",
   "metadata": {},
   "source": [
    "**1. Start the analysis by processing the training dataset based on the findings obtained in the Exploratory Data Analysis (EDA), e.g., by dealing with missing values and removing duplicates if necessary;**\n",
    "- 💁‍♂️ Try to tailor the [datatype](https://pandas.pydata.org/docs/user_guide/basics.html#basics-dtypes) as much as possible."
   ]
  },
  {
   "cell_type": "code",
   "execution_count": 2,
   "metadata": {},
   "outputs": [],
   "source": [
    "# Load data: \n",
    "df_val = pd.read_csv(\"./data/data_val.csv\")\n"
   ]
  },
  {
   "cell_type": "code",
   "execution_count": 4,
   "metadata": {},
   "outputs": [
    {
     "name": "stdout",
     "output_type": "stream",
     "text": [
      "<class 'pandas.core.frame.DataFrame'>\n",
      "Int64Index: 184 entries, 0 to 184\n",
      "Data columns (total 7 columns):\n",
      " #   Column   Non-Null Count  Dtype  \n",
      "---  ------   --------------  -----  \n",
      " 0   Price    184 non-null    float64\n",
      " 1   Address  184 non-null    object \n",
      " 2   Zip      184 non-null    object \n",
      " 3   Area     184 non-null    int64  \n",
      " 4   Room     184 non-null    int64  \n",
      " 5   Lon      184 non-null    float64\n",
      " 6   Lat      184 non-null    float64\n",
      "dtypes: float64(3), int64(2), object(2)\n",
      "memory usage: 11.5+ KB\n"
     ]
    }
   ],
   "source": [
    "#Remove NA and duplicates: \n",
    "\n",
    "# Given EDA showed only 0.05% missing values derived from target variable, and no duplicates detected\n",
    "# It is safe to directly drop them from training sets \n",
    "df_val_cleaned = df_val.dropna().drop_duplicates() \n",
    "df_val_cleaned.info()\n"
   ]
  },
  {
   "cell_type": "code",
   "execution_count": 5,
   "metadata": {},
   "outputs": [
    {
     "data": {
      "text/html": [
       "<div>\n",
       "<style scoped>\n",
       "    .dataframe tbody tr th:only-of-type {\n",
       "        vertical-align: middle;\n",
       "    }\n",
       "\n",
       "    .dataframe tbody tr th {\n",
       "        vertical-align: top;\n",
       "    }\n",
       "\n",
       "    .dataframe thead th {\n",
       "        text-align: right;\n",
       "    }\n",
       "</style>\n",
       "<table border=\"1\" class=\"dataframe\">\n",
       "  <thead>\n",
       "    <tr style=\"text-align: right;\">\n",
       "      <th></th>\n",
       "      <th>Price</th>\n",
       "      <th>Area</th>\n",
       "      <th>Room</th>\n",
       "      <th>Lon</th>\n",
       "      <th>Lat</th>\n",
       "    </tr>\n",
       "  </thead>\n",
       "  <tbody>\n",
       "    <tr>\n",
       "      <th>count</th>\n",
       "      <td>1.840000e+02</td>\n",
       "      <td>184.000000</td>\n",
       "      <td>184.000000</td>\n",
       "      <td>184.000000</td>\n",
       "      <td>184.000000</td>\n",
       "    </tr>\n",
       "    <tr>\n",
       "      <th>mean</th>\n",
       "      <td>6.296997e+05</td>\n",
       "      <td>95.005435</td>\n",
       "      <td>3.576087</td>\n",
       "      <td>4.891831</td>\n",
       "      <td>52.362853</td>\n",
       "    </tr>\n",
       "    <tr>\n",
       "      <th>std</th>\n",
       "      <td>4.580083e+05</td>\n",
       "      <td>45.791819</td>\n",
       "      <td>1.454097</td>\n",
       "      <td>0.056540</td>\n",
       "      <td>0.025100</td>\n",
       "    </tr>\n",
       "    <tr>\n",
       "      <th>min</th>\n",
       "      <td>2.100000e+05</td>\n",
       "      <td>25.000000</td>\n",
       "      <td>1.000000</td>\n",
       "      <td>4.644819</td>\n",
       "      <td>52.292324</td>\n",
       "    </tr>\n",
       "    <tr>\n",
       "      <th>25%</th>\n",
       "      <td>3.500000e+05</td>\n",
       "      <td>62.000000</td>\n",
       "      <td>3.000000</td>\n",
       "      <td>4.860384</td>\n",
       "      <td>52.350821</td>\n",
       "    </tr>\n",
       "    <tr>\n",
       "      <th>50%</th>\n",
       "      <td>4.750000e+05</td>\n",
       "      <td>85.000000</td>\n",
       "      <td>3.000000</td>\n",
       "      <td>4.883606</td>\n",
       "      <td>52.365560</td>\n",
       "    </tr>\n",
       "    <tr>\n",
       "      <th>75%</th>\n",
       "      <td>7.250000e+05</td>\n",
       "      <td>114.000000</td>\n",
       "      <td>4.000000</td>\n",
       "      <td>4.921270</td>\n",
       "      <td>52.378146</td>\n",
       "    </tr>\n",
       "    <tr>\n",
       "      <th>max</th>\n",
       "      <td>3.925000e+06</td>\n",
       "      <td>319.000000</td>\n",
       "      <td>9.000000</td>\n",
       "      <td>5.016555</td>\n",
       "      <td>52.423619</td>\n",
       "    </tr>\n",
       "  </tbody>\n",
       "</table>\n",
       "</div>"
      ],
      "text/plain": [
       "              Price        Area        Room         Lon         Lat\n",
       "count  1.840000e+02  184.000000  184.000000  184.000000  184.000000\n",
       "mean   6.296997e+05   95.005435    3.576087    4.891831   52.362853\n",
       "std    4.580083e+05   45.791819    1.454097    0.056540    0.025100\n",
       "min    2.100000e+05   25.000000    1.000000    4.644819   52.292324\n",
       "25%    3.500000e+05   62.000000    3.000000    4.860384   52.350821\n",
       "50%    4.750000e+05   85.000000    3.000000    4.883606   52.365560\n",
       "75%    7.250000e+05  114.000000    4.000000    4.921270   52.378146\n",
       "max    3.925000e+06  319.000000    9.000000    5.016555   52.423619"
      ]
     },
     "execution_count": 5,
     "metadata": {},
     "output_type": "execute_result"
    }
   ],
   "source": [
    "df_val_cleaned.describe()"
   ]
  },
  {
   "cell_type": "code",
   "execution_count": 6,
   "metadata": {},
   "outputs": [],
   "source": [
    "# Given exploratory analysis suggested several variables were right skewed,more importantly some variables are not at same scale,  \n",
    "# suggesting need of log transformation, I first transformed these variables \n",
    "# additionally computed price per unit, as economically it might be more sensible to compare unit price (however same city may not be necessary)\n",
    "\n",
    "df_val_cleaned[['log_price', 'log_area']] = np.log(df_val_cleaned[['Price', 'Area']])\n",
    "\n",
    "df_val_cleaned['Price_m²']= df_val_cleaned['Price']/df_val_cleaned['Area']\n",
    "df_val_cleaned['log_Price_m²']= np.log(df_val_cleaned['Price_m²'])\n"
   ]
  },
  {
   "cell_type": "code",
   "execution_count": 7,
   "metadata": {},
   "outputs": [],
   "source": [
    "# create new column calculate distance to city centre \n",
    "# Assuming central station as the heart of city, in this way we can compute each houses distance to center point \n",
    "\n",
    "city_centre = (52.3791, 4.9003)  \n",
    "df_val_cleaned['house_coord'] = list(zip(df_val_cleaned.Lat, df_val_cleaned.Lon))\n",
    "\n",
    "df_val_cleaned['km_to_centre'] =  df_val_cleaned['house_coord'].apply(lambda x: geopy.distance.geodesic(x, city_centre).km)"
   ]
  },
  {
   "cell_type": "code",
   "execution_count": 8,
   "metadata": {},
   "outputs": [
    {
     "data": {
      "text/html": [
       "<div>\n",
       "<style scoped>\n",
       "    .dataframe tbody tr th:only-of-type {\n",
       "        vertical-align: middle;\n",
       "    }\n",
       "\n",
       "    .dataframe tbody tr th {\n",
       "        vertical-align: top;\n",
       "    }\n",
       "\n",
       "    .dataframe thead th {\n",
       "        text-align: right;\n",
       "    }\n",
       "</style>\n",
       "<table border=\"1\" class=\"dataframe\">\n",
       "  <thead>\n",
       "    <tr style=\"text-align: right;\">\n",
       "      <th></th>\n",
       "      <th>Price</th>\n",
       "      <th>Address</th>\n",
       "      <th>Zip</th>\n",
       "      <th>Area</th>\n",
       "      <th>Room</th>\n",
       "      <th>Lon</th>\n",
       "      <th>Lat</th>\n",
       "      <th>log_price</th>\n",
       "      <th>log_area</th>\n",
       "      <th>Price_m²</th>\n",
       "      <th>log_Price_m²</th>\n",
       "      <th>km_to_centre</th>\n",
       "    </tr>\n",
       "  </thead>\n",
       "  <tbody>\n",
       "    <tr>\n",
       "      <th>0</th>\n",
       "      <td>425000.0</td>\n",
       "      <td>Lamarckhof 11 I, Amsterdam</td>\n",
       "      <td>1098 TK</td>\n",
       "      <td>68</td>\n",
       "      <td>3</td>\n",
       "      <td>4.944251</td>\n",
       "      <td>52.352317</td>\n",
       "      <td>12.959844</td>\n",
       "      <td>4.219508</td>\n",
       "      <td>6250.000000</td>\n",
       "      <td>8.740337</td>\n",
       "      <td>4.224315</td>\n",
       "    </tr>\n",
       "    <tr>\n",
       "      <th>1</th>\n",
       "      <td>285000.0</td>\n",
       "      <td>Kikkenstein 3534, Amsterdam</td>\n",
       "      <td>1104 TT</td>\n",
       "      <td>96</td>\n",
       "      <td>4</td>\n",
       "      <td>4.972596</td>\n",
       "      <td>52.317512</td>\n",
       "      <td>12.560244</td>\n",
       "      <td>4.564348</td>\n",
       "      <td>2968.750000</td>\n",
       "      <td>7.995896</td>\n",
       "      <td>8.440149</td>\n",
       "    </tr>\n",
       "    <tr>\n",
       "      <th>2</th>\n",
       "      <td>270000.0</td>\n",
       "      <td>Papendrechtstraat 84, Amsterdam</td>\n",
       "      <td>1106 BR</td>\n",
       "      <td>84</td>\n",
       "      <td>3</td>\n",
       "      <td>4.976048</td>\n",
       "      <td>52.297850</td>\n",
       "      <td>12.506177</td>\n",
       "      <td>4.430817</td>\n",
       "      <td>3214.285714</td>\n",
       "      <td>8.075360</td>\n",
       "      <td>10.411294</td>\n",
       "    </tr>\n",
       "  </tbody>\n",
       "</table>\n",
       "</div>"
      ],
      "text/plain": [
       "      Price                          Address      Zip  Area  Room       Lon  \\\n",
       "0  425000.0       Lamarckhof 11 I, Amsterdam  1098 TK    68     3  4.944251   \n",
       "1  285000.0      Kikkenstein 3534, Amsterdam  1104 TT    96     4  4.972596   \n",
       "2  270000.0  Papendrechtstraat 84, Amsterdam  1106 BR    84     3  4.976048   \n",
       "\n",
       "         Lat  log_price  log_area     Price_m²  log_Price_m²  km_to_centre  \n",
       "0  52.352317  12.959844  4.219508  6250.000000      8.740337      4.224315  \n",
       "1  52.317512  12.560244  4.564348  2968.750000      7.995896      8.440149  \n",
       "2  52.297850  12.506177  4.430817  3214.285714      8.075360     10.411294  "
      ]
     },
     "execution_count": 8,
     "metadata": {},
     "output_type": "execute_result"
    }
   ],
   "source": [
    "df_val_cleaned.drop(columns=['house_coord'], axis=1, inplace=True)\n",
    "df_val_cleaned.head(3)"
   ]
  },
  {
   "cell_type": "code",
   "execution_count": 9,
   "metadata": {},
   "outputs": [
    {
     "name": "stderr",
     "output_type": "stream",
     "text": [
      "/opt/anaconda3/envs/Anacoda/lib/python3.10/site-packages/IPython/core/interactiveshell.py:3472: FutureWarning: The `op` parameter is deprecated and will be removed in a future release. Please use the `predicate` parameter instead.\n",
      "  if (await self.run_code(code, result,  async_=asy)):\n"
     ]
    },
    {
     "data": {
      "text/html": [
       "<div>\n",
       "<style scoped>\n",
       "    .dataframe tbody tr th:only-of-type {\n",
       "        vertical-align: middle;\n",
       "    }\n",
       "\n",
       "    .dataframe tbody tr th {\n",
       "        vertical-align: top;\n",
       "    }\n",
       "\n",
       "    .dataframe thead th {\n",
       "        text-align: right;\n",
       "    }\n",
       "</style>\n",
       "<table border=\"1\" class=\"dataframe\">\n",
       "  <thead>\n",
       "    <tr style=\"text-align: right;\">\n",
       "      <th></th>\n",
       "      <th>Price</th>\n",
       "      <th>Address</th>\n",
       "      <th>Zip</th>\n",
       "      <th>Area</th>\n",
       "      <th>Room</th>\n",
       "      <th>Lon</th>\n",
       "      <th>Lat</th>\n",
       "      <th>log_price</th>\n",
       "      <th>log_area</th>\n",
       "      <th>Price_m²</th>\n",
       "      <th>log_Price_m²</th>\n",
       "      <th>km_to_centre</th>\n",
       "      <th>borough_id</th>\n",
       "      <th>Borough</th>\n",
       "    </tr>\n",
       "  </thead>\n",
       "  <tbody>\n",
       "    <tr>\n",
       "      <th>0</th>\n",
       "      <td>425000.0</td>\n",
       "      <td>Lamarckhof 11 I, Amsterdam</td>\n",
       "      <td>1098 TK</td>\n",
       "      <td>68</td>\n",
       "      <td>3</td>\n",
       "      <td>4.944251</td>\n",
       "      <td>52.352317</td>\n",
       "      <td>12.959844</td>\n",
       "      <td>4.219508</td>\n",
       "      <td>6250.000000</td>\n",
       "      <td>8.740337</td>\n",
       "      <td>4.224315</td>\n",
       "      <td>1</td>\n",
       "      <td>Oost</td>\n",
       "    </tr>\n",
       "    <tr>\n",
       "      <th>5</th>\n",
       "      <td>600000.0</td>\n",
       "      <td>IJburglaan 1445, Amsterdam</td>\n",
       "      <td>1087 KH</td>\n",
       "      <td>132</td>\n",
       "      <td>4</td>\n",
       "      <td>5.000330</td>\n",
       "      <td>52.352820</td>\n",
       "      <td>13.304685</td>\n",
       "      <td>4.882802</td>\n",
       "      <td>4545.454545</td>\n",
       "      <td>8.421883</td>\n",
       "      <td>7.414713</td>\n",
       "      <td>1</td>\n",
       "      <td>Oost</td>\n",
       "    </tr>\n",
       "    <tr>\n",
       "      <th>6</th>\n",
       "      <td>348738.0</td>\n",
       "      <td>Quashibastraat, Amsterdam</td>\n",
       "      <td>1087 VS</td>\n",
       "      <td>79</td>\n",
       "      <td>4</td>\n",
       "      <td>5.016555</td>\n",
       "      <td>52.350513</td>\n",
       "      <td>12.762076</td>\n",
       "      <td>4.369448</td>\n",
       "      <td>4414.405063</td>\n",
       "      <td>8.392628</td>\n",
       "      <td>8.534108</td>\n",
       "      <td>1</td>\n",
       "      <td>Oost</td>\n",
       "    </tr>\n",
       "  </tbody>\n",
       "</table>\n",
       "</div>"
      ],
      "text/plain": [
       "      Price                     Address      Zip  Area  Room       Lon  \\\n",
       "0  425000.0  Lamarckhof 11 I, Amsterdam  1098 TK    68     3  4.944251   \n",
       "5  600000.0  IJburglaan 1445, Amsterdam  1087 KH   132     4  5.000330   \n",
       "6  348738.0   Quashibastraat, Amsterdam  1087 VS    79     4  5.016555   \n",
       "\n",
       "         Lat  log_price  log_area     Price_m²  log_Price_m²  km_to_centre  \\\n",
       "0  52.352317  12.959844  4.219508  6250.000000      8.740337      4.224315   \n",
       "5  52.352820  13.304685  4.882802  4545.454545      8.421883      7.414713   \n",
       "6  52.350513  12.762076  4.369448  4414.405063      8.392628      8.534108   \n",
       "\n",
       "   borough_id Borough  \n",
       "0           1    Oost  \n",
       "5           1    Oost  \n",
       "6           1    Oost  "
      ]
     },
     "execution_count": 9,
     "metadata": {},
     "output_type": "execute_result"
    }
   ],
   "source": [
    "# extract data from https://maps.amsterdam.nl/, and map train set to 9 boarder boroughs\n",
    "\n",
    "from shapely.geometry import Point\n",
    "import requests\n",
    "import geopandas as gpd\n",
    "\n",
    "url = \"https://maps.amsterdam.nl/open_geodata/geojson_lnglat.php?KAARTLAAG=INDELING_STADSDEEL&THEMA=gebiedsindeling\"\n",
    "gdf_districts = gpd.read_file(requests.get(url).text)\n",
    "\n",
    "\n",
    "geometry = [Point(xy) for xy in zip(df_val_cleaned.Lon, df_val_cleaned.Lat)]\n",
    "df_val_cleaned_geo = gpd.GeoDataFrame(df_val_cleaned, geometry=geometry,crs=\"EPSG:4326\")\n",
    "\n",
    "df_val_cleaned_geo = gpd.sjoin(df_val_cleaned_geo,gdf_districts,  how='inner',op= 'intersects')\n",
    "\n",
    "df_val_cleaned_geo.rename(columns={'Stadsdeel':'Borough', \"index_right\":\"borough_id\"}, inplace= True)\n",
    "\n",
    "df_val_cleaned_geo.drop(columns=['geometry','Stadsdeelcode','Oppervlakte_m2'], inplace=True)\n",
    "df_val_cleaned_geo.head(3)"
   ]
  },
  {
   "cell_type": "code",
   "execution_count": 10,
   "metadata": {},
   "outputs": [
    {
     "data": {
      "text/html": [
       "<div>\n",
       "<style scoped>\n",
       "    .dataframe tbody tr th:only-of-type {\n",
       "        vertical-align: middle;\n",
       "    }\n",
       "\n",
       "    .dataframe tbody tr th {\n",
       "        vertical-align: top;\n",
       "    }\n",
       "\n",
       "    .dataframe thead th {\n",
       "        text-align: right;\n",
       "    }\n",
       "</style>\n",
       "<table border=\"1\" class=\"dataframe\">\n",
       "  <thead>\n",
       "    <tr style=\"text-align: right;\">\n",
       "      <th></th>\n",
       "      <th></th>\n",
       "      <th>0</th>\n",
       "    </tr>\n",
       "    <tr>\n",
       "      <th>borough_id</th>\n",
       "      <th>Borough</th>\n",
       "      <th></th>\n",
       "    </tr>\n",
       "  </thead>\n",
       "  <tbody>\n",
       "    <tr>\n",
       "      <th>0</th>\n",
       "      <th>Centrum</th>\n",
       "      <td>30</td>\n",
       "    </tr>\n",
       "    <tr>\n",
       "      <th>1</th>\n",
       "      <th>Oost</th>\n",
       "      <td>22</td>\n",
       "    </tr>\n",
       "    <tr>\n",
       "      <th>3</th>\n",
       "      <th>Nieuw-West</th>\n",
       "      <td>23</td>\n",
       "    </tr>\n",
       "    <tr>\n",
       "      <th>4</th>\n",
       "      <th>Zuidoost</th>\n",
       "      <td>15</td>\n",
       "    </tr>\n",
       "    <tr>\n",
       "      <th>5</th>\n",
       "      <th>Noord</th>\n",
       "      <td>21</td>\n",
       "    </tr>\n",
       "    <tr>\n",
       "      <th>6</th>\n",
       "      <th>West</th>\n",
       "      <td>43</td>\n",
       "    </tr>\n",
       "    <tr>\n",
       "      <th>7</th>\n",
       "      <th>Weesp</th>\n",
       "      <td>1</td>\n",
       "    </tr>\n",
       "    <tr>\n",
       "      <th>8</th>\n",
       "      <th>Zuid</th>\n",
       "      <td>28</td>\n",
       "    </tr>\n",
       "  </tbody>\n",
       "</table>\n",
       "</div>"
      ],
      "text/plain": [
       "                        0\n",
       "borough_id Borough       \n",
       "0          Centrum     30\n",
       "1          Oost        22\n",
       "3          Nieuw-West  23\n",
       "4          Zuidoost    15\n",
       "5          Noord       21\n",
       "6          West        43\n",
       "7          Weesp        1\n",
       "8          Zuid        28"
      ]
     },
     "execution_count": 10,
     "metadata": {},
     "output_type": "execute_result"
    }
   ],
   "source": [
    "house_count_by_borough = pd.DataFrame(df_val_cleaned_geo[['borough_id','Borough']].value_counts())\n",
    "house_count_by_borough.sort_values(by='borough_id')"
   ]
  },
  {
   "cell_type": "code",
   "execution_count": 11,
   "metadata": {},
   "outputs": [
    {
     "data": {
      "text/plain": [
       "family_1-3    110\n",
       "luxury_4+      73\n",
       "Name: house_type, dtype: int64"
      ]
     },
     "execution_count": 11,
     "metadata": {},
     "output_type": "execute_result"
    }
   ],
   "source": [
    "# recreate house type categorical variable\n",
    "df_val_cleaned_geo['house_type']=pd.qcut(df_val_cleaned_geo['Room'], q=2,labels=['family_1-3', 'luxury_4+'],precision=0)\n",
    "df_val_cleaned_geo['house_type'].value_counts()"
   ]
  },
  {
   "cell_type": "code",
   "execution_count": 13,
   "metadata": {},
   "outputs": [
    {
     "data": {
      "text/plain": [
       "small     63\n",
       "large     61\n",
       "medium    59\n",
       "Name: house_size_cat, dtype: int64"
      ]
     },
     "execution_count": 13,
     "metadata": {},
     "output_type": "execute_result"
    }
   ],
   "source": [
    "# recreate house size categorical variable--> small: (20.0, 68.0], medium: (68.0, 100.0] , large: (100.0, 497.0]\n",
    "df_val_cleaned_geo['house_size_cat']= pd.qcut(df_val_cleaned_geo['Area'], q=3,labels=['small', 'medium', 'large'], precision=0)\n",
    "df_val_cleaned_geo['house_size_cat'].value_counts()"
   ]
  },
  {
   "cell_type": "code",
   "execution_count": 14,
   "metadata": {},
   "outputs": [
    {
     "data": {
      "text/html": [
       "<div>\n",
       "<style scoped>\n",
       "    .dataframe tbody tr th:only-of-type {\n",
       "        vertical-align: middle;\n",
       "    }\n",
       "\n",
       "    .dataframe tbody tr th {\n",
       "        vertical-align: top;\n",
       "    }\n",
       "\n",
       "    .dataframe thead th {\n",
       "        text-align: right;\n",
       "    }\n",
       "</style>\n",
       "<table border=\"1\" class=\"dataframe\">\n",
       "  <thead>\n",
       "    <tr style=\"text-align: right;\">\n",
       "      <th></th>\n",
       "      <th>Price</th>\n",
       "      <th>Address</th>\n",
       "      <th>Zip</th>\n",
       "      <th>Area</th>\n",
       "      <th>Room</th>\n",
       "      <th>Lon</th>\n",
       "      <th>Lat</th>\n",
       "      <th>log_price</th>\n",
       "      <th>log_area</th>\n",
       "      <th>Price_m²</th>\n",
       "      <th>log_Price_m²</th>\n",
       "      <th>km_to_centre</th>\n",
       "      <th>borough_id</th>\n",
       "      <th>Borough</th>\n",
       "      <th>house_type</th>\n",
       "      <th>house_size_cat</th>\n",
       "    </tr>\n",
       "  </thead>\n",
       "  <tbody>\n",
       "    <tr>\n",
       "      <th>0</th>\n",
       "      <td>425000.0</td>\n",
       "      <td>Lamarckhof 11 I, Amsterdam</td>\n",
       "      <td>1098 TK</td>\n",
       "      <td>68</td>\n",
       "      <td>3</td>\n",
       "      <td>4.944251</td>\n",
       "      <td>52.352317</td>\n",
       "      <td>12.959844</td>\n",
       "      <td>4.219508</td>\n",
       "      <td>6250.000000</td>\n",
       "      <td>8.740337</td>\n",
       "      <td>4.224315</td>\n",
       "      <td>1</td>\n",
       "      <td>Oost</td>\n",
       "      <td>family_1-3</td>\n",
       "      <td>small</td>\n",
       "    </tr>\n",
       "    <tr>\n",
       "      <th>5</th>\n",
       "      <td>600000.0</td>\n",
       "      <td>IJburglaan 1445, Amsterdam</td>\n",
       "      <td>1087 KH</td>\n",
       "      <td>132</td>\n",
       "      <td>4</td>\n",
       "      <td>5.000330</td>\n",
       "      <td>52.352820</td>\n",
       "      <td>13.304685</td>\n",
       "      <td>4.882802</td>\n",
       "      <td>4545.454545</td>\n",
       "      <td>8.421883</td>\n",
       "      <td>7.414713</td>\n",
       "      <td>1</td>\n",
       "      <td>Oost</td>\n",
       "      <td>luxury_4+</td>\n",
       "      <td>large</td>\n",
       "    </tr>\n",
       "    <tr>\n",
       "      <th>6</th>\n",
       "      <td>348738.0</td>\n",
       "      <td>Quashibastraat, Amsterdam</td>\n",
       "      <td>1087 VS</td>\n",
       "      <td>79</td>\n",
       "      <td>4</td>\n",
       "      <td>5.016555</td>\n",
       "      <td>52.350513</td>\n",
       "      <td>12.762076</td>\n",
       "      <td>4.369448</td>\n",
       "      <td>4414.405063</td>\n",
       "      <td>8.392628</td>\n",
       "      <td>8.534108</td>\n",
       "      <td>1</td>\n",
       "      <td>Oost</td>\n",
       "      <td>luxury_4+</td>\n",
       "      <td>medium</td>\n",
       "    </tr>\n",
       "  </tbody>\n",
       "</table>\n",
       "</div>"
      ],
      "text/plain": [
       "      Price                     Address      Zip  Area  Room       Lon  \\\n",
       "0  425000.0  Lamarckhof 11 I, Amsterdam  1098 TK    68     3  4.944251   \n",
       "5  600000.0  IJburglaan 1445, Amsterdam  1087 KH   132     4  5.000330   \n",
       "6  348738.0   Quashibastraat, Amsterdam  1087 VS    79     4  5.016555   \n",
       "\n",
       "         Lat  log_price  log_area     Price_m²  log_Price_m²  km_to_centre  \\\n",
       "0  52.352317  12.959844  4.219508  6250.000000      8.740337      4.224315   \n",
       "5  52.352820  13.304685  4.882802  4545.454545      8.421883      7.414713   \n",
       "6  52.350513  12.762076  4.369448  4414.405063      8.392628      8.534108   \n",
       "\n",
       "   borough_id Borough  house_type house_size_cat  \n",
       "0           1    Oost  family_1-3          small  \n",
       "5           1    Oost   luxury_4+          large  \n",
       "6           1    Oost   luxury_4+         medium  "
      ]
     },
     "execution_count": 14,
     "metadata": {},
     "output_type": "execute_result"
    }
   ],
   "source": [
    "df_val_cleaned_geo.head(3)"
   ]
  },
  {
   "cell_type": "code",
   "execution_count": 15,
   "metadata": {},
   "outputs": [
    {
     "data": {
      "image/png": "[encoded data removed]",
      "text/plain": [
       "<Figure size 1200x300 with 1 Axes>"
      ]
     },
     "metadata": {},
     "output_type": "display_data"
    }
   ],
   "source": [
    "%matplotlib inline\n",
    "import matplotlib.pyplot as plt\n",
    "df_val_cleaned_geo.Borough.hist( bins = 30,figsize=(12,3))\n",
    "plt.show()"
   ]
  },
  {
   "attachments": {},
   "cell_type": "markdown",
   "metadata": {},
   "source": [
    "**2. Study the relationship between variables using conventional statistical tools, namely:** \n",
    "\n",
    "- **a.** $\\chi^{2}$ ([chi-square](https://www.investopedia.com/terms/c/chi-square-statistic.asp)) between two **Nominal** variables;\n",
    "- **b.** $\\chi^{2}$ or [Spearman’s rank](https://statistics.laerd.com/statistical-guides/spearmans-rank-order-correlation-statistical-guide.php) correlation analysis between two **Ordinal** variables;\n",
    "- **c.** [Correlation](https://www.statisticshowto.com/probability-and-statistics/correlation-analysis/) analysis for both **Discrete** and **Continuous** variables;\n",
    "- **d.** An appropriate version of the [t-test](https://www.investopedia.com/terms/t/t-test.asp) or [analysis of variance](https://www.investopedia.com/terms/a/anova.asp) (ANOVA) to assess the relationship between **Numerical** and **Categorical** variables.   \n",
    "\n",
    "💁‍♀️ Look closely at the relationship between the dependent variable, i.e., the target and the independent variables, i.e., the features, as they will provide an insight into candidate predictors. \n",
    "\n",
    "💁‍♂️ Whenever possible, visualize the variables to assess whether the results coming from the statistical test are driven by outliers or imbalanced groups.\n",
    "\n",
    "👷 Transform and/or construct new features and apply appropriate statistical tests.\n",
    "\n"
   ]
  },
  {
   "attachments": {},
   "cell_type": "markdown",
   "metadata": {},
   "source": [
    "**a.** Analysis of **Nominal** features"
   ]
  },
  {
   "cell_type": "code",
   "execution_count": 16,
   "metadata": {},
   "outputs": [
    {
     "data": {
      "text/plain": [
       "(209999.0, 350000.0]     47\n",
       "(350000.0, 475000.0]     47\n",
       "(475000.0, 725000.0]     45\n",
       "(725000.0, 3925000.0]    44\n",
       "Name: Price_range, dtype: int64"
      ]
     },
     "execution_count": 16,
     "metadata": {},
     "output_type": "execute_result"
    }
   ],
   "source": [
    "# Given the above has already transformed the original data frame into various categorical features, \n",
    "# I thus categorise the response variables into equal-sized bins using the qcut() function.\n",
    "df_val_cleaned_geo['Price_range'] = pd.qcut(df_val_cleaned_geo['Price'], q=4, precision=0)\n",
    "df_val_cleaned_geo['Price_range'].value_counts().sort_index()"
   ]
  },
  {
   "cell_type": "code",
   "execution_count": 17,
   "metadata": {},
   "outputs": [
    {
     "data": {
      "text/html": [
       "<div>\n",
       "<style scoped>\n",
       "    .dataframe tbody tr th:only-of-type {\n",
       "        vertical-align: middle;\n",
       "    }\n",
       "\n",
       "    .dataframe tbody tr th {\n",
       "        vertical-align: top;\n",
       "    }\n",
       "\n",
       "    .dataframe thead th {\n",
       "        text-align: right;\n",
       "    }\n",
       "</style>\n",
       "<table border=\"1\" class=\"dataframe\">\n",
       "  <thead>\n",
       "    <tr style=\"text-align: right;\">\n",
       "      <th></th>\n",
       "      <th>log_area</th>\n",
       "      <th>Room</th>\n",
       "    </tr>\n",
       "    <tr>\n",
       "      <th>Price_range</th>\n",
       "      <th></th>\n",
       "      <th></th>\n",
       "    </tr>\n",
       "  </thead>\n",
       "  <tbody>\n",
       "    <tr>\n",
       "      <th>(209999.0, 350000.0]</th>\n",
       "      <td>4.134564</td>\n",
       "      <td>2.914894</td>\n",
       "    </tr>\n",
       "    <tr>\n",
       "      <th>(350000.0, 475000.0]</th>\n",
       "      <td>4.177801</td>\n",
       "      <td>2.851064</td>\n",
       "    </tr>\n",
       "    <tr>\n",
       "      <th>(475000.0, 725000.0]</th>\n",
       "      <td>4.549795</td>\n",
       "      <td>3.800000</td>\n",
       "    </tr>\n",
       "    <tr>\n",
       "      <th>(725000.0, 3925000.0]</th>\n",
       "      <td>4.968530</td>\n",
       "      <td>4.750000</td>\n",
       "    </tr>\n",
       "  </tbody>\n",
       "</table>\n",
       "</div>"
      ],
      "text/plain": [
       "                       log_area      Room\n",
       "Price_range                              \n",
       "(209999.0, 350000.0]   4.134564  2.914894\n",
       "(350000.0, 475000.0]   4.177801  2.851064\n",
       "(475000.0, 725000.0]   4.549795  3.800000\n",
       "(725000.0, 3925000.0]  4.968530  4.750000"
      ]
     },
     "metadata": {},
     "output_type": "display_data"
    },
    {
     "data": {
      "text/html": [
       "<div>\n",
       "<style scoped>\n",
       "    .dataframe tbody tr th:only-of-type {\n",
       "        vertical-align: middle;\n",
       "    }\n",
       "\n",
       "    .dataframe tbody tr th {\n",
       "        vertical-align: top;\n",
       "    }\n",
       "\n",
       "    .dataframe thead th {\n",
       "        text-align: right;\n",
       "    }\n",
       "</style>\n",
       "<table border=\"1\" class=\"dataframe\">\n",
       "  <thead>\n",
       "    <tr style=\"text-align: right;\">\n",
       "      <th></th>\n",
       "      <th>log_area</th>\n",
       "      <th>Room</th>\n",
       "    </tr>\n",
       "    <tr>\n",
       "      <th>Price_range</th>\n",
       "      <th></th>\n",
       "      <th></th>\n",
       "    </tr>\n",
       "  </thead>\n",
       "  <tbody>\n",
       "    <tr>\n",
       "      <th>(209999.0, 350000.0]</th>\n",
       "      <td>0.377479</td>\n",
       "      <td>0.996293</td>\n",
       "    </tr>\n",
       "    <tr>\n",
       "      <th>(350000.0, 475000.0]</th>\n",
       "      <td>0.280745</td>\n",
       "      <td>0.884129</td>\n",
       "    </tr>\n",
       "    <tr>\n",
       "      <th>(475000.0, 725000.0]</th>\n",
       "      <td>0.271000</td>\n",
       "      <td>1.140175</td>\n",
       "    </tr>\n",
       "    <tr>\n",
       "      <th>(725000.0, 3925000.0]</th>\n",
       "      <td>0.290051</td>\n",
       "      <td>1.727008</td>\n",
       "    </tr>\n",
       "  </tbody>\n",
       "</table>\n",
       "</div>"
      ],
      "text/plain": [
       "                       log_area      Room\n",
       "Price_range                              \n",
       "(209999.0, 350000.0]   0.377479  0.996293\n",
       "(350000.0, 475000.0]   0.280745  0.884129\n",
       "(475000.0, 725000.0]   0.271000  1.140175\n",
       "(725000.0, 3925000.0]  0.290051  1.727008"
      ]
     },
     "metadata": {},
     "output_type": "display_data"
    }
   ],
   "source": [
    "display(df_val_cleaned_geo.groupby(\"Price_range\")[[\"log_area\", \"Room\"]].mean())\n",
    "\n",
    "display(df_val_cleaned_geo.groupby(\"Price_range\")[[\"log_area\", \"Room\"]].std())"
   ]
  },
  {
   "cell_type": "code",
   "execution_count": 18,
   "metadata": {},
   "outputs": [],
   "source": [
    "# generating all contigency tables in excel tabs saving each output \n",
    "# By focusing on exploring relationships between similar IVs; as well as each categorical IV with the DV\n",
    "\n",
    "import openpyxl\n",
    "\n",
    "# Define each contigency table of interest\n",
    "contigency_table1 = pd.crosstab(df_val_cleaned_geo['house_type'],df_val_cleaned_geo['house_size_cat']) \n",
    "contigency_table2 = pd.crosstab(df_val_cleaned_geo['house_type'],df_val_cleaned_geo['Price_range']) \n",
    "contigency_table3 = pd.crosstab(df_val_cleaned_geo['house_size_cat'],df_val_cleaned_geo['Price_range']) \n",
    "contigency_table4 = pd.crosstab(df_val_cleaned_geo['Borough'],df_val_cleaned_geo['Price_range']) \n",
    "\n",
    "#create a excel writer object that stores each contigency table in a different tab within same file\n",
    "with pd.ExcelWriter(\"data/contigency_tables_valset.xlsx\") as writer:\n",
    "    # use to_excel function and specify the sheet_name and index\n",
    "    # to store the dataframe in specified sheet\n",
    "    contigency_table1.to_excel(writer, sheet_name=\"Sheet1\", index=True)\n",
    "    contigency_table2.to_excel(writer, sheet_name=\"Sheet2\", index=True)\n",
    "    contigency_table3.to_excel(writer, sheet_name=\"Sheet3\", index=True)\n",
    "    contigency_table4.to_excel(writer, sheet_name='Sheet4', index=True)\n"
   ]
  },
  {
   "cell_type": "code",
   "execution_count": 19,
   "metadata": {},
   "outputs": [
    {
     "data": {
      "text/html": [
       "<div>\n",
       "<style scoped>\n",
       "    .dataframe tbody tr th:only-of-type {\n",
       "        vertical-align: middle;\n",
       "    }\n",
       "\n",
       "    .dataframe tbody tr th {\n",
       "        vertical-align: top;\n",
       "    }\n",
       "\n",
       "    .dataframe thead th {\n",
       "        text-align: right;\n",
       "    }\n",
       "</style>\n",
       "<table border=\"1\" class=\"dataframe\">\n",
       "  <thead>\n",
       "    <tr style=\"text-align: right;\">\n",
       "      <th></th>\n",
       "      <th>small</th>\n",
       "      <th>medium</th>\n",
       "      <th>large</th>\n",
       "    </tr>\n",
       "    <tr>\n",
       "      <th>house_type</th>\n",
       "      <th></th>\n",
       "      <th></th>\n",
       "      <th></th>\n",
       "    </tr>\n",
       "  </thead>\n",
       "  <tbody>\n",
       "    <tr>\n",
       "      <th>family_1-3</th>\n",
       "      <td>62</td>\n",
       "      <td>38</td>\n",
       "      <td>10</td>\n",
       "    </tr>\n",
       "    <tr>\n",
       "      <th>luxury_4+</th>\n",
       "      <td>1</td>\n",
       "      <td>21</td>\n",
       "      <td>51</td>\n",
       "    </tr>\n",
       "  </tbody>\n",
       "</table>\n",
       "</div>"
      ],
      "text/plain": [
       "            small  medium  large\n",
       "house_type                      \n",
       "family_1-3     62      38     10\n",
       "luxury_4+       1      21     51"
      ]
     },
     "metadata": {},
     "output_type": "display_data"
    },
    {
     "data": {
      "text/html": [
       "<div>\n",
       "<style scoped>\n",
       "    .dataframe tbody tr th:only-of-type {\n",
       "        vertical-align: middle;\n",
       "    }\n",
       "\n",
       "    .dataframe tbody tr th {\n",
       "        vertical-align: top;\n",
       "    }\n",
       "\n",
       "    .dataframe thead th {\n",
       "        text-align: right;\n",
       "    }\n",
       "</style>\n",
       "<table border=\"1\" class=\"dataframe\">\n",
       "  <thead>\n",
       "    <tr style=\"text-align: right;\">\n",
       "      <th></th>\n",
       "      <th>(209999.0, 350000.0]</th>\n",
       "      <th>(350000.0, 475000.0]</th>\n",
       "      <th>(475000.0, 725000.0]</th>\n",
       "      <th>(725000.0, 3925000.0]</th>\n",
       "    </tr>\n",
       "    <tr>\n",
       "      <th>house_type</th>\n",
       "      <th></th>\n",
       "      <th></th>\n",
       "      <th></th>\n",
       "      <th></th>\n",
       "    </tr>\n",
       "  </thead>\n",
       "  <tbody>\n",
       "    <tr>\n",
       "      <th>family_1-3</th>\n",
       "      <td>36</td>\n",
       "      <td>39</td>\n",
       "      <td>22</td>\n",
       "      <td>13</td>\n",
       "    </tr>\n",
       "    <tr>\n",
       "      <th>luxury_4+</th>\n",
       "      <td>11</td>\n",
       "      <td>8</td>\n",
       "      <td>23</td>\n",
       "      <td>31</td>\n",
       "    </tr>\n",
       "  </tbody>\n",
       "</table>\n",
       "</div>"
      ],
      "text/plain": [
       "            (209999.0, 350000.0]  (350000.0, 475000.0]  (475000.0, 725000.0]  \\\n",
       "house_type                                                                     \n",
       "family_1-3                    36                    39                    22   \n",
       "luxury_4+                     11                     8                    23   \n",
       "\n",
       "            (725000.0, 3925000.0]  \n",
       "house_type                         \n",
       "family_1-3                     13  \n",
       "luxury_4+                      31  "
      ]
     },
     "metadata": {},
     "output_type": "display_data"
    },
    {
     "data": {
      "text/html": [
       "<div>\n",
       "<style scoped>\n",
       "    .dataframe tbody tr th:only-of-type {\n",
       "        vertical-align: middle;\n",
       "    }\n",
       "\n",
       "    .dataframe tbody tr th {\n",
       "        vertical-align: top;\n",
       "    }\n",
       "\n",
       "    .dataframe thead th {\n",
       "        text-align: right;\n",
       "    }\n",
       "</style>\n",
       "<table border=\"1\" class=\"dataframe\">\n",
       "  <thead>\n",
       "    <tr style=\"text-align: right;\">\n",
       "      <th></th>\n",
       "      <th>(209999.0, 350000.0]</th>\n",
       "      <th>(350000.0, 475000.0]</th>\n",
       "      <th>(475000.0, 725000.0]</th>\n",
       "      <th>(725000.0, 3925000.0]</th>\n",
       "    </tr>\n",
       "    <tr>\n",
       "      <th>house_size_cat</th>\n",
       "      <th></th>\n",
       "      <th></th>\n",
       "      <th></th>\n",
       "      <th></th>\n",
       "    </tr>\n",
       "  </thead>\n",
       "  <tbody>\n",
       "    <tr>\n",
       "      <th>small</th>\n",
       "      <td>26</td>\n",
       "      <td>31</td>\n",
       "      <td>6</td>\n",
       "      <td>0</td>\n",
       "    </tr>\n",
       "    <tr>\n",
       "      <th>medium</th>\n",
       "      <td>17</td>\n",
       "      <td>13</td>\n",
       "      <td>24</td>\n",
       "      <td>5</td>\n",
       "    </tr>\n",
       "    <tr>\n",
       "      <th>large</th>\n",
       "      <td>4</td>\n",
       "      <td>3</td>\n",
       "      <td>15</td>\n",
       "      <td>39</td>\n",
       "    </tr>\n",
       "  </tbody>\n",
       "</table>\n",
       "</div>"
      ],
      "text/plain": [
       "                (209999.0, 350000.0]  (350000.0, 475000.0]  \\\n",
       "house_size_cat                                               \n",
       "small                             26                    31   \n",
       "medium                            17                    13   \n",
       "large                              4                     3   \n",
       "\n",
       "                (475000.0, 725000.0]  (725000.0, 3925000.0]  \n",
       "house_size_cat                                               \n",
       "small                              6                      0  \n",
       "medium                            24                      5  \n",
       "large                             15                     39  "
      ]
     },
     "metadata": {},
     "output_type": "display_data"
    },
    {
     "data": {
      "text/html": [
       "<div>\n",
       "<style scoped>\n",
       "    .dataframe tbody tr th:only-of-type {\n",
       "        vertical-align: middle;\n",
       "    }\n",
       "\n",
       "    .dataframe tbody tr th {\n",
       "        vertical-align: top;\n",
       "    }\n",
       "\n",
       "    .dataframe thead th {\n",
       "        text-align: right;\n",
       "    }\n",
       "</style>\n",
       "<table border=\"1\" class=\"dataframe\">\n",
       "  <thead>\n",
       "    <tr style=\"text-align: right;\">\n",
       "      <th></th>\n",
       "      <th>(209999.0, 350000.0]</th>\n",
       "      <th>(350000.0, 475000.0]</th>\n",
       "      <th>(475000.0, 725000.0]</th>\n",
       "      <th>(725000.0, 3925000.0]</th>\n",
       "    </tr>\n",
       "    <tr>\n",
       "      <th>Borough</th>\n",
       "      <th></th>\n",
       "      <th></th>\n",
       "      <th></th>\n",
       "      <th></th>\n",
       "    </tr>\n",
       "  </thead>\n",
       "  <tbody>\n",
       "    <tr>\n",
       "      <th>Centrum</th>\n",
       "      <td>1</td>\n",
       "      <td>6</td>\n",
       "      <td>8</td>\n",
       "      <td>15</td>\n",
       "    </tr>\n",
       "    <tr>\n",
       "      <th>Nieuw-West</th>\n",
       "      <td>7</td>\n",
       "      <td>6</td>\n",
       "      <td>8</td>\n",
       "      <td>2</td>\n",
       "    </tr>\n",
       "    <tr>\n",
       "      <th>Noord</th>\n",
       "      <td>9</td>\n",
       "      <td>3</td>\n",
       "      <td>5</td>\n",
       "      <td>4</td>\n",
       "    </tr>\n",
       "    <tr>\n",
       "      <th>Oost</th>\n",
       "      <td>2</td>\n",
       "      <td>7</td>\n",
       "      <td>9</td>\n",
       "      <td>4</td>\n",
       "    </tr>\n",
       "    <tr>\n",
       "      <th>Weesp</th>\n",
       "      <td>0</td>\n",
       "      <td>0</td>\n",
       "      <td>1</td>\n",
       "      <td>0</td>\n",
       "    </tr>\n",
       "    <tr>\n",
       "      <th>West</th>\n",
       "      <td>12</td>\n",
       "      <td>15</td>\n",
       "      <td>10</td>\n",
       "      <td>6</td>\n",
       "    </tr>\n",
       "    <tr>\n",
       "      <th>Zuid</th>\n",
       "      <td>1</td>\n",
       "      <td>10</td>\n",
       "      <td>4</td>\n",
       "      <td>13</td>\n",
       "    </tr>\n",
       "    <tr>\n",
       "      <th>Zuidoost</th>\n",
       "      <td>15</td>\n",
       "      <td>0</td>\n",
       "      <td>0</td>\n",
       "      <td>0</td>\n",
       "    </tr>\n",
       "  </tbody>\n",
       "</table>\n",
       "</div>"
      ],
      "text/plain": [
       "            (209999.0, 350000.0]  (350000.0, 475000.0]  (475000.0, 725000.0]  \\\n",
       "Borough                                                                        \n",
       "Centrum                        1                     6                     8   \n",
       "Nieuw-West                     7                     6                     8   \n",
       "Noord                          9                     3                     5   \n",
       "Oost                           2                     7                     9   \n",
       "Weesp                          0                     0                     1   \n",
       "West                          12                    15                    10   \n",
       "Zuid                           1                    10                     4   \n",
       "Zuidoost                      15                     0                     0   \n",
       "\n",
       "            (725000.0, 3925000.0]  \n",
       "Borough                            \n",
       "Centrum                        15  \n",
       "Nieuw-West                      2  \n",
       "Noord                           4  \n",
       "Oost                            4  \n",
       "Weesp                           0  \n",
       "West                            6  \n",
       "Zuid                           13  \n",
       "Zuidoost                        0  "
      ]
     },
     "metadata": {},
     "output_type": "display_data"
    }
   ],
   "source": [
    "# Read the excel file just created which contains all the contigency tables\n",
    "xls = pd.ExcelFile('data/contigency_tables_valset.xlsx')\n",
    "\n",
    "#Check list of all sheets in the file\n",
    "xls.sheet_names\n",
    "\n",
    "# to read all sheets and store the output into a dictionary, so that later can manipulate these contingeny tables\n",
    "# from one uniformed data structure \n",
    "sheet_to_df_map = {}\n",
    "for sheet_name in xls.sheet_names:\n",
    "    sheet_to_df_map[sheet_name] = xls.parse(sheet_name, index_col=0)\n",
    "\n",
    "# inspect mapped dictionary's data type and display each contigency table from dictionary \n",
    "display(list(sheet_to_df_map.values())[0])\n",
    "display(list(sheet_to_df_map.values())[1])\n",
    "display(list(sheet_to_df_map.values())[2])\n",
    "display(list(sheet_to_df_map.values())[3])"
   ]
  },
  {
   "cell_type": "code",
   "execution_count": 20,
   "metadata": {},
   "outputs": [
    {
     "data": {
      "text/html": [
       "<div>\n",
       "<style scoped>\n",
       "    .dataframe tbody tr th:only-of-type {\n",
       "        vertical-align: middle;\n",
       "    }\n",
       "\n",
       "    .dataframe tbody tr th {\n",
       "        vertical-align: top;\n",
       "    }\n",
       "\n",
       "    .dataframe thead th {\n",
       "        text-align: right;\n",
       "    }\n",
       "</style>\n",
       "<table border=\"1\" class=\"dataframe\">\n",
       "  <thead>\n",
       "    <tr style=\"text-align: right;\">\n",
       "      <th></th>\n",
       "      <th>Statistic</th>\n",
       "      <th>p-value</th>\n",
       "      <th>DoF</th>\n",
       "      <th>Result</th>\n",
       "    </tr>\n",
       "    <tr>\n",
       "      <th>Contigency_Table</th>\n",
       "      <th></th>\n",
       "      <th></th>\n",
       "      <th></th>\n",
       "      <th></th>\n",
       "    </tr>\n",
       "  </thead>\n",
       "  <tbody>\n",
       "    <tr>\n",
       "      <th>house_type &amp; house_size_cat</th>\n",
       "      <td>87.62</td>\n",
       "      <td>0.0</td>\n",
       "      <td>2</td>\n",
       "      <td>Dependent (reject H0)</td>\n",
       "    </tr>\n",
       "    <tr>\n",
       "      <th>Price_range &amp; house_type</th>\n",
       "      <td>35.08</td>\n",
       "      <td>0.0</td>\n",
       "      <td>3</td>\n",
       "      <td>Dependent (reject H0)</td>\n",
       "    </tr>\n",
       "    <tr>\n",
       "      <th>Price_range &amp; house_size_cat</th>\n",
       "      <td>112.49</td>\n",
       "      <td>0.0</td>\n",
       "      <td>6</td>\n",
       "      <td>Dependent (reject H0)</td>\n",
       "    </tr>\n",
       "    <tr>\n",
       "      <th>Price_range &amp; Borough</th>\n",
       "      <td>90.47</td>\n",
       "      <td>0.0</td>\n",
       "      <td>21</td>\n",
       "      <td>Dependent (reject H0)</td>\n",
       "    </tr>\n",
       "  </tbody>\n",
       "</table>\n",
       "</div>"
      ],
      "text/plain": [
       "                              Statistic  p-value  DoF                 Result\n",
       "Contigency_Table                                                            \n",
       "house_type & house_size_cat       87.62      0.0    2  Dependent (reject H0)\n",
       "Price_range & house_type          35.08      0.0    3  Dependent (reject H0)\n",
       "Price_range & house_size_cat     112.49      0.0    6  Dependent (reject H0)\n",
       " Price_range & Borough            90.47      0.0   21  Dependent (reject H0)"
      ]
     },
     "execution_count": 20,
     "metadata": {},
     "output_type": "execute_result"
    }
   ],
   "source": [
    "from scipy.stats import chi2_contingency\n",
    "\n",
    "# Create empty df to store results from chi-square tests\n",
    "chi_res = pd.DataFrame(columns=['Statistic','p-value','DoF','Result'])\n",
    "alpha=0.05\n",
    "\n",
    "# Looping through each contingency table to perform chi-square test\n",
    "for i, value in enumerate(sheet_to_df_map):\n",
    "    c, p, dof, expected_freq = chi2_contingency(list(sheet_to_df_map.values())[i], correction=True)\n",
    "    if p <= alpha:\n",
    "        pp = 'Dependent (reject H0)'\n",
    "    else:\n",
    "        pp = 'Independent (fail to reject H0)'\n",
    "    lst = [round(c,2), round(p,4), dof, pp]\n",
    "    chi_res.loc[len(chi_res)] = lst\n",
    "\n",
    "# Tidy up final test result table \n",
    "chi_res.reset_index(inplace = True)\n",
    "chi_res.rename(columns = {'index':'Contigency_Table'}, inplace = True)\n",
    "\n",
    "chi_res['Contigency_Table'].replace({0: \"house_type & house_size_cat\", \n",
    "                                     1: \"Price_range & house_type\",\n",
    "                                     2: \"Price_range & house_size_cat\",\n",
    "                                     3: \" Price_range & Borough\"\n",
    "                                     },inplace=True)\n",
    "\n",
    "chi_res.set_index('Contigency_Table', inplace = True)\n",
    "chi_res"
   ]
  },
  {
   "cell_type": "markdown",
   "metadata": {},
   "source": [
    "<!-- https://neuhofmo.github.io/chi-square-and-post-hoc-in-python/ -->"
   ]
  },
  {
   "cell_type": "markdown",
   "metadata": {},
   "source": [
    "- Examined the computed variables derived from area, room, and geolocation; results showed these catgeorical variables were dependent on each other "
   ]
  },
  {
   "attachments": {},
   "cell_type": "markdown",
   "metadata": {},
   "source": [
    "**b.** Analysis of **Ordinal** features"
   ]
  },
  {
   "cell_type": "markdown",
   "metadata": {},
   "source": [
    "* No ordinal features from raw train set, although some of featured ordinal variables has been tested above  "
   ]
  },
  {
   "attachments": {},
   "cell_type": "markdown",
   "metadata": {},
   "source": [
    "**c.** Analysis of **Discrete** and **Continuous** features"
   ]
  },
  {
   "cell_type": "code",
   "execution_count": 21,
   "metadata": {},
   "outputs": [
    {
     "data": {
      "text/plain": [
       "Index(['Room', 'log_price', 'log_area', 'km_to_centre', 'Borough',\n",
       "       'house_type', 'house_size_cat'],\n",
       "      dtype='object')"
      ]
     },
     "execution_count": 21,
     "metadata": {},
     "output_type": "execute_result"
    }
   ],
   "source": [
    "# tidy up and remove columns that were duplicating\n",
    "res_dat = df_val_cleaned_geo.drop(columns=['Price', 'Area','Price_m²','Address','Zip','Lon','Lat','log_Price_m²','borough_id','Price_range'], axis=1 ) #remove raw data column before log transformation\n",
    "res_dat.columns"
   ]
  },
  {
   "cell_type": "code",
   "execution_count": 22,
   "metadata": {},
   "outputs": [
    {
     "name": "stderr",
     "output_type": "stream",
     "text": [
      "/var/folders/m6/h_c6j54j54723kby9c10j_0m0000gn/T/ipykernel_32111/1786821713.py:4: FutureWarning: The default value of numeric_only in DataFrame.corr is deprecated. In a future version, it will default to False. Select only valid columns or specify the value of numeric_only to silence this warning.\n",
      "  matrix = res_dat.corr().round(2)\n"
     ]
    },
    {
     "data": {
      "image/png": "[encoded data removed]",
      "text/plain": [
       "<Figure size 800x550 with 2 Axes>"
      ]
     },
     "metadata": {},
     "output_type": "display_data"
    }
   ],
   "source": [
    "# display(res_dat.corr())\n",
    "\n",
    "# visualise correlation matrix among variables \n",
    "matrix = res_dat.corr().round(2)\n",
    "# mask = np.triu(np.ones_like(matrix, dtype=bool))\n",
    "sns.heatmap(matrix, annot=True, vmax=1, vmin=-1, center=0, cmap='vlag')#, mask=mask)\n",
    "plt.show()"
   ]
  },
  {
   "cell_type": "markdown",
   "metadata": {},
   "source": [
    "- Consistent with above chi-square test, Room and log_area deems to be dependent with each other, hence showing high correlations \n",
    "\n",
    "- There is also a negative correlation between distance to centre with log_price, indicating the further from city centre is negatively associated to log_price "
   ]
  },
  {
   "cell_type": "code",
   "execution_count": 23,
   "metadata": {},
   "outputs": [
    {
     "data": {
      "text/plain": [
       "Index(['Room', 'log_area', 'km_to_centre', 'Borough', 'house_type',\n",
       "       'house_size_cat'],\n",
       "      dtype='object')"
      ]
     },
     "execution_count": 23,
     "metadata": {},
     "output_type": "execute_result"
    }
   ],
   "source": [
    "#specify predictor and outcomes variables in the model \n",
    "y = res_dat[\"log_price\"]\n",
    "x = res_dat.drop(columns=['log_price'], axis=1 ) \n",
    "x.columns\n"
   ]
  },
  {
   "cell_type": "code",
   "execution_count": 24,
   "metadata": {},
   "outputs": [
    {
     "data": {
      "text/html": [
       "<div>\n",
       "<style scoped>\n",
       "    .dataframe tbody tr th:only-of-type {\n",
       "        vertical-align: middle;\n",
       "    }\n",
       "\n",
       "    .dataframe tbody tr th {\n",
       "        vertical-align: top;\n",
       "    }\n",
       "\n",
       "    .dataframe thead th {\n",
       "        text-align: right;\n",
       "    }\n",
       "</style>\n",
       "<table border=\"1\" class=\"dataframe\">\n",
       "  <thead>\n",
       "    <tr style=\"text-align: right;\">\n",
       "      <th></th>\n",
       "      <th>feature</th>\n",
       "      <th>VIF</th>\n",
       "    </tr>\n",
       "  </thead>\n",
       "  <tbody>\n",
       "    <tr>\n",
       "      <th>0</th>\n",
       "      <td>Room</td>\n",
       "      <td>10.766963</td>\n",
       "    </tr>\n",
       "    <tr>\n",
       "      <th>1</th>\n",
       "      <td>log_area</td>\n",
       "      <td>13.401861</td>\n",
       "    </tr>\n",
       "    <tr>\n",
       "      <th>2</th>\n",
       "      <td>km_to_centre</td>\n",
       "      <td>3.669260</td>\n",
       "    </tr>\n",
       "  </tbody>\n",
       "</table>\n",
       "</div>"
      ],
      "text/plain": [
       "        feature        VIF\n",
       "0          Room  10.766963\n",
       "1      log_area  13.401861\n",
       "2  km_to_centre   3.669260"
      ]
     },
     "execution_count": 24,
     "metadata": {},
     "output_type": "execute_result"
    }
   ],
   "source": [
    "from statsmodels.stats.outliers_influence import variance_inflation_factor\n",
    "\n",
    "numerical = x.select_dtypes([np.int64, np.float64])\n",
    "\n",
    "# VIF dataframe\n",
    "vif_data = pd.DataFrame()\n",
    "vif_data[\"feature\"] = numerical.columns\n",
    "vif_data[\"VIF\"] = [variance_inflation_factor(numerical.values, i)\n",
    "                          for i in range(len(numerical.columns))]\n",
    "\n",
    "vif_data"
   ]
  },
  {
   "cell_type": "code",
   "execution_count": 25,
   "metadata": {},
   "outputs": [
    {
     "name": "stdout",
     "output_type": "stream",
     "text": [
      "                            OLS Regression Results                            \n",
      "==============================================================================\n",
      "Dep. Variable:              log_price   R-squared:                       0.770\n",
      "Model:                            OLS   Adj. R-squared:                  0.766\n",
      "Method:                 Least Squares   F-statistic:                     199.8\n",
      "Date:                Wed, 09 Aug 2023   Prob (F-statistic):           6.91e-57\n",
      "Time:                        00:14:00   Log-Likelihood:                -11.648\n",
      "No. Observations:                 183   AIC:                             31.30\n",
      "Df Residuals:                     179   BIC:                             44.13\n",
      "Df Model:                           3                                         \n",
      "Covariance Type:            nonrobust                                         \n",
      "================================================================================\n",
      "                   coef    std err          t      P>|t|      [0.025      0.975]\n",
      "--------------------------------------------------------------------------------\n",
      "Intercept        9.1726      0.250     36.743      0.000       8.680       9.665\n",
      "log_area         0.9963      0.068     14.599      0.000       0.862       1.131\n",
      "Room            -0.0125      0.022     -0.581      0.562      -0.055       0.030\n",
      "km_to_centre    -0.0893      0.007    -11.961      0.000      -0.104      -0.075\n",
      "==============================================================================\n",
      "Omnibus:                       11.136   Durbin-Watson:                   1.560\n",
      "Prob(Omnibus):                  0.004   Jarque-Bera (JB):               18.392\n",
      "Skew:                           0.310   Prob(JB):                     0.000101\n",
      "Kurtosis:                       4.424   Cond. No.                         99.6\n",
      "==============================================================================\n",
      "\n",
      "Notes:\n",
      "[1] Standard Errors assume that the covariance matrix of the errors is correctly specified.\n"
     ]
    }
   ],
   "source": [
    "# Evidence supporting H1a, H1c\n",
    "import statsmodels.formula.api as smf\n",
    "lm = smf.ols(\"log_price ~ log_area + Room + km_to_centre\", data= res_dat)\n",
    "model = lm.fit()\n",
    "print(model.summary())"
   ]
  },
  {
   "cell_type": "code",
   "execution_count": 27,
   "metadata": {},
   "outputs": [
    {
     "name": "stdout",
     "output_type": "stream",
     "text": [
      "                            OLS Regression Results                            \n",
      "==============================================================================\n",
      "Dep. Variable:              log_price   R-squared:                       0.770\n",
      "Model:                            OLS   Adj. R-squared:                  0.767\n",
      "Method:                 Least Squares   F-statistic:                     300.7\n",
      "Date:                Wed, 09 Aug 2023   Prob (F-statistic):           4.17e-58\n",
      "Time:                        00:14:38   Log-Likelihood:                -11.821\n",
      "No. Observations:                 183   AIC:                             29.64\n",
      "Df Residuals:                     180   BIC:                             39.27\n",
      "Df Model:                           2                                         \n",
      "Covariance Type:            nonrobust                                         \n",
      "================================================================================\n",
      "                   coef    std err          t      P>|t|      [0.025      0.975]\n",
      "--------------------------------------------------------------------------------\n",
      "Intercept        9.2661      0.190     48.667      0.000       8.890       9.642\n",
      "log_area         0.9654      0.043     22.567      0.000       0.881       1.050\n",
      "km_to_centre    -0.0895      0.007    -12.028      0.000      -0.104      -0.075\n",
      "==============================================================================\n",
      "Omnibus:                       10.644   Durbin-Watson:                   1.551\n",
      "Prob(Omnibus):                  0.005   Jarque-Bera (JB):               17.526\n",
      "Skew:                           0.292   Prob(JB):                     0.000156\n",
      "Kurtosis:                       4.399   Cond. No.                         65.9\n",
      "==============================================================================\n",
      "\n",
      "Notes:\n",
      "[1] Standard Errors assume that the covariance matrix of the errors is correctly specified.\n"
     ]
    }
   ],
   "source": [
    "# Reject H1b \n",
    "import statsmodels.formula.api as smf\n",
    "lm = smf.ols(\"log_price ~ log_area +  km_to_centre\", data= res_dat)\n",
    "model = lm.fit()\n",
    "print(model.summary())"
   ]
  },
  {
   "cell_type": "code",
   "execution_count": 26,
   "metadata": {},
   "outputs": [
    {
     "name": "stdout",
     "output_type": "stream",
     "text": [
      "                            OLS Regression Results                            \n",
      "==============================================================================\n",
      "Dep. Variable:              log_price   R-squared:                       0.773\n",
      "Model:                            OLS   Adj. R-squared:                  0.770\n",
      "Method:                 Least Squares   F-statistic:                     203.6\n",
      "Date:                Wed, 09 Aug 2023   Prob (F-statistic):           1.91e-57\n",
      "Time:                        00:14:13   Log-Likelihood:                -10.332\n",
      "No. Observations:                 183   AIC:                             28.66\n",
      "Df Residuals:                     179   BIC:                             41.50\n",
      "Df Model:                           3                                         \n",
      "Covariance Type:            nonrobust                                         \n",
      "===========================================================================================\n",
      "                              coef    std err          t      P>|t|      [0.025      0.975]\n",
      "-------------------------------------------------------------------------------------------\n",
      "Intercept                   9.0167      0.239     37.752      0.000       8.545       9.488\n",
      "house_type[T.luxury_4+]    -0.0893      0.052     -1.714      0.088      -0.192       0.014\n",
      "log_area                    1.0288      0.056     18.256      0.000       0.918       1.140\n",
      "km_to_centre               -0.0887      0.007    -11.958      0.000      -0.103      -0.074\n",
      "==============================================================================\n",
      "Omnibus:                       11.522   Durbin-Watson:                   1.545\n",
      "Prob(Omnibus):                  0.003   Jarque-Bera (JB):               16.845\n",
      "Skew:                           0.376   Prob(JB):                     0.000220\n",
      "Kurtosis:                       4.282   Cond. No.                         84.2\n",
      "==============================================================================\n",
      "\n",
      "Notes:\n",
      "[1] Standard Errors assume that the covariance matrix of the errors is correctly specified.\n"
     ]
    }
   ],
   "source": [
    "# Reject H1b \n",
    "import statsmodels.formula.api as smf\n",
    "lm = smf.ols(\"log_price ~ log_area + house_type + km_to_centre\", data= res_dat)\n",
    "model = lm.fit()\n",
    "print(model.summary())"
   ]
  },
  {
   "cell_type": "markdown",
   "metadata": {},
   "source": [
    "- VIF detects multicollinearity in regression analysis. when including all numeric varibles in the cleaned train set, room and log_area has been all above thredsholds (i.e., >5)\n",
    "\n",
    "- In the above regression, room is not statistically significant, and given it is highly correlated with log_area, I thus remove this variable from the model. After removing it, the vif score indicated that no multicollinearity has been detected "
   ]
  },
  {
   "cell_type": "code",
   "execution_count": 28,
   "metadata": {},
   "outputs": [
    {
     "data": {
      "text/html": [
       "<div>\n",
       "<style scoped>\n",
       "    .dataframe tbody tr th:only-of-type {\n",
       "        vertical-align: middle;\n",
       "    }\n",
       "\n",
       "    .dataframe tbody tr th {\n",
       "        vertical-align: top;\n",
       "    }\n",
       "\n",
       "    .dataframe thead th {\n",
       "        text-align: right;\n",
       "    }\n",
       "</style>\n",
       "<table border=\"1\" class=\"dataframe\">\n",
       "  <thead>\n",
       "    <tr style=\"text-align: right;\">\n",
       "      <th></th>\n",
       "      <th>feature</th>\n",
       "      <th>VIF</th>\n",
       "    </tr>\n",
       "  </thead>\n",
       "  <tbody>\n",
       "    <tr>\n",
       "      <th>0</th>\n",
       "      <td>log_area</td>\n",
       "      <td>3.669219</td>\n",
       "    </tr>\n",
       "    <tr>\n",
       "      <th>1</th>\n",
       "      <td>km_to_centre</td>\n",
       "      <td>3.669219</td>\n",
       "    </tr>\n",
       "  </tbody>\n",
       "</table>\n",
       "</div>"
      ],
      "text/plain": [
       "        feature       VIF\n",
       "0      log_area  3.669219\n",
       "1  km_to_centre  3.669219"
      ]
     },
     "execution_count": 28,
     "metadata": {},
     "output_type": "execute_result"
    }
   ],
   "source": [
    "from statsmodels.stats.outliers_influence import variance_inflation_factor\n",
    "\n",
    "numerical = x[['log_area','km_to_centre']]\n",
    "\n",
    "# VIF dataframe\n",
    "vif_data = pd.DataFrame()\n",
    "vif_data[\"feature\"] = numerical.columns\n",
    "vif_data[\"VIF\"] = [variance_inflation_factor(numerical.values, i)\n",
    "                          for i in range(len(numerical.columns))]\n",
    "\n",
    "vif_data"
   ]
  },
  {
   "cell_type": "code",
   "execution_count": 29,
   "metadata": {},
   "outputs": [
    {
     "data": {
      "text/plain": [
       "Index(['Room', 'log_price', 'log_area', 'km_to_centre', 'Borough',\n",
       "       'house_type', 'house_size_cat'],\n",
       "      dtype='object')"
      ]
     },
     "execution_count": 29,
     "metadata": {},
     "output_type": "execute_result"
    }
   ],
   "source": [
    "res_dat.columns"
   ]
  },
  {
   "cell_type": "code",
   "execution_count": 30,
   "metadata": {},
   "outputs": [
    {
     "name": "stdout",
     "output_type": "stream",
     "text": [
      "                            OLS Regression Results                            \n",
      "==============================================================================\n",
      "Dep. Variable:              log_price   R-squared:                       0.843\n",
      "Model:                            OLS   Adj. R-squared:                  0.835\n",
      "Method:                 Least Squares   F-statistic:                     103.4\n",
      "Date:                Wed, 09 Aug 2023   Prob (F-statistic):           7.88e-65\n",
      "Time:                        00:14:55   Log-Likelihood:                 23.378\n",
      "No. Observations:                 183   AIC:                            -26.76\n",
      "Df Residuals:                     173   BIC:                             5.339\n",
      "Df Model:                           9                                         \n",
      "Covariance Type:            nonrobust                                         \n",
      "=========================================================================================\n",
      "                            coef    std err          t      P>|t|      [0.025      0.975]\n",
      "-----------------------------------------------------------------------------------------\n",
      "Intercept                 9.2231      0.178     51.956      0.000       8.873       9.573\n",
      "Borough[T.Nieuw-West]    -0.2783      0.096     -2.894      0.004      -0.468      -0.088\n",
      "Borough[T.Noord]         -0.3486      0.067     -5.175      0.000      -0.482      -0.216\n",
      "Borough[T.Oost]          -0.0886      0.081     -1.099      0.273      -0.248       0.071\n",
      "Borough[T.Weesp]          0.0722      0.262      0.276      0.783      -0.444       0.588\n",
      "Borough[T.West]          -0.0143      0.057     -0.250      0.803      -0.127       0.099\n",
      "Borough[T.Zuid]           0.0844      0.069      1.215      0.226      -0.053       0.221\n",
      "Borough[T.Zuidoost]      -0.4742      0.130     -3.638      0.000      -0.731      -0.217\n",
      "km_to_centre             -0.0514      0.014     -3.735      0.000      -0.079      -0.024\n",
      "log_area                  0.9647      0.038     25.218      0.000       0.889       1.040\n",
      "==============================================================================\n",
      "Omnibus:                       48.596   Durbin-Watson:                   2.210\n",
      "Prob(Omnibus):                  0.000   Jarque-Bera (JB):              110.649\n",
      "Skew:                           1.179   Prob(JB):                     9.40e-25\n",
      "Kurtosis:                       5.992   Cond. No.                         114.\n",
      "==============================================================================\n",
      "\n",
      "Notes:\n",
      "[1] Standard Errors assume that the covariance matrix of the errors is correctly specified.\n"
     ]
    }
   ],
   "source": [
    "# Final model selection \n",
    "import statsmodels.formula.api as smf\n",
    "# lm = smf.ols(\"log_price ~  km_to_centre+ log_area\", data= res_dat)\n",
    "\n",
    "lm = smf.ols(\"log_price ~  km_to_centre+ log_area +Borough\", data= res_dat)\n",
    "model = lm.fit()\n",
    "print(model.summary())"
   ]
  },
  {
   "cell_type": "markdown",
   "metadata": {},
   "source": [
    "- Also tried with mixed effects model with random intercept (below commented) to explore whether the relationship between log_price, distance to centre and log_area were varying across different borough clusters. Results showed not the case  "
   ]
  },
  {
   "cell_type": "code",
   "execution_count": 31,
   "metadata": {},
   "outputs": [
    {
     "data": {
      "text/plain": [
       "Text(0.5, 1.0, 'Avg log price by Borough')"
      ]
     },
     "execution_count": 31,
     "metadata": {},
     "output_type": "execute_result"
    },
    {
     "data": {
      "image/png": "[encoded data removed]",
      "text/plain": [
       "<Figure size 1600x900 with 1 Axes>"
      ]
     },
     "metadata": {},
     "output_type": "display_data"
    }
   ],
   "source": [
    "boxplot = res_dat.boxplot([\"log_price\"], by = [\"Borough\"],\n",
    "                     figsize = (16, 9),\n",
    "                     showmeans = True,\n",
    "                     notch = True)\n",
    "\n",
    "boxplot.set_xlabel(\"Borough\")\n",
    "boxplot.set_ylabel(\"log_price\")\n",
    "boxplot.set_title('Avg log price by Borough')"
   ]
  },
  {
   "cell_type": "code",
   "execution_count": 32,
   "metadata": {},
   "outputs": [
    {
     "name": "stdout",
     "output_type": "stream",
     "text": [
      "                Mixed Linear Model Regression Results\n",
      "======================================================================\n",
      "Model:                 MixedLM      Dependent Variable:      log_price\n",
      "No. Observations:      183          Method:                  REML     \n",
      "No. Groups:            8            Scale:                   0.0480   \n",
      "Min. group size:       1            Log-Likelihood:          1.4854   \n",
      "Max. group size:       43           Converged:               Yes      \n",
      "Mean group size:       22.9                                           \n",
      "----------------------------------------------------------------------\n",
      "                         Coef.    Std.Err.    z    P>|z| [0.025 0.975]\n",
      "----------------------------------------------------------------------\n",
      "Intercept                 9.223       0.282 32.715 0.000  8.671  9.776\n",
      "C(Borough)[T.Nieuw-West] -0.278       0.324 -0.858 0.391 -0.914  0.357\n",
      "C(Borough)[T.Noord]      -0.349       0.317 -1.100 0.271 -0.970  0.273\n",
      "C(Borough)[T.Oost]       -0.089       0.320 -0.277 0.782 -0.716  0.539\n",
      "C(Borough)[T.Weesp]       0.072       0.405  0.178 0.859 -0.722  0.867\n",
      "C(Borough)[T.West]       -0.014       0.315 -0.046 0.964 -0.632  0.603\n",
      "C(Borough)[T.Zuid]        0.084       0.317  0.266 0.790 -0.538  0.707\n",
      "C(Borough)[T.Zuidoost]   -0.474       0.336 -1.411 0.158 -1.133  0.184\n",
      "log_area                  0.965       0.038 25.218 0.000  0.890  1.040\n",
      "km_to_centre             -0.051       0.014 -3.735 0.000 -0.078 -0.024\n",
      "Group Var                 0.048 7349107.814                           \n",
      "======================================================================\n",
      "\n"
     ]
    }
   ],
   "source": [
    "import statsmodels.api as sm\n",
    "import statsmodels.formula.api as smf\n",
    "\n",
    "md = smf.mixedlm(\"log_price ~  log_area + km_to_centre +C(Borough)\", res_dat, groups=res_dat[\"Borough\"])\n",
    "mdf = md.fit()\n",
    "print(mdf.summary())"
   ]
  },
  {
   "attachments": {},
   "cell_type": "markdown",
   "metadata": {},
   "source": [
    "**3. Identify outliers and points of high leverage and re-run statistical tests to assess their impact.** \n",
    "\n",
    "Check this [article](https://online.stat.psu.edu/stat462/node/170/#:~:text=In%20short%3A,is%20particularly%20high%20or%20low.) to understand the difference between **outliers** and **high-leverage points**."
   ]
  },
  {
   "cell_type": "markdown",
   "metadata": {},
   "source": [
    "- [Cook's distance](https://rpubs.com/DragonflyStats/Cooks-Distance) is a commonly used estimate of the influence of a data point when performing least squares regression analysis. Below section relied on Cook's distance method to detect influential cases. \n",
    "\n",
    "<!-- (https://towardsdatascience.com/identifying-outliers-in-linear-regression-cooks-distance-9e212e9136a#:~:text=Cook's%20Distance%20is%20an%20estimate,the%20ith%20observation%20is%20removed.) -->\n"
   ]
  },
  {
   "cell_type": "code",
   "execution_count": 33,
   "metadata": {},
   "outputs": [
    {
     "data": {
      "text/plain": [
       "Index(['Room', 'log_price', 'log_area', 'km_to_centre', 'Borough',\n",
       "       'house_type', 'house_size_cat'],\n",
       "      dtype='object')"
      ]
     },
     "execution_count": 33,
     "metadata": {},
     "output_type": "execute_result"
    }
   ],
   "source": [
    "res_dat.columns"
   ]
  },
  {
   "cell_type": "code",
   "execution_count": 34,
   "metadata": {},
   "outputs": [
    {
     "name": "stdout",
     "output_type": "stream",
     "text": [
      "Index(['Room', 'log_price', 'log_area', 'km_to_centre'], dtype='object')\n"
     ]
    },
    {
     "data": {
      "image/png": "[encoded data removed]",
      "text/plain": [
       "<Figure size 800x550 with 1 Axes>"
      ]
     },
     "metadata": {},
     "output_type": "display_data"
    },
    {
     "data": {
      "text/plain": [
       "<Axes: title={'center': \"Cook's Distance Outlier Detection\"}, xlabel='instance index', ylabel='influence (I)'>"
      ]
     },
     "execution_count": 34,
     "metadata": {},
     "output_type": "execute_result"
    }
   ],
   "source": [
    "# https://lymielynn.medium.com/a-little-closer-to-cooks-distance-e8cc923a3250\n",
    "# https://stackoverflow.com/questions/51390196/how-to-calculate-cooks-distance-dffits-using-python-statsmodel \n",
    "# https://www.scikit-yb.org/en/latest/_modules/yellowbrick/regressor/influence.html?highlight=cook%27s%20distance\n",
    "\n",
    "from yellowbrick.regressor import CooksDistance\n",
    "\n",
    "df_num = res_dat.select_dtypes([int, float])\n",
    "# df_num = df_num.drop(columns=[\"Room\"], axis= 1)\n",
    "\n",
    "X = df_num.drop(columns=[\"log_price\"],axis=1)\n",
    "y = res_dat['log_price']\n",
    "\n",
    "visualizer = CooksDistance()\n",
    "visualizer.fit(X, y)\n",
    "\n",
    "print(df_num.columns)\n",
    "visualizer.show()\n",
    "\n"
   ]
  },
  {
   "cell_type": "code",
   "execution_count": 35,
   "metadata": {},
   "outputs": [
    {
     "data": {
      "image/png": "[encoded data removed]",
      "text/plain": [
       "<Figure size 800x550 with 2 Axes>"
      ]
     },
     "metadata": {},
     "output_type": "display_data"
    },
    {
     "data": {
      "text/plain": [
       "<Axes: title={'center': 'Residuals for LinearRegression Model'}, xlabel='Predicted Value', ylabel='Residuals'>"
      ]
     },
     "execution_count": 35,
     "metadata": {},
     "output_type": "execute_result"
    }
   ],
   "source": [
    "from sklearn.linear_model import LinearRegression\n",
    "from yellowbrick.regressor import ResidualsPlot\n",
    "\n",
    "model = LinearRegression()\n",
    "visualizer_residuals = ResidualsPlot(model)\n",
    "visualizer_residuals.fit(X, y)\n",
    "visualizer_residuals.show()"
   ]
  },
  {
   "cell_type": "code",
   "execution_count": 36,
   "metadata": {},
   "outputs": [
    {
     "data": {
      "image/png": "[encoded data removed]",
      "text/plain": [
       "<Figure size 800x550 with 2 Axes>"
      ]
     },
     "metadata": {},
     "output_type": "display_data"
    },
    {
     "data": {
      "text/plain": [
       "<Axes: title={'center': 'Residuals for LinearRegression Model'}, xlabel='Predicted Value', ylabel='Residuals'>"
      ]
     },
     "execution_count": 36,
     "metadata": {},
     "output_type": "execute_result"
    }
   ],
   "source": [
    "i_less_influential = (visualizer.distance_ <= visualizer.influence_threshold_)\n",
    "X_li, y_li = X[i_less_influential], y[i_less_influential]\n",
    "\n",
    "model = LinearRegression()\n",
    "visualizer_residuals = ResidualsPlot(model)\n",
    "visualizer_residuals.fit(X_li, y_li)\n",
    "visualizer_residuals.show()"
   ]
  },
  {
   "cell_type": "code",
   "execution_count": 37,
   "metadata": {},
   "outputs": [
    {
     "name": "stdout",
     "output_type": "stream",
     "text": [
      "There are 12 influential cases detected from train set\n"
     ]
    },
    {
     "data": {
      "text/html": [
       "<div>\n",
       "<style scoped>\n",
       "    .dataframe tbody tr th:only-of-type {\n",
       "        vertical-align: middle;\n",
       "    }\n",
       "\n",
       "    .dataframe tbody tr th {\n",
       "        vertical-align: top;\n",
       "    }\n",
       "\n",
       "    .dataframe thead th {\n",
       "        text-align: right;\n",
       "    }\n",
       "</style>\n",
       "<table border=\"1\" class=\"dataframe\">\n",
       "  <thead>\n",
       "    <tr style=\"text-align: right;\">\n",
       "      <th></th>\n",
       "      <th>Price</th>\n",
       "      <th>Address</th>\n",
       "      <th>Zip</th>\n",
       "      <th>Area</th>\n",
       "      <th>Room</th>\n",
       "      <th>Lon</th>\n",
       "      <th>Lat</th>\n",
       "      <th>log_price</th>\n",
       "      <th>log_area</th>\n",
       "      <th>Price_m²</th>\n",
       "      <th>log_Price_m²</th>\n",
       "      <th>km_to_centre</th>\n",
       "      <th>borough_id</th>\n",
       "      <th>Borough</th>\n",
       "      <th>house_type</th>\n",
       "      <th>house_size_cat</th>\n",
       "      <th>Price_range</th>\n",
       "      <th>influential</th>\n",
       "      <th>infl_distance</th>\n",
       "    </tr>\n",
       "  </thead>\n",
       "  <tbody>\n",
       "    <tr>\n",
       "      <th>123</th>\n",
       "      <td>275000.0</td>\n",
       "      <td>Tefelenstraat 82, Amsterdam</td>\n",
       "      <td>1107 SM</td>\n",
       "      <td>111</td>\n",
       "      <td>5</td>\n",
       "      <td>4.970438</td>\n",
       "      <td>52.294244</td>\n",
       "      <td>12.524526</td>\n",
       "      <td>4.709530</td>\n",
       "      <td>2477.477477</td>\n",
       "      <td>7.814996</td>\n",
       "      <td>10.583536</td>\n",
       "      <td>4</td>\n",
       "      <td>Zuidoost</td>\n",
       "      <td>luxury_4+</td>\n",
       "      <td>large</td>\n",
       "      <td>(209999.0, 350000.0]</td>\n",
       "      <td>True</td>\n",
       "      <td>0.024875</td>\n",
       "    </tr>\n",
       "    <tr>\n",
       "      <th>41</th>\n",
       "      <td>289500.0</td>\n",
       "      <td>Gouden Leeuw 930, Amsterdam</td>\n",
       "      <td>1103 KW</td>\n",
       "      <td>108</td>\n",
       "      <td>5</td>\n",
       "      <td>4.974531</td>\n",
       "      <td>52.325473</td>\n",
       "      <td>12.575911</td>\n",
       "      <td>4.682131</td>\n",
       "      <td>2680.555556</td>\n",
       "      <td>7.893779</td>\n",
       "      <td>7.822477</td>\n",
       "      <td>4</td>\n",
       "      <td>Zuidoost</td>\n",
       "      <td>luxury_4+</td>\n",
       "      <td>large</td>\n",
       "      <td>(209999.0, 350000.0]</td>\n",
       "      <td>True</td>\n",
       "      <td>0.026843</td>\n",
       "    </tr>\n",
       "    <tr>\n",
       "      <th>111</th>\n",
       "      <td>1775000.0</td>\n",
       "      <td>Valeriusstraat 148 Hs, Amsterdam</td>\n",
       "      <td>1075 GE</td>\n",
       "      <td>177</td>\n",
       "      <td>9</td>\n",
       "      <td>4.865595</td>\n",
       "      <td>52.353408</td>\n",
       "      <td>14.389311</td>\n",
       "      <td>5.176150</td>\n",
       "      <td>10028.248588</td>\n",
       "      <td>9.213161</td>\n",
       "      <td>3.709640</td>\n",
       "      <td>8</td>\n",
       "      <td>Zuid</td>\n",
       "      <td>luxury_4+</td>\n",
       "      <td>large</td>\n",
       "      <td>(725000.0, 3925000.0]</td>\n",
       "      <td>True</td>\n",
       "      <td>0.153876</td>\n",
       "    </tr>\n",
       "  </tbody>\n",
       "</table>\n",
       "</div>"
      ],
      "text/plain": [
       "         Price                           Address      Zip  Area  Room  \\\n",
       "123   275000.0       Tefelenstraat 82, Amsterdam  1107 SM   111     5   \n",
       "41    289500.0       Gouden Leeuw 930, Amsterdam  1103 KW   108     5   \n",
       "111  1775000.0  Valeriusstraat 148 Hs, Amsterdam  1075 GE   177     9   \n",
       "\n",
       "          Lon        Lat  log_price  log_area      Price_m²  log_Price_m²  \\\n",
       "123  4.970438  52.294244  12.524526  4.709530   2477.477477      7.814996   \n",
       "41   4.974531  52.325473  12.575911  4.682131   2680.555556      7.893779   \n",
       "111  4.865595  52.353408  14.389311  5.176150  10028.248588      9.213161   \n",
       "\n",
       "     km_to_centre  borough_id   Borough house_type house_size_cat  \\\n",
       "123     10.583536           4  Zuidoost  luxury_4+          large   \n",
       "41       7.822477           4  Zuidoost  luxury_4+          large   \n",
       "111      3.709640           8      Zuid  luxury_4+          large   \n",
       "\n",
       "               Price_range  influential  infl_distance  \n",
       "123   (209999.0, 350000.0]         True       0.024875  \n",
       "41    (209999.0, 350000.0]         True       0.026843  \n",
       "111  (725000.0, 3925000.0]         True       0.153876  "
      ]
     },
     "metadata": {},
     "output_type": "display_data"
    }
   ],
   "source": [
    "# Display influential cases \n",
    "df_val_cleaned_geo['influential'] = (visualizer.distance_ > visualizer.influence_threshold_)\n",
    "df_val_cleaned_geo['infl_distance']=visualizer.distance_\n",
    "\n",
    "print(f\"There are {len(df_val_cleaned_geo[df_val_cleaned_geo['influential']==True])} influential cases detected from train set\")\n",
    "\n",
    "df_influential = df_val_cleaned_geo[df_val_cleaned_geo['influential']==True].sort_values(by='infl_distance', ascending= False)\n",
    "\n",
    "display(df_influential.sample(3))\n"
   ]
  },
  {
   "cell_type": "markdown",
   "metadata": {},
   "source": [
    "- Cook's distance results indicated with and without removal of influential cases does not change much the explainability of the model, hence we can safely consider the train set does not contain any influential cases. \n",
    "\n",
    "- See this [link](https://towardsdatascience.com/are-you-using-feature-distributions-to-detect-outliers-48e2ae3309) for other ways detecting influential cases "
   ]
  },
  {
   "attachments": {},
   "cell_type": "markdown",
   "metadata": {},
   "source": [
    "**5. If new features are created, save a new dataframe, ideally in [parquet](https://pandas.pydata.org/docs/reference/api/pandas.DataFrame.to_parquet.html) format, to retain metadata information.**\n",
    "\n",
    "💁‍♂️ If you also have the validation set, apply the same transformations and save an additional dataframe.\n",
    "\n",
    "ℹ️ `DataFrame.to_parquet()` requires [pyarrow](https://pypi.org/project/pyarrow/) and [fastparquet](https://pypi.org/project/fastparquet/) libraries."
   ]
  },
  {
   "cell_type": "code",
   "execution_count": 38,
   "metadata": {},
   "outputs": [
    {
     "name": "stdout",
     "output_type": "stream",
     "text": [
      "Python:  3.10.8\n",
      "pandas:  1.5.3\n",
      "pyarrow:  12.0.1\n"
     ]
    }
   ],
   "source": [
    "import pyarrow as pa\n",
    "import pyarrow.parquet as pq\n",
    "import fastparquet as fp\n",
    "import platform\n",
    "\n",
    "print('Python: ', platform.python_version())\n",
    "print('pandas: ', pd.__version__)\n",
    "print('pyarrow: ', pa.__version__)\n"
   ]
  },
  {
   "cell_type": "code",
   "execution_count": 39,
   "metadata": {},
   "outputs": [],
   "source": [
    "# store transformed data into parquet file\n",
    "res_dat.to_parquet('data/transformed_val_set.parquet.gzip', compression='gzip')"
   ]
  },
  {
   "cell_type": "code",
   "execution_count": 40,
   "metadata": {},
   "outputs": [
    {
     "data": {
      "text/html": [
       "<div>\n",
       "<style scoped>\n",
       "    .dataframe tbody tr th:only-of-type {\n",
       "        vertical-align: middle;\n",
       "    }\n",
       "\n",
       "    .dataframe tbody tr th {\n",
       "        vertical-align: top;\n",
       "    }\n",
       "\n",
       "    .dataframe thead th {\n",
       "        text-align: right;\n",
       "    }\n",
       "</style>\n",
       "<table border=\"1\" class=\"dataframe\">\n",
       "  <thead>\n",
       "    <tr style=\"text-align: right;\">\n",
       "      <th></th>\n",
       "      <th>Room</th>\n",
       "      <th>log_price</th>\n",
       "      <th>log_area</th>\n",
       "      <th>km_to_centre</th>\n",
       "      <th>Borough</th>\n",
       "      <th>house_type</th>\n",
       "      <th>house_size_cat</th>\n",
       "    </tr>\n",
       "  </thead>\n",
       "  <tbody>\n",
       "    <tr>\n",
       "      <th>0</th>\n",
       "      <td>3</td>\n",
       "      <td>12.959844</td>\n",
       "      <td>4.219508</td>\n",
       "      <td>4.224315</td>\n",
       "      <td>Oost</td>\n",
       "      <td>family_1-3</td>\n",
       "      <td>small</td>\n",
       "    </tr>\n",
       "    <tr>\n",
       "      <th>5</th>\n",
       "      <td>4</td>\n",
       "      <td>13.304685</td>\n",
       "      <td>4.882802</td>\n",
       "      <td>7.414713</td>\n",
       "      <td>Oost</td>\n",
       "      <td>luxury_4+</td>\n",
       "      <td>large</td>\n",
       "    </tr>\n",
       "    <tr>\n",
       "      <th>6</th>\n",
       "      <td>4</td>\n",
       "      <td>12.762076</td>\n",
       "      <td>4.369448</td>\n",
       "      <td>8.534108</td>\n",
       "      <td>Oost</td>\n",
       "      <td>luxury_4+</td>\n",
       "      <td>medium</td>\n",
       "    </tr>\n",
       "  </tbody>\n",
       "</table>\n",
       "</div>"
      ],
      "text/plain": [
       "   Room  log_price  log_area  km_to_centre Borough  house_type house_size_cat\n",
       "0     3  12.959844  4.219508      4.224315    Oost  family_1-3          small\n",
       "5     4  13.304685  4.882802      7.414713    Oost   luxury_4+          large\n",
       "6     4  12.762076  4.369448      8.534108    Oost   luxury_4+         medium"
      ]
     },
     "execution_count": 40,
     "metadata": {},
     "output_type": "execute_result"
    }
   ],
   "source": [
    "import pyarrow.parquet as pq\n",
    "import os\n",
    "\n",
    "DATA_DIR = \"data\"\n",
    "FILENAME = \"transformed_val_set.parquet.gzip\"\n",
    "\n",
    "# Extract transformed_train_set.parquet.gzip\n",
    "transformed_val_set = pd.read_parquet(\n",
    "                                        os.path.join(DATA_DIR, FILENAME),\n",
    "                                        engine='pyarrow')\n",
    "\n",
    "transformed_val_set.head(3)"
   ]
  },
  {
   "cell_type": "code",
   "execution_count": 52,
   "metadata": {},
   "outputs": [],
   "source": [
    "# Overwrite table schema for the feature engineered training set with customised specifications\n",
    "\n",
    "transformed_val_set_schema = pa.schema([\n",
    "     pa.field(\"Room\", pa.int64(), metadata={\"Description\": \"Number of rooms at residence, 1-14\",\n",
    "                                            \"Calculation\": \"No\",\n",
    "                                            \"Method\": \"Used as it is from source\",\n",
    "                                            \"Data lineage\": \"data_val.csv\",\n",
    "                                            \"Value\": \"1 to 9\"\n",
    "                                        }),\n",
    "     \n",
    "     pa.field(\"log_price\", pa.float64(), metadata={\"Description\": \"Transformed residential price in Euros from y to log(y)\",\n",
    "                                                  \"Calculation\": \"Yes\",\n",
    "                                                  \"Method\": \"log(y)\",\n",
    "                                                  \"Data lineage\": \"data_val.csv\",\n",
    "                                                  \"Value\": \"log(2.100000e+05) to log(3.925000e+06)\"\n",
    "                                               }),\n",
    "     \n",
    "     pa.field(\"log_area\", pa.float64(), metadata={\"Description\": \"Transformed residential area in square meters from x to log(x)\",\n",
    "                                                  \"Calculation\": \"Yes\",\n",
    "                                                  \"Method\": \"log(x)\",\n",
    "                                                  \"Data lineage\": \"data_val.csv\",\n",
    "                                                  \"Value\": \"log(25) to log(319)\"\n",
    "                                              }),\n",
    "     \n",
    "     pa.field(\"km_to_centre\", pa.float64(), metadata={\"Description\":\"Distance in kilometers from residence to Amsterdam Centraal Station\\\n",
    "                                                      (point reference proxy for city centre)\",\n",
    "                                                      \"Calculation\": \"Yes\",\n",
    "                                                      \"Method\": \"geopy.distance.geodesic by coordinates(Lat,Lon) and (52.379189, 4.899431)\",\n",
    "                                                      \"Data lineage\": \"data_val.csv\",\n",
    "                                                      \"Value\": \"0.61 to 11.43\"\n",
    "                                                  }),\n",
    "     \n",
    "     pa.field(\"Borough\", pa.string(), metadata={\"Description\":\"Amsterdam borough where residence is located\",\n",
    "                                                \"Calculation\": \"Yes\",\n",
    "                                                \"Method\": \"GeoPandas.sjoin by coordinates (Lon,Lat) and geometry\",\n",
    "                                                \"Data lineage\": \"https://maps.amsterdam.nl/open_geodata/ -> Stadsdelen.shp\",\n",
    "                                                \"Value\": \"Centrum, Oost, Nieuw-West, Zuidoost, Noord, West, Weesp, Zuid\"\n",
    "                                              }),\n",
    "     \n",
    "     pa.field(\"house_type\", pa.string(),  metadata={\"Description\": \"Type of residence base on number of rooms\",\n",
    "                                                    \"Calculation\": \"No\",\n",
    "                                                    \"Method\": \"Manual, qcut based on room count\",\n",
    "                                                    \"Data lineage\": \"data_val.csv\",\n",
    "                                                    \"Value\": \"'family_1-3'(110),'luxury_4+'(73)\"\n",
    "                                                    }),                                                \n",
    "     \n",
    "     pa.field(\"house_size_cat\", pa.string(),  metadata={\"Description\": \"Categorisation of house size based on Area (raw square meters)\",\n",
    "                                                        \"Calculation\": \"No\",\n",
    "                                                        \"Method\": \"Manual, qcut based on Area\",\n",
    "                                                        \"Data lineage\": \"data_val.csv\",\n",
    "                                                        \"Value\": \" 'Small'(63)->(24.0, 69.0], 'Medium'(59)->(69.0, 106.0],\\\n",
    "                                                        'Large'(61)->(106.0, 319.0]\"})\n",
    "     ],     \n",
    "                                         \n",
    "     metadata={\"Dataset Description\": \"Feature engineered validation set for baseline model building\", \n",
    "               \"Dataset Name\": \"Amsterdam House Price Prediction feature engineered validation set\",\n",
    "               \"Data lineage\": \"R3_statistical_inference_validation_copy.ipynb\",\n",
    "               \"Data source\": \"https://www.kaggle.com/datasets/thomasnibb/amsterdam-house-price-prediction\"\n",
    "            }\n",
    ")\n"
   ]
  },
  {
   "cell_type": "code",
   "execution_count": 53,
   "metadata": {},
   "outputs": [
    {
     "name": "stdout",
     "output_type": "stream",
     "text": [
      "Room: int64\n",
      "  -- field metadata --\n",
      "  Description: 'Number of rooms at residence, 1-14'\n",
      "  Calculation: 'No'\n",
      "  Method: 'Used as it is from source'\n",
      "  Data lineage: 'data_val.csv'\n",
      "  Value: '1 to 9'\n",
      "log_price: double\n",
      "  -- field metadata --\n",
      "  Description: 'Transformed residential price in Euros from y to log(y)'\n",
      "  Calculation: 'Yes'\n",
      "  Method: 'log(y)'\n",
      "  Data lineage: 'data_val.csv'\n",
      "  Value: 'log(2.100000e+05) to log(3.925000e+06)'\n",
      "log_area: double\n",
      "  -- field metadata --\n",
      "  Description: 'Transformed residential area in square meters from x to l' + 5\n",
      "  Calculation: 'Yes'\n",
      "  Method: 'log(x)'\n",
      "  Data lineage: 'data_val.csv'\n",
      "  Value: 'log(25) to log(319)'\n",
      "km_to_centre: double\n",
      "  -- field metadata --\n",
      "  Description: 'Distance in kilometers from residence to Amsterdam Centra' + 103\n",
      "  Calculation: 'Yes'\n",
      "  Method: 'geopy.distance.geodesic by coordinates(Lat,Lon) and (52.379189' + 11\n",
      "  Data lineage: 'data_val.csv'\n",
      "  Value: '0.61 to 11.43'\n",
      "Borough: string\n",
      "  -- field metadata --\n",
      "  Description: 'Amsterdam borough where residence is located'\n",
      "  Calculation: 'Yes'\n",
      "  Method: 'GeoPandas.sjoin by coordinates (Lon,Lat) and geometry'\n",
      "  Data lineage: 'https://maps.amsterdam.nl/open_geodata/ -> Stadsdelen.sh' + 1\n",
      "  Value: 'Centrum, Oost, Nieuw-West, Zuidoost, Noord, West, Weesp, Zuid'\n",
      "house_type: string\n",
      "  -- field metadata --\n",
      "  Description: 'Type of residence base on number of rooms'\n",
      "  Calculation: 'No'\n",
      "  Method: 'Manual, qcut based on room count'\n",
      "  Data lineage: 'data_val.csv'\n",
      "  Value: ''family_1-3'(110),'luxury_4+'(73)'\n",
      "house_size_cat: string\n",
      "  -- field metadata --\n",
      "  Description: 'Categorisation of house size based on Area (raw square me' + 5\n",
      "  Calculation: 'No'\n",
      "  Method: 'Manual, qcut based on Area'\n",
      "  Data lineage: 'data_val.csv'\n",
      "  Value: ' 'Small'(63)->(24.0, 69.0], 'Medium'(59)->(69.0, 106.0],       ' + 76\n",
      "-- schema metadata --\n",
      "Dataset Description: 'Feature engineered validation set for baseline mode' + 10\n",
      "Dataset Name: 'Amsterdam House Price Prediction feature engineered valida' + 8\n",
      "Data lineage: 'R3_statistical_inference_validation_copy.ipynb'\n",
      "Data source: 'https://www.kaggle.com/datasets/thomasnibb/amsterdam-house-' + 16\n"
     ]
    }
   ],
   "source": [
    "# Read customised table schema from transformed_train_set.parquet.gzip \n",
    "print(transformed_val_set_schema)"
   ]
  }
 ],
 "metadata": {
  "kernelspec": {
   "display_name": "my-env",
   "language": "python",
   "name": "python3"
  },
  "language_info": {
   "codemirror_mode": {
    "name": "ipython",
    "version": 3
   },
   "file_extension": ".py",
   "mimetype": "text/x-python",
   "name": "python",
   "nbconvert_exporter": "python",
   "pygments_lexer": "ipython3",
   "version": "3.10.8"
  },
  "orig_nbformat": 4
 },
 "nbformat": 4,
 "nbformat_minor": 2
}
