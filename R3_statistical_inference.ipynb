{
 "cells": [
  {
   "attachments": {},
   "cell_type": "markdown",
   "metadata": {},
   "source": [
    "## 3️⃣ Statistical Inference & Feature Engineering\n",
    "<!-- **designed by:** [datamover.ai](https://www.datamover.ai) -->"
   ]
  },
  {
   "cell_type": "markdown",
   "metadata": {},
   "source": [
    "                                           Step 1: Understanding of data  \n",
    "                                                    \n",
    "* Within the train dataset, there are two main dimensions of data has been offered to predict house prices: \n",
    "\n",
    "    * 1. House size: Area, Room variables may give indication, although they may not always in the same direction <br>\n",
    "    (e.g., 1 room flat can be extremely large as 258 unit size), it might be useful to create a area to room ratio varible to account for this via feature engineering <br>\n",
    "<br> \n",
    "\n",
    "        - Given Room is a discrete variable, it can also be transformed into categorical variable to account for different needs of customers, i.e., by 1-3 rooms, and 4+ (corresponding to family house, luxury houses). Although this may lead to missing of information, I computed this variable to further explore its relationship with target variable\n",
    "<br> \n",
    "<br>\n",
    "    * 2. Geographic location: Address, Zip, Lon, Lat\n",
    "\n",
    "        - Address, Zip variable can be manipulated, to format these variables into meaningful columns.\n",
    "\n",
    "       - Zip, Lon, Lat can join on map data with geopandas to extract information whether houses are in city centre or not;\n",
    "        or locations of houses by radius distances to centre \n",
    "\n",
    "\n",
    "- *Other variables* may be useful for predicting house prices (however, requires data collection from external sources), some can be included later:\n",
    "    \n",
    "    - [Economical factors](https://cepr.org/voxeu/columns/what-drives-house-prices-lessons-literature): population & income per area/state, supply conditions (e.g., year built)\n",
    "    - Transportation & surrounding facilities such as education/entertainment resources (yelp, google map)\n",
    "    - Risk of houses from flood etc \n",
    "    - further information about houses (e.g., garden etc)\n",
    "    <!-- - Housing price across time (forecasting) -->\n",
    "<!-- * Additionally, one can also perform [spatial regression](https://www.emilyburchfield.org/courses/gsa/spatial_regression_lab) to capture the relationship between predictor and outcome variables at county level  -->"
   ]
  },
  {
   "cell_type": "markdown",
   "metadata": {},
   "source": [
    "                                          Step 2:  Generated Hypothesis\n",
    "\n",
    "\n",
    "- ***H1***: Both house size and geographic location would impact house prices \n",
    "\n",
    "    * ***H1a***: Area positively associates with house prices -> supported \n",
    "\n",
    "    * ***H1b***: There are significant differences in prices between various type of houses (family vs.luxury houses) -> not supported \n",
    "\n",
    "    * ***H1c***: Houses located in city center have a higher price -> supported (negative relationship between distance to centre and log_price)\n"
   ]
  },
  {
   "cell_type": "markdown",
   "metadata": {},
   "source": [
    "                                        Step 3: Modelling consideration  \n",
    "\n",
    "\n",
    "- When performing multiple linear regression, we usually are interested in answering several questions, such as: \n",
    "    \n",
    "    1. Is at least one of the predictors x1, x2, ...xn useful in predicting the responses? (p-value of individual predictor)\n",
    "\n",
    "    2. Do all predictors help to explain y, or is only the subset of predictors useful? (checking multicollinearity facilitates variable choice in the model)\n",
    "    \n",
    "    3. How well the model fit the data? (model itself- Adjusted R2; model fit when comparing various model-AIC, BIC)\n",
    "<!-- 4. Given a set of predictor values, what response value should we predict, and how accurate is our prediction? -->"
   ]
  },
  {
   "cell_type": "code",
   "execution_count": 1,
   "metadata": {},
   "outputs": [],
   "source": [
    "import warnings\n",
    "\n",
    "# Load libraries\n",
    "import matplotlib.pyplot as plt\n",
    "import numpy as np\n",
    "import pandas as pd\n",
    "import seaborn as sns\n",
    "import statsmodels.api as sm\n",
    "import scipy as sp\n",
    "from IPython.display import display\n",
    "from yellowbrick.base import Visualizer\n",
    "import geopy.distance\n",
    "import pyarrow as pa\n",
    "import fastparquet as fp\n",
    "import os\n",
    "\n",
    "# set random seed\n",
    "np.random.seed(42)"
   ]
  },
  {
   "attachments": {},
   "cell_type": "markdown",
   "metadata": {},
   "source": [
    "**1. Start the analysis by processing the training dataset based on the findings obtained in the Exploratory Data Analysis (EDA), e.g., by dealing with missing values and removing duplicates if necessary;**\n",
    "- 💁‍♂️ Try to tailor the [datatype](https://pandas.pydata.org/docs/user_guide/basics.html#basics-dtypes) as much as possible."
   ]
  },
  {
   "cell_type": "code",
   "execution_count": 2,
   "metadata": {},
   "outputs": [],
   "source": [
    "# Load data: \n",
    "df_train = pd.read_csv(\"./data/data_train.csv\")\n"
   ]
  },
  {
   "cell_type": "code",
   "execution_count": 3,
   "metadata": {},
   "outputs": [
    {
     "name": "stdout",
     "output_type": "stream",
     "text": [
      "<class 'pandas.core.frame.DataFrame'>\n",
      "Int64Index: 552 entries, 0 to 553\n",
      "Data columns (total 7 columns):\n",
      " #   Column   Non-Null Count  Dtype  \n",
      "---  ------   --------------  -----  \n",
      " 0   Price    552 non-null    float64\n",
      " 1   Address  552 non-null    object \n",
      " 2   Zip      552 non-null    object \n",
      " 3   Area     552 non-null    int64  \n",
      " 4   Room     552 non-null    int64  \n",
      " 5   Lon      552 non-null    float64\n",
      " 6   Lat      552 non-null    float64\n",
      "dtypes: float64(3), int64(2), object(2)\n",
      "memory usage: 34.5+ KB\n"
     ]
    }
   ],
   "source": [
    "#Remove NA and duplicates: \n",
    "\n",
    "# Given EDA showed only 0.03% missing values derived from target variable, and no duplicates detected\n",
    "# It is safe to directly drop them from training sets \n",
    "df_train_cleaned = df_train.dropna().drop_duplicates() \n",
    "df_train_cleaned.info()\n"
   ]
  },
  {
   "cell_type": "code",
   "execution_count": 4,
   "metadata": {},
   "outputs": [
    {
     "data": {
      "text/html": [
       "<div>\n",
       "<style scoped>\n",
       "    .dataframe tbody tr th:only-of-type {\n",
       "        vertical-align: middle;\n",
       "    }\n",
       "\n",
       "    .dataframe tbody tr th {\n",
       "        vertical-align: top;\n",
       "    }\n",
       "\n",
       "    .dataframe thead th {\n",
       "        text-align: right;\n",
       "    }\n",
       "</style>\n",
       "<table border=\"1\" class=\"dataframe\">\n",
       "  <thead>\n",
       "    <tr style=\"text-align: right;\">\n",
       "      <th></th>\n",
       "      <th>Price</th>\n",
       "      <th>Area</th>\n",
       "      <th>Room</th>\n",
       "      <th>Lon</th>\n",
       "      <th>Lat</th>\n",
       "    </tr>\n",
       "  </thead>\n",
       "  <tbody>\n",
       "    <tr>\n",
       "      <th>count</th>\n",
       "      <td>5.520000e+02</td>\n",
       "      <td>552.000000</td>\n",
       "      <td>552.000000</td>\n",
       "      <td>552.000000</td>\n",
       "      <td>552.000000</td>\n",
       "    </tr>\n",
       "    <tr>\n",
       "      <th>mean</th>\n",
       "      <td>6.112007e+05</td>\n",
       "      <td>94.702899</td>\n",
       "      <td>3.528986</td>\n",
       "      <td>4.886900</td>\n",
       "      <td>52.363616</td>\n",
       "    </tr>\n",
       "    <tr>\n",
       "      <th>std</th>\n",
       "      <td>5.167530e+05</td>\n",
       "      <td>55.149085</td>\n",
       "      <td>1.521495</td>\n",
       "      <td>0.052977</td>\n",
       "      <td>0.023604</td>\n",
       "    </tr>\n",
       "    <tr>\n",
       "      <th>min</th>\n",
       "      <td>1.750000e+05</td>\n",
       "      <td>21.000000</td>\n",
       "      <td>1.000000</td>\n",
       "      <td>4.655161</td>\n",
       "      <td>52.291672</td>\n",
       "    </tr>\n",
       "    <tr>\n",
       "      <th>25%</th>\n",
       "      <td>3.500000e+05</td>\n",
       "      <td>60.000000</td>\n",
       "      <td>3.000000</td>\n",
       "      <td>4.853715</td>\n",
       "      <td>52.352435</td>\n",
       "    </tr>\n",
       "    <tr>\n",
       "      <th>50%</th>\n",
       "      <td>4.620000e+05</td>\n",
       "      <td>82.000000</td>\n",
       "      <td>3.000000</td>\n",
       "      <td>4.887183</td>\n",
       "      <td>52.363825</td>\n",
       "    </tr>\n",
       "    <tr>\n",
       "      <th>75%</th>\n",
       "      <td>6.950000e+05</td>\n",
       "      <td>111.000000</td>\n",
       "      <td>4.000000</td>\n",
       "      <td>4.920677</td>\n",
       "      <td>52.377863</td>\n",
       "    </tr>\n",
       "    <tr>\n",
       "      <th>max</th>\n",
       "      <td>5.950000e+06</td>\n",
       "      <td>497.000000</td>\n",
       "      <td>14.000000</td>\n",
       "      <td>5.029122</td>\n",
       "      <td>52.423805</td>\n",
       "    </tr>\n",
       "  </tbody>\n",
       "</table>\n",
       "</div>"
      ],
      "text/plain": [
       "              Price        Area        Room         Lon         Lat\n",
       "count  5.520000e+02  552.000000  552.000000  552.000000  552.000000\n",
       "mean   6.112007e+05   94.702899    3.528986    4.886900   52.363616\n",
       "std    5.167530e+05   55.149085    1.521495    0.052977    0.023604\n",
       "min    1.750000e+05   21.000000    1.000000    4.655161   52.291672\n",
       "25%    3.500000e+05   60.000000    3.000000    4.853715   52.352435\n",
       "50%    4.620000e+05   82.000000    3.000000    4.887183   52.363825\n",
       "75%    6.950000e+05  111.000000    4.000000    4.920677   52.377863\n",
       "max    5.950000e+06  497.000000   14.000000    5.029122   52.423805"
      ]
     },
     "execution_count": 4,
     "metadata": {},
     "output_type": "execute_result"
    }
   ],
   "source": [
    "df_train_cleaned.describe()"
   ]
  },
  {
   "cell_type": "code",
   "execution_count": 5,
   "metadata": {},
   "outputs": [],
   "source": [
    "# Given exploratory analysis suggested several variables were right skewed,\n",
    "# more importantly some variables are not at same scale,  \n",
    "# suggesting need of log transformation, I first transformed these variables \n",
    "\n",
    "df_train_cleaned[['log_price', 'log_area']] = np.log(df_train_cleaned[['Price', 'Area']])\n",
    "\n",
    "# additionally computed price per unit, as economically it might be more sensible to compare unit price\n",
    "# (however same city may not be necessary)\n",
    "df_train_cleaned['Price_m²']= df_train_cleaned['Price']/df_train_cleaned['Area']\n",
    "df_train_cleaned['log_Price_m²']= np.log(df_train_cleaned['Price_m²'])\n"
   ]
  },
  {
   "cell_type": "code",
   "execution_count": 6,
   "metadata": {},
   "outputs": [],
   "source": [
    "# create new column calculate distance to city centre \n",
    "# Assuming central station as the heart of city, in this way we can compute each houses distance to center point \n",
    "\n",
    "city_centre = (52.3791, 4.9003)  # Assuming Amsterdam Centraal Station as city centre reference point\n",
    "df_train_cleaned['house_coord'] = list(zip(df_train_cleaned.Lat, df_train_cleaned.Lon))\n",
    "\n",
    "df_train_cleaned['km_to_centre'] =  df_train_cleaned['house_coord'].apply(lambda x: geopy.distance.geodesic(x, city_centre).km)"
   ]
  },
  {
   "cell_type": "code",
   "execution_count": 7,
   "metadata": {},
   "outputs": [
    {
     "data": {
      "text/html": [
       "<div>\n",
       "<style scoped>\n",
       "    .dataframe tbody tr th:only-of-type {\n",
       "        vertical-align: middle;\n",
       "    }\n",
       "\n",
       "    .dataframe tbody tr th {\n",
       "        vertical-align: top;\n",
       "    }\n",
       "\n",
       "    .dataframe thead th {\n",
       "        text-align: right;\n",
       "    }\n",
       "</style>\n",
       "<table border=\"1\" class=\"dataframe\">\n",
       "  <thead>\n",
       "    <tr style=\"text-align: right;\">\n",
       "      <th></th>\n",
       "      <th>Price</th>\n",
       "      <th>Address</th>\n",
       "      <th>Zip</th>\n",
       "      <th>Area</th>\n",
       "      <th>Room</th>\n",
       "      <th>Lon</th>\n",
       "      <th>Lat</th>\n",
       "      <th>log_price</th>\n",
       "      <th>log_area</th>\n",
       "      <th>Price_m²</th>\n",
       "      <th>log_Price_m²</th>\n",
       "      <th>km_to_centre</th>\n",
       "    </tr>\n",
       "  </thead>\n",
       "  <tbody>\n",
       "    <tr>\n",
       "      <th>0</th>\n",
       "      <td>635000.0</td>\n",
       "      <td>Niersstraat 35 HS, Amsterdam</td>\n",
       "      <td>1078 VH</td>\n",
       "      <td>81</td>\n",
       "      <td>3</td>\n",
       "      <td>4.894509</td>\n",
       "      <td>52.343016</td>\n",
       "      <td>13.361380</td>\n",
       "      <td>4.394449</td>\n",
       "      <td>7839.506173</td>\n",
       "      <td>8.966931</td>\n",
       "      <td>4.034552</td>\n",
       "    </tr>\n",
       "    <tr>\n",
       "      <th>1</th>\n",
       "      <td>400000.0</td>\n",
       "      <td>Jan van Riebeekstraat 3 1, Amsterdam</td>\n",
       "      <td>1057 ZW</td>\n",
       "      <td>61</td>\n",
       "      <td>2</td>\n",
       "      <td>4.858697</td>\n",
       "      <td>52.370661</td>\n",
       "      <td>12.899220</td>\n",
       "      <td>4.110874</td>\n",
       "      <td>6557.377049</td>\n",
       "      <td>8.788346</td>\n",
       "      <td>2.984845</td>\n",
       "    </tr>\n",
       "    <tr>\n",
       "      <th>2</th>\n",
       "      <td>695000.0</td>\n",
       "      <td>Da Costakade 171 III, Amsterdam</td>\n",
       "      <td>1053 WX</td>\n",
       "      <td>88</td>\n",
       "      <td>3</td>\n",
       "      <td>4.874092</td>\n",
       "      <td>52.367502</td>\n",
       "      <td>13.451667</td>\n",
       "      <td>4.477337</td>\n",
       "      <td>7897.727273</td>\n",
       "      <td>8.974330</td>\n",
       "      <td>2.202596</td>\n",
       "    </tr>\n",
       "  </tbody>\n",
       "</table>\n",
       "</div>"
      ],
      "text/plain": [
       "      Price                               Address      Zip  Area  Room  \\\n",
       "0  635000.0          Niersstraat 35 HS, Amsterdam  1078 VH    81     3   \n",
       "1  400000.0  Jan van Riebeekstraat 3 1, Amsterdam  1057 ZW    61     2   \n",
       "2  695000.0       Da Costakade 171 III, Amsterdam  1053 WX    88     3   \n",
       "\n",
       "        Lon        Lat  log_price  log_area     Price_m²  log_Price_m²  \\\n",
       "0  4.894509  52.343016  13.361380  4.394449  7839.506173      8.966931   \n",
       "1  4.858697  52.370661  12.899220  4.110874  6557.377049      8.788346   \n",
       "2  4.874092  52.367502  13.451667  4.477337  7897.727273      8.974330   \n",
       "\n",
       "   km_to_centre  \n",
       "0      4.034552  \n",
       "1      2.984845  \n",
       "2      2.202596  "
      ]
     },
     "execution_count": 7,
     "metadata": {},
     "output_type": "execute_result"
    }
   ],
   "source": [
    "df_train_cleaned.drop(columns=['house_coord'], axis=1, inplace=True)\n",
    "df_train_cleaned.head(3)"
   ]
  },
  {
   "cell_type": "code",
   "execution_count": 8,
   "metadata": {},
   "outputs": [
    {
     "name": "stderr",
     "output_type": "stream",
     "text": [
      "/opt/anaconda3/envs/Anacoda/lib/python3.10/site-packages/IPython/core/interactiveshell.py:3472: FutureWarning: The `op` parameter is deprecated and will be removed in a future release. Please use the `predicate` parameter instead.\n",
      "  if (await self.run_code(code, result,  async_=asy)):\n"
     ]
    },
    {
     "data": {
      "text/html": [
       "<div>\n",
       "<style scoped>\n",
       "    .dataframe tbody tr th:only-of-type {\n",
       "        vertical-align: middle;\n",
       "    }\n",
       "\n",
       "    .dataframe tbody tr th {\n",
       "        vertical-align: top;\n",
       "    }\n",
       "\n",
       "    .dataframe thead th {\n",
       "        text-align: right;\n",
       "    }\n",
       "</style>\n",
       "<table border=\"1\" class=\"dataframe\">\n",
       "  <thead>\n",
       "    <tr style=\"text-align: right;\">\n",
       "      <th></th>\n",
       "      <th>Price</th>\n",
       "      <th>Address</th>\n",
       "      <th>Zip</th>\n",
       "      <th>Area</th>\n",
       "      <th>Room</th>\n",
       "      <th>Lon</th>\n",
       "      <th>Lat</th>\n",
       "      <th>log_price</th>\n",
       "      <th>log_area</th>\n",
       "      <th>Price_m²</th>\n",
       "      <th>log_Price_m²</th>\n",
       "      <th>km_to_centre</th>\n",
       "      <th>borough_id</th>\n",
       "      <th>Borough</th>\n",
       "    </tr>\n",
       "  </thead>\n",
       "  <tbody>\n",
       "    <tr>\n",
       "      <th>0</th>\n",
       "      <td>635000.0</td>\n",
       "      <td>Niersstraat 35 HS, Amsterdam</td>\n",
       "      <td>1078 VH</td>\n",
       "      <td>81</td>\n",
       "      <td>3</td>\n",
       "      <td>4.894509</td>\n",
       "      <td>52.343016</td>\n",
       "      <td>13.361380</td>\n",
       "      <td>4.394449</td>\n",
       "      <td>7839.506173</td>\n",
       "      <td>8.966931</td>\n",
       "      <td>4.034552</td>\n",
       "      <td>8</td>\n",
       "      <td>Zuid</td>\n",
       "    </tr>\n",
       "    <tr>\n",
       "      <th>3</th>\n",
       "      <td>1050000.0</td>\n",
       "      <td>Koninginneweg 158 4, Amsterdam</td>\n",
       "      <td>1075 EE</td>\n",
       "      <td>119</td>\n",
       "      <td>5</td>\n",
       "      <td>4.860818</td>\n",
       "      <td>52.352776</td>\n",
       "      <td>13.864301</td>\n",
       "      <td>4.779123</td>\n",
       "      <td>8823.529412</td>\n",
       "      <td>9.085177</td>\n",
       "      <td>3.976542</td>\n",
       "      <td>8</td>\n",
       "      <td>Zuid</td>\n",
       "    </tr>\n",
       "    <tr>\n",
       "      <th>21</th>\n",
       "      <td>345000.0</td>\n",
       "      <td>IJselstraat 40 2, Amsterdam</td>\n",
       "      <td>1078 CJ</td>\n",
       "      <td>47</td>\n",
       "      <td>2</td>\n",
       "      <td>4.899374</td>\n",
       "      <td>52.347656</td>\n",
       "      <td>12.751300</td>\n",
       "      <td>3.850148</td>\n",
       "      <td>7340.425532</td>\n",
       "      <td>8.901152</td>\n",
       "      <td>3.499476</td>\n",
       "      <td>8</td>\n",
       "      <td>Zuid</td>\n",
       "    </tr>\n",
       "  </tbody>\n",
       "</table>\n",
       "</div>"
      ],
      "text/plain": [
       "        Price                         Address      Zip  Area  Room       Lon  \\\n",
       "0    635000.0    Niersstraat 35 HS, Amsterdam  1078 VH    81     3  4.894509   \n",
       "3   1050000.0  Koninginneweg 158 4, Amsterdam  1075 EE   119     5  4.860818   \n",
       "21   345000.0     IJselstraat 40 2, Amsterdam  1078 CJ    47     2  4.899374   \n",
       "\n",
       "          Lat  log_price  log_area     Price_m²  log_Price_m²  km_to_centre  \\\n",
       "0   52.343016  13.361380  4.394449  7839.506173      8.966931      4.034552   \n",
       "3   52.352776  13.864301  4.779123  8823.529412      9.085177      3.976542   \n",
       "21  52.347656  12.751300  3.850148  7340.425532      8.901152      3.499476   \n",
       "\n",
       "    borough_id Borough  \n",
       "0            8    Zuid  \n",
       "3            8    Zuid  \n",
       "21           8    Zuid  "
      ]
     },
     "execution_count": 8,
     "metadata": {},
     "output_type": "execute_result"
    }
   ],
   "source": [
    "# extract data from https://maps.amsterdam.nl/, and map train set to 9 boarder boroughs\n",
    "\n",
    "from shapely.geometry import Point\n",
    "import requests\n",
    "import geopandas as gpd\n",
    "\n",
    "url = \"https://maps.amsterdam.nl/open_geodata/geojson_lnglat.php?KAARTLAAG=INDELING_STADSDEEL&THEMA=gebiedsindeling\"\n",
    "gdf_districts = gpd.read_file(requests.get(url).text)\n",
    "\n",
    "\n",
    "geometry = [Point(xy) for xy in zip(df_train_cleaned.Lon, df_train_cleaned.Lat)]\n",
    "df_train_cleaned_geo = gpd.GeoDataFrame(df_train_cleaned, geometry=geometry,crs=\"EPSG:4326\")\n",
    "\n",
    "df_train_cleaned_geo = gpd.sjoin(df_train_cleaned_geo,gdf_districts,  how='inner',op= 'intersects')\n",
    "\n",
    "df_train_cleaned_geo.rename(columns={'Stadsdeel':'Borough', \"index_right\":\"borough_id\"}, inplace= True)\n",
    "\n",
    "df_train_cleaned_geo.drop(columns=['geometry','Stadsdeelcode','Oppervlakte_m2'], inplace=True)\n",
    "df_train_cleaned_geo.head(3)"
   ]
  },
  {
   "cell_type": "code",
   "execution_count": 9,
   "metadata": {},
   "outputs": [
    {
     "data": {
      "text/html": [
       "<div>\n",
       "<style scoped>\n",
       "    .dataframe tbody tr th:only-of-type {\n",
       "        vertical-align: middle;\n",
       "    }\n",
       "\n",
       "    .dataframe tbody tr th {\n",
       "        vertical-align: top;\n",
       "    }\n",
       "\n",
       "    .dataframe thead th {\n",
       "        text-align: right;\n",
       "    }\n",
       "</style>\n",
       "<table border=\"1\" class=\"dataframe\">\n",
       "  <thead>\n",
       "    <tr style=\"text-align: right;\">\n",
       "      <th></th>\n",
       "      <th></th>\n",
       "      <th>0</th>\n",
       "    </tr>\n",
       "    <tr>\n",
       "      <th>borough_id</th>\n",
       "      <th>Borough</th>\n",
       "      <th></th>\n",
       "    </tr>\n",
       "  </thead>\n",
       "  <tbody>\n",
       "    <tr>\n",
       "      <th>0</th>\n",
       "      <th>Centrum</th>\n",
       "      <td>85</td>\n",
       "    </tr>\n",
       "    <tr>\n",
       "      <th>1</th>\n",
       "      <th>Oost</th>\n",
       "      <td>73</td>\n",
       "    </tr>\n",
       "    <tr>\n",
       "      <th>3</th>\n",
       "      <th>Nieuw-West</th>\n",
       "      <td>103</td>\n",
       "    </tr>\n",
       "    <tr>\n",
       "      <th>4</th>\n",
       "      <th>Zuidoost</th>\n",
       "      <td>44</td>\n",
       "    </tr>\n",
       "    <tr>\n",
       "      <th>5</th>\n",
       "      <th>Noord</th>\n",
       "      <td>65</td>\n",
       "    </tr>\n",
       "    <tr>\n",
       "      <th>6</th>\n",
       "      <th>West</th>\n",
       "      <td>103</td>\n",
       "    </tr>\n",
       "    <tr>\n",
       "      <th>7</th>\n",
       "      <th>Weesp</th>\n",
       "      <td>1</td>\n",
       "    </tr>\n",
       "    <tr>\n",
       "      <th>8</th>\n",
       "      <th>Zuid</th>\n",
       "      <td>77</td>\n",
       "    </tr>\n",
       "  </tbody>\n",
       "</table>\n",
       "</div>"
      ],
      "text/plain": [
       "                         0\n",
       "borough_id Borough        \n",
       "0          Centrum      85\n",
       "1          Oost         73\n",
       "3          Nieuw-West  103\n",
       "4          Zuidoost     44\n",
       "5          Noord        65\n",
       "6          West        103\n",
       "7          Weesp         1\n",
       "8          Zuid         77"
      ]
     },
     "execution_count": 9,
     "metadata": {},
     "output_type": "execute_result"
    }
   ],
   "source": [
    "# Display the distribution of train set by borough\n",
    "house_count_by_borough = pd.DataFrame(df_train_cleaned_geo[['borough_id','Borough']].value_counts())\n",
    "house_count_by_borough.sort_values(by='borough_id')"
   ]
  },
  {
   "cell_type": "code",
   "execution_count": 10,
   "metadata": {},
   "outputs": [
    {
     "data": {
      "text/plain": [
       "family_1-3    326\n",
       "luxury_4+     225\n",
       "Name: house_type, dtype: int64"
      ]
     },
     "execution_count": 10,
     "metadata": {},
     "output_type": "execute_result"
    }
   ],
   "source": [
    "# recreate house type categorical variable\n",
    "df_train_cleaned_geo['house_type']=pd.qcut(df_train_cleaned_geo['Room'], q=2,labels=['family_1-3', 'luxury_4+'],precision=0)\n",
    "df_train_cleaned_geo['house_type'].value_counts()"
   ]
  },
  {
   "cell_type": "code",
   "execution_count": 11,
   "metadata": {},
   "outputs": [
    {
     "data": {
      "text/plain": [
       "small     184\n",
       "large     184\n",
       "medium    183\n",
       "Name: house_size_cat, dtype: int64"
      ]
     },
     "execution_count": 11,
     "metadata": {},
     "output_type": "execute_result"
    }
   ],
   "source": [
    "# recreate house size categorical variable--> small: (20.0, 68.0], medium: (68.0, 100.0] , large: (100.0, 497.0]\n",
    "df_train_cleaned_geo['house_size_cat']= pd.qcut(df_train_cleaned_geo['Area'], q=3,labels=['small', 'medium', 'large'], precision=0)\n",
    "df_train_cleaned_geo['house_size_cat'].value_counts()"
   ]
  },
  {
   "cell_type": "code",
   "execution_count": 12,
   "metadata": {},
   "outputs": [
    {
     "data": {
      "text/html": [
       "<div>\n",
       "<style scoped>\n",
       "    .dataframe tbody tr th:only-of-type {\n",
       "        vertical-align: middle;\n",
       "    }\n",
       "\n",
       "    .dataframe tbody tr th {\n",
       "        vertical-align: top;\n",
       "    }\n",
       "\n",
       "    .dataframe thead th {\n",
       "        text-align: right;\n",
       "    }\n",
       "</style>\n",
       "<table border=\"1\" class=\"dataframe\">\n",
       "  <thead>\n",
       "    <tr style=\"text-align: right;\">\n",
       "      <th></th>\n",
       "      <th>Price</th>\n",
       "      <th>Address</th>\n",
       "      <th>Zip</th>\n",
       "      <th>Area</th>\n",
       "      <th>Room</th>\n",
       "      <th>Lon</th>\n",
       "      <th>Lat</th>\n",
       "      <th>log_price</th>\n",
       "      <th>log_area</th>\n",
       "      <th>Price_m²</th>\n",
       "      <th>log_Price_m²</th>\n",
       "      <th>km_to_centre</th>\n",
       "      <th>borough_id</th>\n",
       "      <th>Borough</th>\n",
       "      <th>house_type</th>\n",
       "      <th>house_size_cat</th>\n",
       "    </tr>\n",
       "  </thead>\n",
       "  <tbody>\n",
       "    <tr>\n",
       "      <th>0</th>\n",
       "      <td>635000.0</td>\n",
       "      <td>Niersstraat 35 HS, Amsterdam</td>\n",
       "      <td>1078 VH</td>\n",
       "      <td>81</td>\n",
       "      <td>3</td>\n",
       "      <td>4.894509</td>\n",
       "      <td>52.343016</td>\n",
       "      <td>13.361380</td>\n",
       "      <td>4.394449</td>\n",
       "      <td>7839.506173</td>\n",
       "      <td>8.966931</td>\n",
       "      <td>4.034552</td>\n",
       "      <td>8</td>\n",
       "      <td>Zuid</td>\n",
       "      <td>family_1-3</td>\n",
       "      <td>medium</td>\n",
       "    </tr>\n",
       "    <tr>\n",
       "      <th>3</th>\n",
       "      <td>1050000.0</td>\n",
       "      <td>Koninginneweg 158 4, Amsterdam</td>\n",
       "      <td>1075 EE</td>\n",
       "      <td>119</td>\n",
       "      <td>5</td>\n",
       "      <td>4.860818</td>\n",
       "      <td>52.352776</td>\n",
       "      <td>13.864301</td>\n",
       "      <td>4.779123</td>\n",
       "      <td>8823.529412</td>\n",
       "      <td>9.085177</td>\n",
       "      <td>3.976542</td>\n",
       "      <td>8</td>\n",
       "      <td>Zuid</td>\n",
       "      <td>luxury_4+</td>\n",
       "      <td>large</td>\n",
       "    </tr>\n",
       "    <tr>\n",
       "      <th>21</th>\n",
       "      <td>345000.0</td>\n",
       "      <td>IJselstraat 40 2, Amsterdam</td>\n",
       "      <td>1078 CJ</td>\n",
       "      <td>47</td>\n",
       "      <td>2</td>\n",
       "      <td>4.899374</td>\n",
       "      <td>52.347656</td>\n",
       "      <td>12.751300</td>\n",
       "      <td>3.850148</td>\n",
       "      <td>7340.425532</td>\n",
       "      <td>8.901152</td>\n",
       "      <td>3.499476</td>\n",
       "      <td>8</td>\n",
       "      <td>Zuid</td>\n",
       "      <td>family_1-3</td>\n",
       "      <td>small</td>\n",
       "    </tr>\n",
       "  </tbody>\n",
       "</table>\n",
       "</div>"
      ],
      "text/plain": [
       "        Price                         Address      Zip  Area  Room       Lon  \\\n",
       "0    635000.0    Niersstraat 35 HS, Amsterdam  1078 VH    81     3  4.894509   \n",
       "3   1050000.0  Koninginneweg 158 4, Amsterdam  1075 EE   119     5  4.860818   \n",
       "21   345000.0     IJselstraat 40 2, Amsterdam  1078 CJ    47     2  4.899374   \n",
       "\n",
       "          Lat  log_price  log_area     Price_m²  log_Price_m²  km_to_centre  \\\n",
       "0   52.343016  13.361380  4.394449  7839.506173      8.966931      4.034552   \n",
       "3   52.352776  13.864301  4.779123  8823.529412      9.085177      3.976542   \n",
       "21  52.347656  12.751300  3.850148  7340.425532      8.901152      3.499476   \n",
       "\n",
       "    borough_id Borough  house_type house_size_cat  \n",
       "0            8    Zuid  family_1-3         medium  \n",
       "3            8    Zuid   luxury_4+          large  \n",
       "21           8    Zuid  family_1-3          small  "
      ]
     },
     "execution_count": 12,
     "metadata": {},
     "output_type": "execute_result"
    }
   ],
   "source": [
    "df_train_cleaned_geo.head(3)"
   ]
  },
  {
   "cell_type": "code",
   "execution_count": 13,
   "metadata": {},
   "outputs": [
    {
     "data": {
      "image/png": "[encoded data removed]",
      "text/plain": [
       "<Figure size 1200x300 with 1 Axes>"
      ]
     },
     "metadata": {},
     "output_type": "display_data"
    }
   ],
   "source": [
    "%matplotlib inline\n",
    "import matplotlib.pyplot as plt\n",
    "df_train_cleaned_geo.Borough.hist( bins = 30,figsize=(12,3))\n",
    "plt.show()"
   ]
  },
  {
   "cell_type": "markdown",
   "metadata": {},
   "source": []
  },
  {
   "attachments": {},
   "cell_type": "markdown",
   "metadata": {},
   "source": [
    "**2. Study the relationship between variables using conventional statistical tools, namely:** \n",
    "\n",
    "- **a.** $\\chi^{2}$ ([chi-square](https://www.investopedia.com/terms/c/chi-square-statistic.asp)) between two **Nominal** variables;\n",
    "- **b.** $\\chi^{2}$ or [Spearman’s rank](https://statistics.laerd.com/statistical-guides/spearmans-rank-order-correlation-statistical-guide.php) correlation analysis between two **Ordinal** variables;\n",
    "- **c.** [Correlation](https://www.statisticshowto.com/probability-and-statistics/correlation-analysis/) analysis for both **Discrete** and **Continuous** variables;\n",
    "- **d.** An appropriate version of the [t-test](https://www.investopedia.com/terms/t/t-test.asp) or [analysis of variance](https://www.investopedia.com/terms/a/anova.asp) (ANOVA) to assess the relationship between **Numerical** and **Categorical** variables.   \n",
    "\n",
    "💁‍♀️ Look closely at the relationship between the dependent variable, i.e., the target and the independent variables, i.e., the features, as they will provide an insight into candidate predictors. \n",
    "\n",
    "💁‍♂️ Whenever possible, visualize the variables to assess whether the results coming from the statistical test are driven by outliers or imbalanced groups.\n",
    "\n",
    "👷 Transform and/or construct new features and apply appropriate statistical tests.\n",
    "\n"
   ]
  },
  {
   "attachments": {},
   "cell_type": "markdown",
   "metadata": {},
   "source": [
    "**a.** Analysis of **Nominal** features"
   ]
  },
  {
   "cell_type": "code",
   "execution_count": 14,
   "metadata": {},
   "outputs": [
    {
     "data": {
      "text/plain": [
       "(174999.0, 350000.0]     158\n",
       "(350000.0, 459000.0]     118\n",
       "(459000.0, 690000.0]     137\n",
       "(690000.0, 5950000.0]    138\n",
       "Name: Price_range, dtype: int64"
      ]
     },
     "execution_count": 14,
     "metadata": {},
     "output_type": "execute_result"
    }
   ],
   "source": [
    "# Given the above has already transformed the original data frame into various categorical features, \n",
    "# I thus categorise the response variables into equal-sized bins using the qcut() function.\n",
    "df_train_cleaned_geo['Price_range'] = pd.qcut(df_train_cleaned_geo['Price'], q=4, precision=0)\n",
    "df_train_cleaned_geo['Price_range'].value_counts().sort_index()"
   ]
  },
  {
   "cell_type": "code",
   "execution_count": 15,
   "metadata": {},
   "outputs": [],
   "source": [
    "# display(df_train_cleaned_geo.groupby(\"Price_range\")[[\"log_area\", \"Room\"]].mean())\n",
    "# display(df_train_cleaned_geo.groupby(\"Price_range\")[[\"log_area\", \"Room\"]].std())"
   ]
  },
  {
   "cell_type": "code",
   "execution_count": 16,
   "metadata": {},
   "outputs": [],
   "source": [
    "# generating all contigency tables in excel tabs saving each output \n",
    "# By focusing on exploring relationships between similar IVs; as well as each categorical IV with the DV\n",
    "\n",
    "import openpyxl\n",
    "\n",
    "# Define each contigency table of interest\n",
    "contigency_table1 = pd.crosstab(df_train_cleaned_geo['house_type'],df_train_cleaned_geo['house_size_cat']) \n",
    "contigency_table2 = pd.crosstab(df_train_cleaned_geo['house_type'],df_train_cleaned_geo['Price_range']) \n",
    "contigency_table3 = pd.crosstab(df_train_cleaned_geo['house_size_cat'],df_train_cleaned_geo['Price_range']) \n",
    "contigency_table4 = pd.crosstab(df_train_cleaned_geo['Borough'],df_train_cleaned_geo['Price_range']) \n",
    "\n",
    "#create a excel writer object that stores each contigency table in a different tab within same file\n",
    "with pd.ExcelWriter(\"data/contigency_tables_trainset.xlsx\") as writer:\n",
    "    # use to_excel function and specify the sheet_name and index\n",
    "    # to store the dataframe in specified sheet\n",
    "    contigency_table1.to_excel(writer, sheet_name=\"Sheet1\", index=True)\n",
    "    contigency_table2.to_excel(writer, sheet_name=\"Sheet2\", index=True)\n",
    "    contigency_table3.to_excel(writer, sheet_name=\"Sheet3\", index=True)\n",
    "    contigency_table4.to_excel(writer, sheet_name='Sheet4', index=True)\n"
   ]
  },
  {
   "cell_type": "code",
   "execution_count": 17,
   "metadata": {},
   "outputs": [
    {
     "data": {
      "text/html": [
       "<div>\n",
       "<style scoped>\n",
       "    .dataframe tbody tr th:only-of-type {\n",
       "        vertical-align: middle;\n",
       "    }\n",
       "\n",
       "    .dataframe tbody tr th {\n",
       "        vertical-align: top;\n",
       "    }\n",
       "\n",
       "    .dataframe thead th {\n",
       "        text-align: right;\n",
       "    }\n",
       "</style>\n",
       "<table border=\"1\" class=\"dataframe\">\n",
       "  <thead>\n",
       "    <tr style=\"text-align: right;\">\n",
       "      <th></th>\n",
       "      <th>small</th>\n",
       "      <th>medium</th>\n",
       "      <th>large</th>\n",
       "    </tr>\n",
       "    <tr>\n",
       "      <th>house_type</th>\n",
       "      <th></th>\n",
       "      <th></th>\n",
       "      <th></th>\n",
       "    </tr>\n",
       "  </thead>\n",
       "  <tbody>\n",
       "    <tr>\n",
       "      <th>family_1-3</th>\n",
       "      <td>175</td>\n",
       "      <td>109</td>\n",
       "      <td>42</td>\n",
       "    </tr>\n",
       "    <tr>\n",
       "      <th>luxury_4+</th>\n",
       "      <td>9</td>\n",
       "      <td>74</td>\n",
       "      <td>142</td>\n",
       "    </tr>\n",
       "  </tbody>\n",
       "</table>\n",
       "</div>"
      ],
      "text/plain": [
       "            small  medium  large\n",
       "house_type                      \n",
       "family_1-3    175     109     42\n",
       "luxury_4+       9      74    142"
      ]
     },
     "metadata": {},
     "output_type": "display_data"
    },
    {
     "data": {
      "text/html": [
       "<div>\n",
       "<style scoped>\n",
       "    .dataframe tbody tr th:only-of-type {\n",
       "        vertical-align: middle;\n",
       "    }\n",
       "\n",
       "    .dataframe tbody tr th {\n",
       "        vertical-align: top;\n",
       "    }\n",
       "\n",
       "    .dataframe thead th {\n",
       "        text-align: right;\n",
       "    }\n",
       "</style>\n",
       "<table border=\"1\" class=\"dataframe\">\n",
       "  <thead>\n",
       "    <tr style=\"text-align: right;\">\n",
       "      <th></th>\n",
       "      <th>(174999.0, 350000.0]</th>\n",
       "      <th>(350000.0, 459000.0]</th>\n",
       "      <th>(459000.0, 690000.0]</th>\n",
       "      <th>(690000.0, 5950000.0]</th>\n",
       "    </tr>\n",
       "    <tr>\n",
       "      <th>house_type</th>\n",
       "      <th></th>\n",
       "      <th></th>\n",
       "      <th></th>\n",
       "      <th></th>\n",
       "    </tr>\n",
       "  </thead>\n",
       "  <tbody>\n",
       "    <tr>\n",
       "      <th>family_1-3</th>\n",
       "      <td>120</td>\n",
       "      <td>92</td>\n",
       "      <td>74</td>\n",
       "      <td>40</td>\n",
       "    </tr>\n",
       "    <tr>\n",
       "      <th>luxury_4+</th>\n",
       "      <td>38</td>\n",
       "      <td>26</td>\n",
       "      <td>63</td>\n",
       "      <td>98</td>\n",
       "    </tr>\n",
       "  </tbody>\n",
       "</table>\n",
       "</div>"
      ],
      "text/plain": [
       "            (174999.0, 350000.0]  (350000.0, 459000.0]  (459000.0, 690000.0]  \\\n",
       "house_type                                                                     \n",
       "family_1-3                   120                    92                    74   \n",
       "luxury_4+                     38                    26                    63   \n",
       "\n",
       "            (690000.0, 5950000.0]  \n",
       "house_type                         \n",
       "family_1-3                     40  \n",
       "luxury_4+                      98  "
      ]
     },
     "metadata": {},
     "output_type": "display_data"
    },
    {
     "data": {
      "text/html": [
       "<div>\n",
       "<style scoped>\n",
       "    .dataframe tbody tr th:only-of-type {\n",
       "        vertical-align: middle;\n",
       "    }\n",
       "\n",
       "    .dataframe tbody tr th {\n",
       "        vertical-align: top;\n",
       "    }\n",
       "\n",
       "    .dataframe thead th {\n",
       "        text-align: right;\n",
       "    }\n",
       "</style>\n",
       "<table border=\"1\" class=\"dataframe\">\n",
       "  <thead>\n",
       "    <tr style=\"text-align: right;\">\n",
       "      <th></th>\n",
       "      <th>(174999.0, 350000.0]</th>\n",
       "      <th>(350000.0, 459000.0]</th>\n",
       "      <th>(459000.0, 690000.0]</th>\n",
       "      <th>(690000.0, 5950000.0]</th>\n",
       "    </tr>\n",
       "    <tr>\n",
       "      <th>house_size_cat</th>\n",
       "      <th></th>\n",
       "      <th></th>\n",
       "      <th></th>\n",
       "      <th></th>\n",
       "    </tr>\n",
       "  </thead>\n",
       "  <tbody>\n",
       "    <tr>\n",
       "      <th>small</th>\n",
       "      <td>87</td>\n",
       "      <td>73</td>\n",
       "      <td>23</td>\n",
       "      <td>1</td>\n",
       "    </tr>\n",
       "    <tr>\n",
       "      <th>medium</th>\n",
       "      <td>67</td>\n",
       "      <td>31</td>\n",
       "      <td>67</td>\n",
       "      <td>18</td>\n",
       "    </tr>\n",
       "    <tr>\n",
       "      <th>large</th>\n",
       "      <td>4</td>\n",
       "      <td>14</td>\n",
       "      <td>47</td>\n",
       "      <td>119</td>\n",
       "    </tr>\n",
       "  </tbody>\n",
       "</table>\n",
       "</div>"
      ],
      "text/plain": [
       "                (174999.0, 350000.0]  (350000.0, 459000.0]  \\\n",
       "house_size_cat                                               \n",
       "small                             87                    73   \n",
       "medium                            67                    31   \n",
       "large                              4                    14   \n",
       "\n",
       "                (459000.0, 690000.0]  (690000.0, 5950000.0]  \n",
       "house_size_cat                                               \n",
       "small                             23                      1  \n",
       "medium                            67                     18  \n",
       "large                             47                    119  "
      ]
     },
     "metadata": {},
     "output_type": "display_data"
    },
    {
     "data": {
      "text/html": [
       "<div>\n",
       "<style scoped>\n",
       "    .dataframe tbody tr th:only-of-type {\n",
       "        vertical-align: middle;\n",
       "    }\n",
       "\n",
       "    .dataframe tbody tr th {\n",
       "        vertical-align: top;\n",
       "    }\n",
       "\n",
       "    .dataframe thead th {\n",
       "        text-align: right;\n",
       "    }\n",
       "</style>\n",
       "<table border=\"1\" class=\"dataframe\">\n",
       "  <thead>\n",
       "    <tr style=\"text-align: right;\">\n",
       "      <th></th>\n",
       "      <th>(174999.0, 350000.0]</th>\n",
       "      <th>(350000.0, 459000.0]</th>\n",
       "      <th>(459000.0, 690000.0]</th>\n",
       "      <th>(690000.0, 5950000.0]</th>\n",
       "    </tr>\n",
       "    <tr>\n",
       "      <th>Borough</th>\n",
       "      <th></th>\n",
       "      <th></th>\n",
       "      <th></th>\n",
       "      <th></th>\n",
       "    </tr>\n",
       "  </thead>\n",
       "  <tbody>\n",
       "    <tr>\n",
       "      <th>Centrum</th>\n",
       "      <td>7</td>\n",
       "      <td>11</td>\n",
       "      <td>20</td>\n",
       "      <td>47</td>\n",
       "    </tr>\n",
       "    <tr>\n",
       "      <th>Nieuw-West</th>\n",
       "      <td>48</td>\n",
       "      <td>24</td>\n",
       "      <td>23</td>\n",
       "      <td>8</td>\n",
       "    </tr>\n",
       "    <tr>\n",
       "      <th>Noord</th>\n",
       "      <td>26</td>\n",
       "      <td>6</td>\n",
       "      <td>15</td>\n",
       "      <td>18</td>\n",
       "    </tr>\n",
       "    <tr>\n",
       "      <th>Oost</th>\n",
       "      <td>10</td>\n",
       "      <td>23</td>\n",
       "      <td>25</td>\n",
       "      <td>15</td>\n",
       "    </tr>\n",
       "    <tr>\n",
       "      <th>Weesp</th>\n",
       "      <td>0</td>\n",
       "      <td>0</td>\n",
       "      <td>1</td>\n",
       "      <td>0</td>\n",
       "    </tr>\n",
       "    <tr>\n",
       "      <th>West</th>\n",
       "      <td>26</td>\n",
       "      <td>29</td>\n",
       "      <td>31</td>\n",
       "      <td>17</td>\n",
       "    </tr>\n",
       "    <tr>\n",
       "      <th>Zuid</th>\n",
       "      <td>5</td>\n",
       "      <td>19</td>\n",
       "      <td>20</td>\n",
       "      <td>33</td>\n",
       "    </tr>\n",
       "    <tr>\n",
       "      <th>Zuidoost</th>\n",
       "      <td>36</td>\n",
       "      <td>6</td>\n",
       "      <td>2</td>\n",
       "      <td>0</td>\n",
       "    </tr>\n",
       "  </tbody>\n",
       "</table>\n",
       "</div>"
      ],
      "text/plain": [
       "            (174999.0, 350000.0]  (350000.0, 459000.0]  (459000.0, 690000.0]  \\\n",
       "Borough                                                                        \n",
       "Centrum                        7                    11                    20   \n",
       "Nieuw-West                    48                    24                    23   \n",
       "Noord                         26                     6                    15   \n",
       "Oost                          10                    23                    25   \n",
       "Weesp                          0                     0                     1   \n",
       "West                          26                    29                    31   \n",
       "Zuid                           5                    19                    20   \n",
       "Zuidoost                      36                     6                     2   \n",
       "\n",
       "            (690000.0, 5950000.0]  \n",
       "Borough                            \n",
       "Centrum                        47  \n",
       "Nieuw-West                      8  \n",
       "Noord                          18  \n",
       "Oost                           15  \n",
       "Weesp                           0  \n",
       "West                           17  \n",
       "Zuid                           33  \n",
       "Zuidoost                        0  "
      ]
     },
     "metadata": {},
     "output_type": "display_data"
    }
   ],
   "source": [
    "# Read the excel file just created which contains all the contigency tables\n",
    "xls = pd.ExcelFile('data/contigency_tables_trainset.xlsx')\n",
    "\n",
    "#Check list of all sheets in the file\n",
    "xls.sheet_names\n",
    "\n",
    "# to read all sheets and store the output into a dictionary, so that later can manipulate these contingeny tables\n",
    "# from one uniformed data structure \n",
    "sheet_to_df_map = {}\n",
    "for sheet_name in xls.sheet_names:\n",
    "    sheet_to_df_map[sheet_name] = xls.parse(sheet_name, index_col=0)\n",
    "\n",
    "# inspect mapped dictionary's data type and display each contigency table from dictionary \n",
    "display(list(sheet_to_df_map.values())[0])\n",
    "display(list(sheet_to_df_map.values())[1])\n",
    "display(list(sheet_to_df_map.values())[2])\n",
    "display(list(sheet_to_df_map.values())[3])"
   ]
  },
  {
   "cell_type": "code",
   "execution_count": 18,
   "metadata": {},
   "outputs": [
    {
     "data": {
      "text/html": [
       "<div>\n",
       "<style scoped>\n",
       "    .dataframe tbody tr th:only-of-type {\n",
       "        vertical-align: middle;\n",
       "    }\n",
       "\n",
       "    .dataframe tbody tr th {\n",
       "        vertical-align: top;\n",
       "    }\n",
       "\n",
       "    .dataframe thead th {\n",
       "        text-align: right;\n",
       "    }\n",
       "</style>\n",
       "<table border=\"1\" class=\"dataframe\">\n",
       "  <thead>\n",
       "    <tr style=\"text-align: right;\">\n",
       "      <th></th>\n",
       "      <th>Statistic</th>\n",
       "      <th>p-value</th>\n",
       "      <th>DoF</th>\n",
       "      <th>Result</th>\n",
       "    </tr>\n",
       "    <tr>\n",
       "      <th>Contigency_Table</th>\n",
       "      <th></th>\n",
       "      <th></th>\n",
       "      <th></th>\n",
       "      <th></th>\n",
       "    </tr>\n",
       "  </thead>\n",
       "  <tbody>\n",
       "    <tr>\n",
       "      <th>house_type &amp; house_size_cat</th>\n",
       "      <td>198.97</td>\n",
       "      <td>0.0</td>\n",
       "      <td>2</td>\n",
       "      <td>Dependent (reject H0)</td>\n",
       "    </tr>\n",
       "    <tr>\n",
       "      <th>Price_range &amp; house_type</th>\n",
       "      <td>89.22</td>\n",
       "      <td>0.0</td>\n",
       "      <td>3</td>\n",
       "      <td>Dependent (reject H0)</td>\n",
       "    </tr>\n",
       "    <tr>\n",
       "      <th>Price_range &amp; house_size_cat</th>\n",
       "      <td>315.92</td>\n",
       "      <td>0.0</td>\n",
       "      <td>6</td>\n",
       "      <td>Dependent (reject H0)</td>\n",
       "    </tr>\n",
       "    <tr>\n",
       "      <th>Price_range &amp; Borough</th>\n",
       "      <td>186.70</td>\n",
       "      <td>0.0</td>\n",
       "      <td>21</td>\n",
       "      <td>Dependent (reject H0)</td>\n",
       "    </tr>\n",
       "  </tbody>\n",
       "</table>\n",
       "</div>"
      ],
      "text/plain": [
       "                              Statistic  p-value  DoF                 Result\n",
       "Contigency_Table                                                            \n",
       "house_type & house_size_cat      198.97      0.0    2  Dependent (reject H0)\n",
       "Price_range & house_type          89.22      0.0    3  Dependent (reject H0)\n",
       "Price_range & house_size_cat     315.92      0.0    6  Dependent (reject H0)\n",
       " Price_range & Borough           186.70      0.0   21  Dependent (reject H0)"
      ]
     },
     "execution_count": 18,
     "metadata": {},
     "output_type": "execute_result"
    }
   ],
   "source": [
    "# store results output in a dataframe\n",
    "from scipy.stats import chi2_contingency\n",
    "\n",
    "# Create empty df to store results from chi-square tests\n",
    "chi_res = pd.DataFrame(columns=['Statistic','p-value','DoF','Result'])\n",
    "alpha=0.05\n",
    "\n",
    "# Looping through each contingency table to perform chi-square test\n",
    "for i, value in enumerate(sheet_to_df_map):\n",
    "    c, p, dof, expected_freq = chi2_contingency(list(sheet_to_df_map.values())[i], correction=True)\n",
    "    if p <= alpha:\n",
    "        pp = 'Dependent (reject H0)'\n",
    "    else:\n",
    "        pp = 'Independent (fail to reject H0)'\n",
    "    lst = [round(c,2), round(p,4), dof, pp]\n",
    "    chi_res.loc[len(chi_res)] = lst\n",
    "\n",
    "# Tidy up final test result table \n",
    "chi_res.reset_index(inplace = True)\n",
    "chi_res.rename(columns = {'index':'Contigency_Table'}, inplace = True)\n",
    "\n",
    "chi_res['Contigency_Table'].replace({0: \"house_type & house_size_cat\", \n",
    "                                     1: \"Price_range & house_type\",\n",
    "                                     2: \"Price_range & house_size_cat\",\n",
    "                                     3: \" Price_range & Borough\"\n",
    "                                     },inplace=True)\n",
    "\n",
    "chi_res.set_index('Contigency_Table', inplace = True)\n",
    "chi_res"
   ]
  },
  {
   "cell_type": "markdown",
   "metadata": {},
   "source": [
    "<!-- https://neuhofmo.github.io/chi-square-and-post-hoc-in-python/ -->"
   ]
  },
  {
   "cell_type": "markdown",
   "metadata": {},
   "source": [
    "- Examined the computed variables derived from area, room, and geolocation; results showed these catgeorical variables were dependent on each other "
   ]
  },
  {
   "attachments": {},
   "cell_type": "markdown",
   "metadata": {},
   "source": [
    "**b.** Analysis of **Ordinal** features"
   ]
  },
  {
   "cell_type": "markdown",
   "metadata": {},
   "source": [
    "* No ordinal features from raw train set, although some of featured ordinal variables has been tested above  "
   ]
  },
  {
   "attachments": {},
   "cell_type": "markdown",
   "metadata": {},
   "source": [
    "**c.** Analysis of **Discrete** and **Continuous** features"
   ]
  },
  {
   "cell_type": "code",
   "execution_count": 19,
   "metadata": {},
   "outputs": [
    {
     "data": {
      "text/plain": [
       "Index(['Room', 'log_price', 'log_area', 'km_to_centre', 'Borough',\n",
       "       'house_type', 'house_size_cat'],\n",
       "      dtype='object')"
      ]
     },
     "execution_count": 19,
     "metadata": {},
     "output_type": "execute_result"
    }
   ],
   "source": [
    "# tidy up and remove columns that were duplicating\n",
    "res_dat = df_train_cleaned_geo.drop(columns=['Price', 'Area','Price_m²','Address','Zip','Lon','Lat','log_Price_m²','borough_id','Price_range'], axis=1 ) #remove raw data column before log transformation\n",
    "res_dat.columns"
   ]
  },
  {
   "cell_type": "code",
   "execution_count": 20,
   "metadata": {},
   "outputs": [
    {
     "name": "stderr",
     "output_type": "stream",
     "text": [
      "/var/folders/m6/h_c6j54j54723kby9c10j_0m0000gn/T/ipykernel_8650/1786821713.py:4: FutureWarning: The default value of numeric_only in DataFrame.corr is deprecated. In a future version, it will default to False. Select only valid columns or specify the value of numeric_only to silence this warning.\n",
      "  matrix = res_dat.corr().round(2)\n"
     ]
    },
    {
     "data": {
      "image/png": "[encoded data removed]",
      "text/plain": [
       "<Figure size 800x550 with 2 Axes>"
      ]
     },
     "metadata": {},
     "output_type": "display_data"
    }
   ],
   "source": [
    "# display(res_dat.corr())\n",
    "\n",
    "# visualise correlation matrix among variables \n",
    "matrix = res_dat.corr().round(2)\n",
    "# mask = np.triu(np.ones_like(matrix, dtype=bool))\n",
    "sns.heatmap(matrix, annot=True, vmax=1, vmin=-1, center=0, cmap='vlag')#, mask=mask)\n",
    "plt.show()"
   ]
  },
  {
   "cell_type": "markdown",
   "metadata": {},
   "source": [
    "- High correlations between Room and Area variables\n",
    "\n",
    "- There is also a negative correlation between distance to centre with log_price, indicating the further from city centre is negatively associated to log_price "
   ]
  },
  {
   "cell_type": "code",
   "execution_count": 21,
   "metadata": {},
   "outputs": [
    {
     "data": {
      "text/plain": [
       "Index(['Room', 'log_area', 'km_to_centre', 'Borough', 'house_type',\n",
       "       'house_size_cat'],\n",
       "      dtype='object')"
      ]
     },
     "execution_count": 21,
     "metadata": {},
     "output_type": "execute_result"
    }
   ],
   "source": [
    "#specify predictor and outcomes variables in the model \n",
    "y = res_dat[\"log_price\"]\n",
    "x = res_dat.drop(columns=['log_price'], axis=1 ) \n",
    "x.columns\n"
   ]
  },
  {
   "cell_type": "code",
   "execution_count": 22,
   "metadata": {},
   "outputs": [
    {
     "data": {
      "text/html": [
       "<div>\n",
       "<style scoped>\n",
       "    .dataframe tbody tr th:only-of-type {\n",
       "        vertical-align: middle;\n",
       "    }\n",
       "\n",
       "    .dataframe tbody tr th {\n",
       "        vertical-align: top;\n",
       "    }\n",
       "\n",
       "    .dataframe thead th {\n",
       "        text-align: right;\n",
       "    }\n",
       "</style>\n",
       "<table border=\"1\" class=\"dataframe\">\n",
       "  <thead>\n",
       "    <tr style=\"text-align: right;\">\n",
       "      <th></th>\n",
       "      <th>feature</th>\n",
       "      <th>VIF</th>\n",
       "    </tr>\n",
       "  </thead>\n",
       "  <tbody>\n",
       "    <tr>\n",
       "      <th>0</th>\n",
       "      <td>Room</td>\n",
       "      <td>9.520401</td>\n",
       "    </tr>\n",
       "    <tr>\n",
       "      <th>1</th>\n",
       "      <td>log_area</td>\n",
       "      <td>12.625907</td>\n",
       "    </tr>\n",
       "    <tr>\n",
       "      <th>2</th>\n",
       "      <td>km_to_centre</td>\n",
       "      <td>3.960413</td>\n",
       "    </tr>\n",
       "  </tbody>\n",
       "</table>\n",
       "</div>"
      ],
      "text/plain": [
       "        feature        VIF\n",
       "0          Room   9.520401\n",
       "1      log_area  12.625907\n",
       "2  km_to_centre   3.960413"
      ]
     },
     "execution_count": 22,
     "metadata": {},
     "output_type": "execute_result"
    }
   ],
   "source": [
    "from statsmodels.stats.outliers_influence import variance_inflation_factor\n",
    "\n",
    "numerical = x.select_dtypes([np.int64, np.float64])\n",
    "\n",
    "# VIF dataframe\n",
    "vif_data = pd.DataFrame()\n",
    "vif_data[\"feature\"] = numerical.columns\n",
    "vif_data[\"VIF\"] = [variance_inflation_factor(numerical.values, i)\n",
    "                          for i in range(len(numerical.columns))]\n",
    "\n",
    "vif_data"
   ]
  },
  {
   "cell_type": "code",
   "execution_count": 23,
   "metadata": {},
   "outputs": [
    {
     "name": "stdout",
     "output_type": "stream",
     "text": [
      "                            OLS Regression Results                            \n",
      "==============================================================================\n",
      "Dep. Variable:              log_price   R-squared:                       0.804\n",
      "Model:                            OLS   Adj. R-squared:                  0.803\n",
      "Method:                 Least Squares   F-statistic:                     749.5\n",
      "Date:                Sun, 13 Aug 2023   Prob (F-statistic):          2.91e-193\n",
      "Time:                        13:16:54   Log-Likelihood:                 8.0772\n",
      "No. Observations:                 551   AIC:                            -8.154\n",
      "Df Residuals:                     547   BIC:                             9.093\n",
      "Df Model:                           3                                         \n",
      "Covariance Type:            nonrobust                                         \n",
      "================================================================================\n",
      "                   coef    std err          t      P>|t|      [0.025      0.975]\n",
      "--------------------------------------------------------------------------------\n",
      "Intercept        9.4839      0.123     76.864      0.000       9.242       9.726\n",
      "log_area         0.9134      0.034     27.152      0.000       0.847       0.979\n",
      "Room             0.0054      0.011      0.505      0.614      -0.016       0.026\n",
      "km_to_centre    -0.0968      0.004    -22.851      0.000      -0.105      -0.088\n",
      "==============================================================================\n",
      "Omnibus:                       36.479   Durbin-Watson:                   1.413\n",
      "Prob(Omnibus):                  0.000   Jarque-Bera (JB):               79.131\n",
      "Skew:                           0.374   Prob(JB):                     6.56e-18\n",
      "Kurtosis:                       4.699   Cond. No.                         92.0\n",
      "==============================================================================\n",
      "\n",
      "Notes:\n",
      "[1] Standard Errors assume that the covariance matrix of the errors is correctly specified.\n"
     ]
    }
   ],
   "source": [
    "# Evidence supporting H1a, H1c\n",
    "import statsmodels.formula.api as smf\n",
    "lm = smf.ols(\"log_price ~ log_area + Room + km_to_centre\", data= res_dat)\n",
    "model = lm.fit()\n",
    "print(model.summary())"
   ]
  },
  {
   "cell_type": "code",
   "execution_count": 24,
   "metadata": {},
   "outputs": [
    {
     "name": "stdout",
     "output_type": "stream",
     "text": [
      "                            OLS Regression Results                            \n",
      "==============================================================================\n",
      "Dep. Variable:              log_price   R-squared:                       0.805\n",
      "Model:                            OLS   Adj. R-squared:                  0.804\n",
      "Method:                 Least Squares   F-statistic:                     752.0\n",
      "Date:                Sun, 13 Aug 2023   Prob (F-statistic):          1.38e-193\n",
      "Time:                        13:16:54   Log-Likelihood:                 8.8253\n",
      "No. Observations:                 551   AIC:                            -9.651\n",
      "Df Residuals:                     547   BIC:                             7.596\n",
      "Df Model:                           3                                         \n",
      "Covariance Type:            nonrobust                                         \n",
      "===========================================================================================\n",
      "                              coef    std err          t      P>|t|      [0.025      0.975]\n",
      "-------------------------------------------------------------------------------------------\n",
      "Intercept                   9.3598      0.114     81.812      0.000       9.135       9.585\n",
      "house_type[T.luxury_4+]    -0.0349      0.026     -1.320      0.187      -0.087       0.017\n",
      "log_area                    0.9480      0.027     35.351      0.000       0.895       1.001\n",
      "km_to_centre               -0.0959      0.004    -22.458      0.000      -0.104      -0.087\n",
      "==============================================================================\n",
      "Omnibus:                       35.391   Durbin-Watson:                   1.425\n",
      "Prob(Omnibus):                  0.000   Jarque-Bera (JB):               72.868\n",
      "Skew:                           0.380   Prob(JB):                     1.50e-16\n",
      "Kurtosis:                       4.611   Cond. No.                         74.7\n",
      "==============================================================================\n",
      "\n",
      "Notes:\n",
      "[1] Standard Errors assume that the covariance matrix of the errors is correctly specified.\n"
     ]
    }
   ],
   "source": [
    "# Reject H1b \n",
    "import statsmodels.formula.api as smf\n",
    "lm = smf.ols(\"log_price ~ log_area + house_type + km_to_centre\", data= res_dat)\n",
    "model = lm.fit()\n",
    "print(model.summary())"
   ]
  },
  {
   "cell_type": "markdown",
   "metadata": {},
   "source": [
    "- VIF detects multicollinearity in regression analysis. when including all numeric varibles in the cleaned train set, room and log_area has been all above thredsholds (i.e., >5)\n",
    "\n",
    "- In the above regression, room is not statistically significant, and given it is highly correlated with log_area, I thus remove this variable from the model. After removing it, the vif score indicated that no multicollinearity has been detected "
   ]
  },
  {
   "cell_type": "code",
   "execution_count": 25,
   "metadata": {},
   "outputs": [
    {
     "data": {
      "text/html": [
       "<div>\n",
       "<style scoped>\n",
       "    .dataframe tbody tr th:only-of-type {\n",
       "        vertical-align: middle;\n",
       "    }\n",
       "\n",
       "    .dataframe tbody tr th {\n",
       "        vertical-align: top;\n",
       "    }\n",
       "\n",
       "    .dataframe thead th {\n",
       "        text-align: right;\n",
       "    }\n",
       "</style>\n",
       "<table border=\"1\" class=\"dataframe\">\n",
       "  <thead>\n",
       "    <tr style=\"text-align: right;\">\n",
       "      <th></th>\n",
       "      <th>feature</th>\n",
       "      <th>VIF</th>\n",
       "    </tr>\n",
       "  </thead>\n",
       "  <tbody>\n",
       "    <tr>\n",
       "      <th>0</th>\n",
       "      <td>log_area</td>\n",
       "      <td>3.959582</td>\n",
       "    </tr>\n",
       "    <tr>\n",
       "      <th>1</th>\n",
       "      <td>km_to_centre</td>\n",
       "      <td>3.959582</td>\n",
       "    </tr>\n",
       "  </tbody>\n",
       "</table>\n",
       "</div>"
      ],
      "text/plain": [
       "        feature       VIF\n",
       "0      log_area  3.959582\n",
       "1  km_to_centre  3.959582"
      ]
     },
     "execution_count": 25,
     "metadata": {},
     "output_type": "execute_result"
    }
   ],
   "source": [
    "from statsmodels.stats.outliers_influence import variance_inflation_factor\n",
    "\n",
    "numerical = x[['log_area','km_to_centre']]\n",
    "\n",
    "# VIF dataframe\n",
    "vif_data = pd.DataFrame()\n",
    "vif_data[\"feature\"] = numerical.columns\n",
    "vif_data[\"VIF\"] = [variance_inflation_factor(numerical.values, i)\n",
    "                          for i in range(len(numerical.columns))]\n",
    "\n",
    "vif_data"
   ]
  },
  {
   "cell_type": "code",
   "execution_count": 26,
   "metadata": {},
   "outputs": [
    {
     "data": {
      "text/plain": [
       "Index(['Room', 'log_price', 'log_area', 'km_to_centre', 'Borough',\n",
       "       'house_type', 'house_size_cat'],\n",
       "      dtype='object')"
      ]
     },
     "execution_count": 26,
     "metadata": {},
     "output_type": "execute_result"
    }
   ],
   "source": [
    "res_dat.columns"
   ]
  },
  {
   "cell_type": "code",
   "execution_count": 27,
   "metadata": {},
   "outputs": [
    {
     "name": "stdout",
     "output_type": "stream",
     "text": [
      "                            OLS Regression Results                            \n",
      "==============================================================================\n",
      "Dep. Variable:              log_price   R-squared:                       0.871\n",
      "Model:                            OLS   Adj. R-squared:                  0.869\n",
      "Method:                 Least Squares   F-statistic:                     407.6\n",
      "Date:                Sun, 13 Aug 2023   Prob (F-statistic):          1.67e-234\n",
      "Time:                        13:16:54   Log-Likelihood:                 123.91\n",
      "No. Observations:                 551   AIC:                            -227.8\n",
      "Df Residuals:                     541   BIC:                            -184.7\n",
      "Df Model:                           9                                         \n",
      "Covariance Type:            nonrobust                                         \n",
      "=========================================================================================\n",
      "                            coef    std err          t      P>|t|      [0.025      0.975]\n",
      "-----------------------------------------------------------------------------------------\n",
      "Intercept                 9.4043      0.084    111.651      0.000       9.239       9.570\n",
      "Borough[T.Nieuw-West]    -0.3848      0.047     -8.253      0.000      -0.476      -0.293\n",
      "Borough[T.Noord]         -0.3904      0.036    -10.918      0.000      -0.461      -0.320\n",
      "Borough[T.Oost]          -0.1379      0.036     -3.819      0.000      -0.209      -0.067\n",
      "Borough[T.Weesp]         -0.2397      0.209     -1.148      0.252      -0.650       0.170\n",
      "Borough[T.West]          -0.0819      0.032     -2.584      0.010      -0.144      -0.020\n",
      "Borough[T.Zuid]           0.0525      0.036      1.459      0.145      -0.018       0.123\n",
      "Borough[T.Zuidoost]      -0.4699      0.066     -7.080      0.000      -0.600      -0.340\n",
      "km_to_centre             -0.0465      0.007     -6.435      0.000      -0.061      -0.032\n",
      "log_area                  0.9294      0.018     50.915      0.000       0.894       0.965\n",
      "==============================================================================\n",
      "Omnibus:                      127.433   Durbin-Watson:                   1.970\n",
      "Prob(Omnibus):                  0.000   Jarque-Bera (JB):              442.076\n",
      "Skew:                           1.045   Prob(JB):                     1.01e-96\n",
      "Kurtosis:                       6.859   Cond. No.                         163.\n",
      "==============================================================================\n",
      "\n",
      "Notes:\n",
      "[1] Standard Errors assume that the covariance matrix of the errors is correctly specified.\n"
     ]
    }
   ],
   "source": [
    "# Final model selection \n",
    "import statsmodels.formula.api as smf\n",
    "# lm = smf.ols(\"log_price ~  km_to_centre+ log_area\", data= res_dat)\n",
    "\n",
    "lm = smf.ols(\"log_price ~  km_to_centre+ log_area +Borough\", data= res_dat)\n",
    "model = lm.fit()\n",
    "print(model.summary())"
   ]
  },
  {
   "cell_type": "markdown",
   "metadata": {},
   "source": [
    "- Also tried with mixed effects model with random intercept as below to explore different level of price across boroughs. Results showed not the case  "
   ]
  },
  {
   "cell_type": "code",
   "execution_count": 28,
   "metadata": {},
   "outputs": [],
   "source": [
    "# boxplot = res_dat.boxplot([\"log_price\"], by = [\"Borough\"],\n",
    "#                      figsize = (16, 9),\n",
    "#                      showmeans = True,\n",
    "#                      notch = True)\n",
    "\n",
    "# boxplot.set_xlabel(\"Borough\")\n",
    "# boxplot.set_ylabel(\"log_price\")\n",
    "# boxplot.set_title('Avg log price by Borough')"
   ]
  },
  {
   "cell_type": "code",
   "execution_count": 29,
   "metadata": {},
   "outputs": [],
   "source": [
    "# import statsmodels.api as sm\n",
    "# import statsmodels.formula.api as smf\n",
    "\n",
    "# md = smf.mixedlm(\"log_price ~  log_area + km_to_centre +C(Borough)\", res_dat, \n",
    "#                  groups=res_dat[\"Borough\"])\n",
    "# mdf = md.fit()\n",
    "# print(mdf.summary())"
   ]
  },
  {
   "attachments": {},
   "cell_type": "markdown",
   "metadata": {},
   "source": [
    "**3. Identify outliers and points of high leverage and re-run statistical tests to assess their impact.** \n",
    "\n",
    "Checked this [article](https://online.stat.psu.edu/stat462/node/170/#:~:text=In%20short%3A,is%20particularly%20high%20or%20low.) to understand the difference between **outliers** and **high-leverage points**."
   ]
  },
  {
   "cell_type": "markdown",
   "metadata": {},
   "source": [
    "- [Cook's distance](https://rpubs.com/DragonflyStats/Cooks-Distance) is a commonly used estimate of the influence of a data point when performing least squares regression analysis. Below section relied on Cook's distance method to detect influential cases. \n",
    "\n",
    "<!-- (https://towardsdatascience.com/identifying-outliers-in-linear-regression-cooks-distance-9e212e9136a#:~:text=Cook's%20Distance%20is%20an%20estimate,the%20ith%20observation%20is%20removed.) -->\n"
   ]
  },
  {
   "cell_type": "code",
   "execution_count": 30,
   "metadata": {},
   "outputs": [
    {
     "data": {
      "text/plain": [
       "Index(['Room', 'log_price', 'log_area', 'km_to_centre', 'Borough',\n",
       "       'house_type', 'house_size_cat'],\n",
       "      dtype='object')"
      ]
     },
     "execution_count": 30,
     "metadata": {},
     "output_type": "execute_result"
    }
   ],
   "source": [
    "res_dat.columns"
   ]
  },
  {
   "cell_type": "code",
   "execution_count": 31,
   "metadata": {},
   "outputs": [
    {
     "name": "stdout",
     "output_type": "stream",
     "text": [
      "Index(['Room', 'log_price', 'log_area', 'km_to_centre'], dtype='object')\n"
     ]
    },
    {
     "data": {
      "image/png": "[encoded data removed]",
      "text/plain": [
       "<Figure size 800x550 with 1 Axes>"
      ]
     },
     "metadata": {},
     "output_type": "display_data"
    },
    {
     "data": {
      "text/plain": [
       "<Axes: title={'center': \"Cook's Distance Outlier Detection\"}, xlabel='instance index', ylabel='influence (I)'>"
      ]
     },
     "execution_count": 31,
     "metadata": {},
     "output_type": "execute_result"
    }
   ],
   "source": [
    "# https://lymielynn.medium.com/a-little-closer-to-cooks-distance-e8cc923a3250\n",
    "# https://stackoverflow.com/questions/51390196/how-to-calculate-cooks-distance-dffits-using-python-statsmodel \n",
    "# https://www.scikit-yb.org/en/latest/_modules/yellowbrick/regressor/influence.html?highlight=cook%27s%20distance\n",
    "\n",
    "from yellowbrick.regressor import CooksDistance\n",
    "\n",
    "df_num = res_dat.select_dtypes([int, float])\n",
    "# df_num = df_num.drop(columns=[\"Room\"], axis= 1)\n",
    "\n",
    "X = df_num.drop(columns=[\"log_price\"],axis=1)\n",
    "y = res_dat['log_price']\n",
    "\n",
    "visualizer = CooksDistance()\n",
    "visualizer.fit(X, y)\n",
    "\n",
    "print(df_num.columns)\n",
    "visualizer.show()\n",
    "\n"
   ]
  },
  {
   "cell_type": "code",
   "execution_count": 32,
   "metadata": {},
   "outputs": [
    {
     "data": {
      "image/png": "[encoded data removed]",
      "text/plain": [
       "<Figure size 800x550 with 2 Axes>"
      ]
     },
     "metadata": {},
     "output_type": "display_data"
    },
    {
     "data": {
      "text/plain": [
       "<Axes: title={'center': 'Residuals for LinearRegression Model'}, xlabel='Predicted Value', ylabel='Residuals'>"
      ]
     },
     "execution_count": 32,
     "metadata": {},
     "output_type": "execute_result"
    }
   ],
   "source": [
    "from sklearn.linear_model import LinearRegression\n",
    "from yellowbrick.regressor import ResidualsPlot\n",
    "\n",
    "model = LinearRegression()\n",
    "visualizer_residuals = ResidualsPlot(model)\n",
    "visualizer_residuals.fit(X, y)\n",
    "visualizer_residuals.show()"
   ]
  },
  {
   "cell_type": "code",
   "execution_count": 33,
   "metadata": {},
   "outputs": [
    {
     "data": {
      "image/png": "[encoded data removed]",
      "text/plain": [
       "<Figure size 800x550 with 2 Axes>"
      ]
     },
     "metadata": {},
     "output_type": "display_data"
    },
    {
     "data": {
      "text/plain": [
       "<Axes: title={'center': 'Residuals for LinearRegression Model'}, xlabel='Predicted Value', ylabel='Residuals'>"
      ]
     },
     "execution_count": 33,
     "metadata": {},
     "output_type": "execute_result"
    }
   ],
   "source": [
    "i_less_influential = (visualizer.distance_ <= visualizer.influence_threshold_)\n",
    "X_li, y_li = X[i_less_influential], y[i_less_influential]\n",
    "\n",
    "model = LinearRegression()\n",
    "visualizer_residuals = ResidualsPlot(model)\n",
    "visualizer_residuals.fit(X_li, y_li)\n",
    "visualizer_residuals.show()"
   ]
  },
  {
   "cell_type": "code",
   "execution_count": 34,
   "metadata": {},
   "outputs": [
    {
     "name": "stdout",
     "output_type": "stream",
     "text": [
      "There are 23 influential cases detected from train set\n"
     ]
    },
    {
     "data": {
      "text/html": [
       "<div>\n",
       "<style scoped>\n",
       "    .dataframe tbody tr th:only-of-type {\n",
       "        vertical-align: middle;\n",
       "    }\n",
       "\n",
       "    .dataframe tbody tr th {\n",
       "        vertical-align: top;\n",
       "    }\n",
       "\n",
       "    .dataframe thead th {\n",
       "        text-align: right;\n",
       "    }\n",
       "</style>\n",
       "<table border=\"1\" class=\"dataframe\">\n",
       "  <thead>\n",
       "    <tr style=\"text-align: right;\">\n",
       "      <th></th>\n",
       "      <th>Price</th>\n",
       "      <th>Address</th>\n",
       "      <th>Zip</th>\n",
       "      <th>Area</th>\n",
       "      <th>Room</th>\n",
       "      <th>Lon</th>\n",
       "      <th>Lat</th>\n",
       "      <th>log_price</th>\n",
       "      <th>log_area</th>\n",
       "      <th>Price_m²</th>\n",
       "      <th>log_Price_m²</th>\n",
       "      <th>km_to_centre</th>\n",
       "      <th>borough_id</th>\n",
       "      <th>Borough</th>\n",
       "      <th>house_type</th>\n",
       "      <th>house_size_cat</th>\n",
       "      <th>Price_range</th>\n",
       "      <th>influential</th>\n",
       "      <th>infl_distance</th>\n",
       "    </tr>\n",
       "  </thead>\n",
       "  <tbody>\n",
       "    <tr>\n",
       "      <th>9</th>\n",
       "      <td>285000.0</td>\n",
       "      <td>Laan van Vlaanderen 141 A2, Amsterdam</td>\n",
       "      <td>1066 MP</td>\n",
       "      <td>37</td>\n",
       "      <td>2</td>\n",
       "      <td>4.807805</td>\n",
       "      <td>52.344914</td>\n",
       "      <td>12.560244</td>\n",
       "      <td>3.610918</td>\n",
       "      <td>7702.702703</td>\n",
       "      <td>8.949327</td>\n",
       "      <td>7.360246</td>\n",
       "      <td>3</td>\n",
       "      <td>Nieuw-West</td>\n",
       "      <td>family_1-3</td>\n",
       "      <td>small</td>\n",
       "      <td>(174999.0, 350000.0]</td>\n",
       "      <td>True</td>\n",
       "      <td>0.009653</td>\n",
       "    </tr>\n",
       "    <tr>\n",
       "      <th>11</th>\n",
       "      <td>350000.0</td>\n",
       "      <td>Haag en Veld 245 B, Amsterdam</td>\n",
       "      <td>1102 GL</td>\n",
       "      <td>144</td>\n",
       "      <td>6</td>\n",
       "      <td>4.955915</td>\n",
       "      <td>52.310514</td>\n",
       "      <td>12.765688</td>\n",
       "      <td>4.969813</td>\n",
       "      <td>2430.555556</td>\n",
       "      <td>7.795875</td>\n",
       "      <td>8.521138</td>\n",
       "      <td>4</td>\n",
       "      <td>Zuidoost</td>\n",
       "      <td>luxury_4+</td>\n",
       "      <td>large</td>\n",
       "      <td>(174999.0, 350000.0]</td>\n",
       "      <td>True</td>\n",
       "      <td>0.014766</td>\n",
       "    </tr>\n",
       "    <tr>\n",
       "      <th>145</th>\n",
       "      <td>5950000.0</td>\n",
       "      <td>Keizersgracht 544, Amsterdam</td>\n",
       "      <td>1017 EL</td>\n",
       "      <td>394</td>\n",
       "      <td>10</td>\n",
       "      <td>4.887378</td>\n",
       "      <td>52.365078</td>\n",
       "      <td>15.598902</td>\n",
       "      <td>5.976351</td>\n",
       "      <td>15101.522843</td>\n",
       "      <td>9.622551</td>\n",
       "      <td>1.791381</td>\n",
       "      <td>0</td>\n",
       "      <td>Centrum</td>\n",
       "      <td>luxury_4+</td>\n",
       "      <td>large</td>\n",
       "      <td>(690000.0, 5950000.0]</td>\n",
       "      <td>True</td>\n",
       "      <td>0.144563</td>\n",
       "    </tr>\n",
       "  </tbody>\n",
       "</table>\n",
       "</div>"
      ],
      "text/plain": [
       "         Price                                Address      Zip  Area  Room  \\\n",
       "9     285000.0  Laan van Vlaanderen 141 A2, Amsterdam  1066 MP    37     2   \n",
       "11    350000.0          Haag en Veld 245 B, Amsterdam  1102 GL   144     6   \n",
       "145  5950000.0           Keizersgracht 544, Amsterdam  1017 EL   394    10   \n",
       "\n",
       "          Lon        Lat  log_price  log_area      Price_m²  log_Price_m²  \\\n",
       "9    4.807805  52.344914  12.560244  3.610918   7702.702703      8.949327   \n",
       "11   4.955915  52.310514  12.765688  4.969813   2430.555556      7.795875   \n",
       "145  4.887378  52.365078  15.598902  5.976351  15101.522843      9.622551   \n",
       "\n",
       "     km_to_centre  borough_id     Borough  house_type house_size_cat  \\\n",
       "9        7.360246           3  Nieuw-West  family_1-3          small   \n",
       "11       8.521138           4    Zuidoost   luxury_4+          large   \n",
       "145      1.791381           0     Centrum   luxury_4+          large   \n",
       "\n",
       "               Price_range  influential  infl_distance  \n",
       "9     (174999.0, 350000.0]         True       0.009653  \n",
       "11    (174999.0, 350000.0]         True       0.014766  \n",
       "145  (690000.0, 5950000.0]         True       0.144563  "
      ]
     },
     "metadata": {},
     "output_type": "display_data"
    }
   ],
   "source": [
    "# Display influential cases \n",
    "df_train_cleaned_geo['influential'] = (visualizer.distance_ > visualizer.influence_threshold_)\n",
    "df_train_cleaned_geo['infl_distance']=visualizer.distance_\n",
    "\n",
    "print(f\"There are {len(df_train_cleaned_geo[df_train_cleaned_geo['influential']==True])} influential cases detected from train set\")\n",
    "\n",
    "df_influential = df_train_cleaned_geo[df_train_cleaned_geo['influential']==True].sort_values(by='infl_distance', ascending= False)\n",
    "\n",
    "display(df_influential.sample(3))\n"
   ]
  },
  {
   "cell_type": "markdown",
   "metadata": {},
   "source": [
    "- Cook's distance results indicated that removal of influential cases does not have a significant impact on the model\n",
    "\n",
    "- See this [link](https://towardsdatascience.com/are-you-using-feature-distributions-to-detect-outliers-48e2ae3309) for other ways detecting influential cases "
   ]
  },
  {
   "attachments": {},
   "cell_type": "markdown",
   "metadata": {},
   "source": [
    "**5. If new features are created, save a new dataframe, ideally in [parquet](https://pandas.pydata.org/docs/reference/api/pandas.DataFrame.to_parquet.html) format, to retain metadata information.**\n",
    "\n",
    "💁‍♂️ If you also have the validation set, apply the same transformations and save an additional dataframe.\n",
    "\n",
    "ℹ️ `DataFrame.to_parquet()` requires [pyarrow](https://pypi.org/project/pyarrow/) and [fastparquet](https://pypi.org/project/fastparquet/) libraries."
   ]
  },
  {
   "cell_type": "code",
   "execution_count": 35,
   "metadata": {},
   "outputs": [
    {
     "name": "stdout",
     "output_type": "stream",
     "text": [
      "Python:  3.10.8\n",
      "pandas:  1.5.3\n",
      "pyarrow:  12.0.1\n"
     ]
    }
   ],
   "source": [
    "import pyarrow as pa\n",
    "import pyarrow.parquet as pq\n",
    "import fastparquet as fp\n",
    "import platform\n",
    "\n",
    "print('Python: ', platform.python_version())\n",
    "print('pandas: ', pd.__version__)\n",
    "print('pyarrow: ', pa.__version__)\n"
   ]
  },
  {
   "cell_type": "code",
   "execution_count": 36,
   "metadata": {},
   "outputs": [],
   "source": [
    "# store transformed data into parquet file\n",
    "res_dat.to_parquet('data/transformed_train_set.parquet.gzip', compression='gzip')"
   ]
  },
  {
   "cell_type": "code",
   "execution_count": 37,
   "metadata": {},
   "outputs": [
    {
     "data": {
      "text/html": [
       "<div>\n",
       "<style scoped>\n",
       "    .dataframe tbody tr th:only-of-type {\n",
       "        vertical-align: middle;\n",
       "    }\n",
       "\n",
       "    .dataframe tbody tr th {\n",
       "        vertical-align: top;\n",
       "    }\n",
       "\n",
       "    .dataframe thead th {\n",
       "        text-align: right;\n",
       "    }\n",
       "</style>\n",
       "<table border=\"1\" class=\"dataframe\">\n",
       "  <thead>\n",
       "    <tr style=\"text-align: right;\">\n",
       "      <th></th>\n",
       "      <th>Room</th>\n",
       "      <th>log_price</th>\n",
       "      <th>log_area</th>\n",
       "      <th>km_to_centre</th>\n",
       "      <th>Borough</th>\n",
       "      <th>house_type</th>\n",
       "      <th>house_size_cat</th>\n",
       "    </tr>\n",
       "  </thead>\n",
       "  <tbody>\n",
       "    <tr>\n",
       "      <th>0</th>\n",
       "      <td>3</td>\n",
       "      <td>13.361380</td>\n",
       "      <td>4.394449</td>\n",
       "      <td>4.034552</td>\n",
       "      <td>Zuid</td>\n",
       "      <td>family_1-3</td>\n",
       "      <td>medium</td>\n",
       "    </tr>\n",
       "    <tr>\n",
       "      <th>3</th>\n",
       "      <td>5</td>\n",
       "      <td>13.864301</td>\n",
       "      <td>4.779123</td>\n",
       "      <td>3.976542</td>\n",
       "      <td>Zuid</td>\n",
       "      <td>luxury_4+</td>\n",
       "      <td>large</td>\n",
       "    </tr>\n",
       "    <tr>\n",
       "      <th>21</th>\n",
       "      <td>2</td>\n",
       "      <td>12.751300</td>\n",
       "      <td>3.850148</td>\n",
       "      <td>3.499476</td>\n",
       "      <td>Zuid</td>\n",
       "      <td>family_1-3</td>\n",
       "      <td>small</td>\n",
       "    </tr>\n",
       "  </tbody>\n",
       "</table>\n",
       "</div>"
      ],
      "text/plain": [
       "    Room  log_price  log_area  km_to_centre Borough  house_type house_size_cat\n",
       "0      3  13.361380  4.394449      4.034552    Zuid  family_1-3         medium\n",
       "3      5  13.864301  4.779123      3.976542    Zuid   luxury_4+          large\n",
       "21     2  12.751300  3.850148      3.499476    Zuid  family_1-3          small"
      ]
     },
     "execution_count": 37,
     "metadata": {},
     "output_type": "execute_result"
    }
   ],
   "source": [
    "import pyarrow.parquet as pq\n",
    "import os\n",
    "\n",
    "DATA_DIR = \"data\"\n",
    "FILENAME = \"transformed_train_set.parquet.gzip\"\n",
    "\n",
    "# Extract transformed_train_set.parquet.gzip\n",
    "transformed_train_set = pd.read_parquet(\n",
    "                                        os.path.join(DATA_DIR, FILENAME),\n",
    "                                        engine='pyarrow')\n",
    "\n",
    "transformed_train_set.head(3)"
   ]
  },
  {
   "cell_type": "code",
   "execution_count": 38,
   "metadata": {},
   "outputs": [],
   "source": [
    "# Overwrite table schema for the feature engineered training set with customised specifications\n",
    "\n",
    "transformed_train_set_schema = pa.schema([\n",
    "     pa.field(\"Room\", pa.int64(), metadata={\"Description\": \"Number of rooms at residence, 1-14\",\n",
    "                                            \"Calculation\": \"No\",\n",
    "                                            \"Method\": \"Used as it is from source\",\n",
    "                                            \"Data lineage\": \"data_train.csv\",\n",
    "                                            \"Value\": \"1 to 14\"\n",
    "                                        }),\n",
    "     \n",
    "     pa.field(\"log_price\", pa.float64(), metadata={\"Description\": \"Transformed residential price in Euros from y to log(y)\",\n",
    "                                                  \"Calculation\": \"Yes\",\n",
    "                                                  \"Method\": \"log(y)\",\n",
    "                                                  \"Data lineage\": \"data_train.csv\",\n",
    "                                                  \"Value\": \"log(1.750000e+05) to log(5.950000e+06)\"\n",
    "                                               }),\n",
    "     \n",
    "     pa.field(\"log_area\", pa.float64(), metadata={\"Description\": \"Transformed residential area in square meters from x to log(x)\",\n",
    "                                                  \"Calculation\": \"Yes\",\n",
    "                                                  \"Method\": \"log(x)\",\n",
    "                                                  \"Data lineage\": \"data_train.csv\",\n",
    "                                                  \"Value\": \"log(21) to log(497)\"\n",
    "                                              }),\n",
    "     \n",
    "     pa.field(\"km_to_centre\", pa.float64(), metadata={\"Description\":\"Distance in kilometers from residence to Amsterdam Centraal Station\\\n",
    "                                                      (point reference proxy for city centre)\",\n",
    "                                                      \"Calculation\": \"Yes\",\n",
    "                                                      \"Method\": \"geopy.distance.geodesic by coordinates(Lat,Lon) and (52.379189, 4.899431)\",\n",
    "                                                      \"Data lineage\": \"data_train.csv\",\n",
    "                                                      \"Value\": \"0.35 to 11.39\"\n",
    "                                                  }),\n",
    "     \n",
    "     pa.field(\"Borough\", pa.string(), metadata={\"Description\":\"Amsterdam borough where residence is located\",\n",
    "                                                \"Calculation\": \"Yes\",\n",
    "                                                \"Method\": \"GeoPandas.sjoin by coordinates (Lon,Lat) and geometry\",\n",
    "                                                \"Data lineage\": \"https://maps.amsterdam.nl/open_geodata/ -> Stadsdelen.shp\",\n",
    "                                                \"Value\": \"Centrum, Oost, Nieuw-West, Zuidoost, Noord, West, Weesp, Zuid\"\n",
    "                                              }),\n",
    "     \n",
    "     pa.field(\"house_type\", pa.string(),  metadata={\"Description\": \"Type of residence base on number of rooms\",\n",
    "                                                    \"Calculation\": \"No\",\n",
    "                                                    \"Method\": \"Manual, qcut based on room count\",\n",
    "                                                    \"Data lineage\": \"data_train.csv\",\n",
    "                                                    \"Value\": \"'family_1-3'(326),'luxury_4+'(225)\"\n",
    "                                                    }),                                                \n",
    "     \n",
    "     pa.field(\"house_size_cat\", pa.string(),  metadata={\"Description\": \"Categorisation of house size based on Area (raw square meters)\",\n",
    "                                                        \"Calculation\": \"No\",\n",
    "                                                        \"Method\": \"Manual, qcut based on Area\",\n",
    "                                                        \"Data lineage\": \"data_train.csv\",\n",
    "                                                        \"Value\": \" 'Small'(184)->(20.0, 67.0], 'Medium'(183)->(67.0, 90.0],\\\n",
    "                                                        'Large'(184)->(90.0, 497.0]\"})\n",
    "     ],     \n",
    "                                         \n",
    "     metadata={\"Dataset Description\": \"Feature engineered training set for baseline model building\", \n",
    "               \"Dataset Name\": \"Amsterdam House Price Prediction feature engineered training set\",\n",
    "               \"Data lineage\": \"R3_statistical_inference.ipynb\",\n",
    "               \"Data source\": \"https://www.kaggle.com/datasets/thomasnibb/amsterdam-house-price-prediction\"\n",
    "            }\n",
    ")\n"
   ]
  },
  {
   "cell_type": "code",
   "execution_count": 39,
   "metadata": {},
   "outputs": [
    {
     "name": "stdout",
     "output_type": "stream",
     "text": [
      "Room: int64\n",
      "  -- field metadata --\n",
      "  Description: 'Number of rooms at residence, 1-14'\n",
      "  Calculation: 'No'\n",
      "  Method: 'Used as it is from source'\n",
      "  Data lineage: 'data_train.csv'\n",
      "  Value: '1 to 14'\n",
      "log_price: double\n",
      "  -- field metadata --\n",
      "  Description: 'Transformed residential price in Euros from y to log(y)'\n",
      "  Calculation: 'Yes'\n",
      "  Method: 'log(y)'\n",
      "  Data lineage: 'data_train.csv'\n",
      "  Value: 'log(1.750000e+05) to log(5.950000e+06)'\n",
      "log_area: double\n",
      "  -- field metadata --\n",
      "  Description: 'Transformed residential area in square meters from x to l' + 5\n",
      "  Calculation: 'Yes'\n",
      "  Method: 'log(x)'\n",
      "  Data lineage: 'data_train.csv'\n",
      "  Value: 'log(21) to log(497)'\n",
      "km_to_centre: double\n",
      "  -- field metadata --\n",
      "  Description: 'Distance in kilometers from residence to Amsterdam Centra' + 103\n",
      "  Calculation: 'Yes'\n",
      "  Method: 'geopy.distance.geodesic by coordinates(Lat,Lon) and (52.379189' + 11\n",
      "  Data lineage: 'data_train.csv'\n",
      "  Value: '0.35 to 11.39'\n",
      "Borough: string\n",
      "  -- field metadata --\n",
      "  Description: 'Amsterdam borough where residence is located'\n",
      "  Calculation: 'Yes'\n",
      "  Method: 'GeoPandas.sjoin by coordinates (Lon,Lat) and geometry'\n",
      "  Data lineage: 'https://maps.amsterdam.nl/open_geodata/ -> Stadsdelen.sh' + 1\n",
      "  Value: 'Centrum, Oost, Nieuw-West, Zuidoost, Noord, West, Weesp, Zuid'\n",
      "house_type: string\n",
      "  -- field metadata --\n",
      "  Description: 'Type of residence base on number of rooms'\n",
      "  Calculation: 'No'\n",
      "  Method: 'Manual, qcut based on room count'\n",
      "  Data lineage: 'data_train.csv'\n",
      "  Value: ''family_1-3'(326),'luxury_4+'(225)'\n",
      "house_size_cat: string\n",
      "  -- field metadata --\n",
      "  Description: 'Categorisation of house size based on Area (raw square me' + 5\n",
      "  Calculation: 'No'\n",
      "  Method: 'Manual, qcut based on Area'\n",
      "  Data lineage: 'data_train.csv'\n",
      "  Value: ' 'Small'(184)->(20.0, 67.0], 'Medium'(183)->(67.0, 90.0],      ' + 77\n",
      "-- schema metadata --\n",
      "Dataset Description: 'Feature engineered training set for baseline model ' + 8\n",
      "Dataset Name: 'Amsterdam House Price Prediction feature engineered traini' + 6\n",
      "Data lineage: 'R3_statistical_inference.ipynb'\n",
      "Data source: 'https://www.kaggle.com/datasets/thomasnibb/amsterdam-house-' + 16\n"
     ]
    }
   ],
   "source": [
    "# Read customised table schema from transformed_train_set.parquet.gzip \n",
    "print(transformed_train_set_schema)"
   ]
  },
  {
   "attachments": {},
   "cell_type": "markdown",
   "metadata": {},
   "source": [
    "**5. Generate a summary report. Below are a few bullet points you can reference:**\n",
    "<!-- - **a.** Annotate the candidate features that have shown a meaningful relationship with the target;\n",
    "- **b.** Mention any significant relationships between features that can lead to multicollinearity issues;\n",
    "- **c.** Eventual outliers and points of high leverage and their impact;\n",
    "- **d.** Anything else that is noteworthy for model training. -->\n"
   ]
  },
  {
   "cell_type": "markdown",
   "metadata": {},
   "source": [
    "- **a.** Annotate the candidate features that have shown a meaningful relationship with the target;\n",
    "\n",
    "    - log area is positively correlated with log price, whereas km_to_centre has a moderate negative correlation with log price \n",
    "\n"
   ]
  },
  {
   "cell_type": "markdown",
   "metadata": {},
   "source": [
    "- **b.** Mention any significant relationships between features that can lead to multicollinearity issues;\n",
    "\n",
    "    - Variance inflation factor (VIF) test revealed potential multicollinarity between log area and room  "
   ]
  },
  {
   "cell_type": "markdown",
   "metadata": {},
   "source": [
    "- **c.** Eventual outliers and points of high leverage and their impact;\n",
    "\n",
    "    - Cook's distance results indicated that removal of influential cases does not have a significant impact on the model"
   ]
  },
  {
   "cell_type": "markdown",
   "metadata": {},
   "source": [
    "- **d.** Anything else that is noteworthy for model training.\n",
    "\n",
    "    - Results are fairly consistent across train and validation sets. \n",
    "\n",
    "    - One caveat from current feature engineering attempt: \n",
    "    \n",
    "        - Relying on qcut to transform 'Area' and 'Room' into categorical variables may not be ideal, given those range intervals seems to change slightly across datasets. Although these variables seems not important for model training. <br>\n",
    "<br>\n",
    "    - Currently the best performing model is (Adjusted R^2 =.869):\n",
    "    \n",
    "            log(Price) = β0 + β1kmtocentre + β2log(Area) + β2 Borough + ε\n",
    "\n",
    "\n",
    "\n",
    "    <!-- $$\\text{log(Price)} = \\beta0 +\\beta1\\text{kmtocentre} + \\beta2\\text{log(Area)} + \\beta3\\text{Borough}+ \\varepsilon$$  -->\n",
    "\n",
    "\n"
   ]
  }
 ],
 "metadata": {
  "kernelspec": {
   "display_name": "my-env",
   "language": "python",
   "name": "python3"
  },
  "language_info": {
   "codemirror_mode": {
    "name": "ipython",
    "version": 3
   },
   "file_extension": ".py",
   "mimetype": "text/x-python",
   "name": "python",
   "nbconvert_exporter": "python",
   "pygments_lexer": "ipython3",
   "version": "3.10.8"
  },
  "orig_nbformat": 4
 },
 "nbformat": 4,
 "nbformat_minor": 2
}
